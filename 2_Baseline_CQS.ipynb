{
  "cells": [
    {
      "cell_type": "markdown",
      "metadata": {
        "id": "view-in-github",
        "colab_type": "text"
      },
      "source": [
        "<a href=\"https://colab.research.google.com/github/RicoStaedeli/NLP2025_CQG/blob/main/2_Baseline_CQS.ipynb\" target=\"_parent\"><img src=\"https://colab.research.google.com/assets/colab-badge.svg\" alt=\"Open In Colab\"/></a>"
      ]
    },
    {
      "metadata": {
        "id": "d44ba819438d4c7f"
      },
      "cell_type": "markdown",
      "source": [
        "# Baseline Predictions\n",
        "In this file we generate the baseline predictions"
      ],
      "id": "d44ba819438d4c7f"
    },
    {
      "cell_type": "markdown",
      "source": [
        "## Setup"
      ],
      "metadata": {
        "id": "6yd9jnEIPiXa"
      },
      "id": "6yd9jnEIPiXa"
    },
    {
      "metadata": {
        "ExecuteTime": {
          "end_time": "2025-04-28T13:09:03.252191Z",
          "start_time": "2025-04-28T13:09:02.197619Z"
        },
        "id": "56e5bbe87af65278"
      },
      "cell_type": "code",
      "source": [
        "import torch\n",
        "import transformers\n",
        "import pandas as pd\n",
        "import json\n",
        "import logging\n",
        "import tqdm\n",
        "import re\n",
        "import torch\n",
        "from getpass import getpass\n",
        "from google.colab import userdata\n",
        "import os"
      ],
      "id": "56e5bbe87af65278",
      "outputs": [],
      "execution_count": 7
    },
    {
      "cell_type": "code",
      "source": [
        "token = userdata.get('GITHUB')\n",
        "repo_url = f\"https://{token}@github.com/RicoStaedeli/NLP2025_CQG.git\"\n",
        "\n",
        "!git clone {repo_url}"
      ],
      "metadata": {
        "id": "7tOU4FCdPmop",
        "outputId": "3036aef2-ac6a-4dd9-bdcc-23918a8ec666",
        "colab": {
          "base_uri": "https://localhost:8080/"
        }
      },
      "id": "7tOU4FCdPmop",
      "execution_count": 4,
      "outputs": [
        {
          "output_type": "stream",
          "name": "stdout",
          "text": [
            "Cloning into 'NLP2025_CQG'...\n",
            "remote: Enumerating objects: 287, done.\u001b[K\n",
            "remote: Counting objects: 100% (287/287), done.\u001b[K\n",
            "remote: Compressing objects: 100% (200/200), done.\u001b[K\n",
            "remote: Total 287 (delta 115), reused 229 (delta 61), pack-reused 0 (from 0)\u001b[K\n",
            "Receiving objects: 100% (287/287), 24.01 MiB | 18.38 MiB/s, done.\n",
            "Resolving deltas: 100% (115/115), done.\n"
          ]
        }
      ]
    },
    {
      "cell_type": "code",
      "source": [
        "os.chdir(\"NLP2025_CQG\")\n",
        "!ls"
      ],
      "metadata": {
        "id": "9jACHoyYTqGU",
        "outputId": "b6cf5aad-466b-4e9d-d23b-743fa4d076ea",
        "colab": {
          "base_uri": "https://localhost:8080/"
        }
      },
      "id": "9jACHoyYTqGU",
      "execution_count": 8,
      "outputs": [
        {
          "output_type": "stream",
          "name": "stdout",
          "text": [
            "1_Preprocessing.ipynb\t      4_Evaluation_Analytics.ipynb  Logs\n",
            "2a_Baseline_Evaluation.ipynb  Data\t\t\t    README.md\n",
            "2_Baseline_CQS.ipynb\t      Development\t\t    requirements.txt\n",
            "3a_Finetuned_CQS.ipynb\t      Doc\t\t\t    Training\n",
            "3b_Finetune_Evaluation.ipynb  Evaluation\t\t    Utils\n",
            "3_Training.ipynb\t      LICENSE\n"
          ]
        }
      ]
    },
    {
      "cell_type": "code",
      "source": [
        "filename = \"test.txt\"\n",
        "with open(filename, \"w\") as file:\n",
        "    file.write(\"This is a sample file created in Google Colab.\")"
      ],
      "metadata": {
        "id": "oP_lNZm7VUmb"
      },
      "id": "oP_lNZm7VUmb",
      "execution_count": 9,
      "outputs": []
    },
    {
      "metadata": {
        "ExecuteTime": {
          "end_time": "2025-04-28T13:09:03.322602Z",
          "start_time": "2025-04-28T13:09:03.308445Z"
        },
        "id": "c97a513058176f9f"
      },
      "cell_type": "code",
      "source": [
        "################################################################################\n",
        "#######################   PATH VARIABLES        ################################\n",
        "################################################################################\n",
        "\n",
        "test_dataset_path = \"Data/Processed/test.json\"\n",
        "model_path_llama = \"Models/Meta-Llama-3.1-8B-Instruct\"\n",
        "model_path_qwen = \"Models/Qwen2.5-7B-Instruct\"\n",
        "results_path = \"Evaluation/Results/\"\n",
        "\n",
        "################################################################################\n",
        "#######################   STATIC VARIABLES      ################################\n",
        "################################################################################\n",
        "\n",
        "# Setup logger manually\n",
        "logger = logging.getLogger(__name__)\n",
        "logger.setLevel(logging.INFO)\n",
        "\n",
        "# Create file handler (only if not already added)\n",
        "if not logger.handlers:\n",
        "    fh = logging.FileHandler('Logs/baseline_predictions.log')\n",
        "    fh.setLevel(logging.INFO)\n",
        "    formatter = logging.Formatter('%(asctime)s - %(levelname)s - %(message)s')\n",
        "    fh.setFormatter(formatter)\n",
        "    logger.addHandler(fh)\n",
        "\n",
        "# Detect device\n",
        "device = torch.device(\n",
        "    \"mps\" if torch.backends.mps.is_available()\n",
        "    else \"cuda\" if torch.cuda.is_available()\n",
        "    else \"cpu\"\n",
        ")\n",
        "\n",
        "# Log the device info\n",
        "logger.info(\"--------  Start with Baseline Predictions  -------------\")\n",
        "logger.info(f'Device selected: {device}')"
      ],
      "id": "c97a513058176f9f",
      "outputs": [],
      "execution_count": null
    },
    {
      "metadata": {
        "id": "4952cbcef0d28c5e"
      },
      "cell_type": "markdown",
      "source": [
        "## Zero Shot prompting\n",
        "In this section we genererate critical questions with different pretrained vanilla models. We use this generated questions as a baseline to compare it against our results. The following models were used to generate the baseline results:\n",
        "- LLama 3.1 8B Instruct\n",
        "- Qwen 2.5 7B Instruct"
      ],
      "id": "4952cbcef0d28c5e"
    },
    {
      "metadata": {
        "ExecuteTime": {
          "end_time": "2025-04-28T13:09:03.329368Z",
          "start_time": "2025-04-28T13:09:03.327931Z"
        },
        "id": "bf7c6195fc049988"
      },
      "cell_type": "code",
      "source": [
        "models = [\n",
        "    {\n",
        "        \"name\": \"llama\",\n",
        "        \"model_id\": model_path_llama,\n",
        "        \"output_file\": results_path + \"results_zeroshot_llama_3.1-8B-instruct.json\",\n",
        "    },\n",
        "    {\n",
        "        \"name\": \"qwen\",\n",
        "        \"model_id\": model_path_qwen,\n",
        "        \"output_file\": results_path + \"results_zeroshot_qwen2.5-7b-instruction.json\",\n",
        "    },\n",
        "]"
      ],
      "id": "bf7c6195fc049988",
      "outputs": [],
      "execution_count": null
    },
    {
      "metadata": {
        "ExecuteTime": {
          "end_time": "2025-04-28T13:09:03.336218Z",
          "start_time": "2025-04-28T13:09:03.333873Z"
        },
        "id": "78fe3efac7ef7507"
      },
      "cell_type": "code",
      "source": [
        "def structure_output(whole_text):\n",
        "    cqs_list = whole_text.split('\\n')\n",
        "    final = []\n",
        "    valid = []\n",
        "    not_valid = []\n",
        "    for cq in cqs_list:\n",
        "        if re.match(r'.*\\?(\\\")?( )?(\\([a-zA-Z0-9\\.\\'-\\,\\? ]*\\))?([a-zA-Z \\.,\\\"\\']*)?(\\\")?$', cq):\n",
        "            valid.append(cq)\n",
        "        else:\n",
        "            not_valid.append(cq)\n",
        "\n",
        "    still_not_valid = []\n",
        "    for text in not_valid:\n",
        "        new_cqs = re.split(r'\\?\\\"', text + 'end')\n",
        "        if len(new_cqs) > 1:\n",
        "            for cq in new_cqs[:-1]:\n",
        "                valid.append(cq + '?\"')\n",
        "        else:\n",
        "            still_not_valid.append(text)\n",
        "\n",
        "    for i, cq in enumerate(valid):\n",
        "        occurrence = re.search(r'[A-Z]', cq)\n",
        "        if occurrence:\n",
        "            final.append(cq[occurrence.start():])\n",
        "        else:\n",
        "            continue\n",
        "\n",
        "    output = []\n",
        "    if len(final) >= 3:\n",
        "        for i in [0, 1, 2]:\n",
        "            output.append({'id': i, 'cq': final[i]})\n",
        "        return output\n",
        "    else:\n",
        "        return 'Missing CQs'"
      ],
      "id": "78fe3efac7ef7507",
      "outputs": [],
      "execution_count": null
    },
    {
      "metadata": {
        "ExecuteTime": {
          "end_time": "2025-04-28T13:09:03.343401Z",
          "start_time": "2025-04-28T13:09:03.341277Z"
        },
        "id": "47ea9cea4c0cd2"
      },
      "cell_type": "code",
      "source": [
        "def generate_critical_questions(pipe, model_name, intervention_text):\n",
        "    prompt = f\"\"\"Suggest 3 critical questions that should be raised before accepting the arguments in this text:\\n\\n\\\"{intervention_text}\\\"\\n\\nGive one question per line. Make the questions simple, and do not give any explanation regarding why the question is relevant.\"\"\"\n",
        "\n",
        "    messages = [\n",
        "        {\"role\": \"system\", \"content\": \"You are a helpful assistant.\"},\n",
        "        {\"role\": \"user\", \"content\": prompt}\n",
        "    ]\n",
        "\n",
        "    outputs = pipe(\n",
        "        messages,\n",
        "        max_new_tokens=512,\n",
        "        do_sample=True,\n",
        "        temperature=0.6,\n",
        "        top_p=0.9,\n",
        "    )\n",
        "\n",
        "    if model_name == \"llama\":\n",
        "        assistant_response = outputs[0][\"generated_text\"][-1][\"content\"]\n",
        "    elif model_name == \"qwen\":\n",
        "        assistant_response = outputs[0][\"generated_text\"]\n",
        "        if isinstance(assistant_response, list):\n",
        "            assistant_response = \"\\n\".join([m[\"content\"] for m in assistant_response if isinstance(m, dict) and \"content\" in m])\n",
        "    else:\n",
        "        raise ValueError(f\"Unsupported model name: {model_name}\")\n",
        "\n",
        "    structured = structure_output(assistant_response)\n",
        "    return structured"
      ],
      "id": "47ea9cea4c0cd2",
      "outputs": [],
      "execution_count": null
    },
    {
      "metadata": {
        "ExecuteTime": {
          "end_time": "2025-04-28T13:10:00.276385Z",
          "start_time": "2025-04-28T13:09:03.348478Z"
        },
        "id": "c11398ffa3b79880",
        "outputId": "2ab63b6d-b53d-4273-9173-07056487217a",
        "colab": {
          "referenced_widgets": [
            "4c6bf4de2c2f4702be550af5bd721369",
            "e10458d721a34d2ebea0977291fdf8b7"
          ]
        }
      },
      "cell_type": "code",
      "source": [
        "with open(test_dataset_path, 'r') as f:\n",
        "    data = json.load(f)\n",
        "\n",
        "for model in models:\n",
        "    print(f\"Loading model: {model['model_id']}\")\n",
        "    logger.info(f\"Loading model: {model['model_id']}\")\n",
        "\n",
        "    tokenizer = transformers.AutoTokenizer.from_pretrained(model[\"model_id\"])\n",
        "    pipe = transformers.pipeline(\n",
        "        \"text-generation\",\n",
        "        model=model[\"model_id\"],\n",
        "        model_kwargs={\"torch_dtype\": torch.bfloat16},\n",
        "        device=device,\n",
        "        pad_token_id=tokenizer.eos_token_id,\n",
        "    )\n",
        "\n",
        "    output_data = []\n",
        "\n",
        "    for item_id, item in data.items():\n",
        "        intervention_text = item[\"intervention\"]\n",
        "        questions = generate_critical_questions(pipe, model[\"name\"], intervention_text)\n",
        "\n",
        "        output_entry = {\n",
        "             item_id: {\n",
        "                 \"cqs\": questions\n",
        "             }\n",
        "        }\n",
        "        logger.info(f\"Generated {item_id}: {questions}\")\n",
        "        output_data.append(output_entry)\n",
        "\n",
        "    with open(model[\"output_file\"], 'w') as f:\n",
        "        json.dump(output_data, f, indent=2)\n",
        "\n",
        "    logger.info(f\"Output saved to {model['output_file']}\")"
      ],
      "id": "c11398ffa3b79880",
      "outputs": [
        {
          "name": "stdout",
          "output_type": "stream",
          "text": [
            "Loading model: Models/Meta-Llama-3.1-8B-Instruct\n"
          ]
        },
        {
          "data": {
            "text/plain": [
              "Loading checkpoint shards:   0%|          | 0/4 [00:00<?, ?it/s]"
            ],
            "application/vnd.jupyter.widget-view+json": {
              "version_major": 2,
              "version_minor": 0,
              "model_id": "4c6bf4de2c2f4702be550af5bd721369"
            }
          },
          "metadata": {},
          "output_type": "display_data"
        },
        {
          "name": "stderr",
          "output_type": "stream",
          "text": [
            "Device set to use mps\n",
            "Sliding Window Attention is enabled but not implemented for `sdpa`; unexpected results may be encountered.\n"
          ]
        },
        {
          "name": "stdout",
          "output_type": "stream",
          "text": [
            "Loading model: Models/Qwen2.5-7B-Instruct\n"
          ]
        },
        {
          "data": {
            "text/plain": [
              "Loading checkpoint shards:   0%|          | 0/4 [00:00<?, ?it/s]"
            ],
            "application/vnd.jupyter.widget-view+json": {
              "version_major": 2,
              "version_minor": 0,
              "model_id": "e10458d721a34d2ebea0977291fdf8b7"
            }
          },
          "metadata": {},
          "output_type": "display_data"
        },
        {
          "name": "stderr",
          "output_type": "stream",
          "text": [
            "Device set to use mps\n"
          ]
        }
      ],
      "execution_count": null
    },
    {
      "cell_type": "markdown",
      "source": [
        "## Commit & Push"
      ],
      "metadata": {
        "id": "Pqf89mWeUFAl"
      },
      "id": "Pqf89mWeUFAl"
    },
    {
      "cell_type": "code",
      "source": [
        "!git config --global user.name \"Rico Städeli\"\n",
        "!git config --global user.email \"rico@yabriga.ch\""
      ],
      "metadata": {
        "id": "229p1fTlVjw2"
      },
      "id": "229p1fTlVjw2",
      "execution_count": 11,
      "outputs": []
    },
    {
      "cell_type": "code",
      "source": [
        "commit_message = \"your commit message\"\n",
        "!git add .\n",
        "!git commit -m \"{commit_message}\"\n",
        "!git push"
      ],
      "metadata": {
        "id": "yDYJfL1_UEg-",
        "outputId": "31fe9b21-4010-430a-9728-72072de82f98",
        "colab": {
          "base_uri": "https://localhost:8080/"
        }
      },
      "id": "yDYJfL1_UEg-",
      "execution_count": 12,
      "outputs": [
        {
          "output_type": "stream",
          "name": "stdout",
          "text": [
            "[main 89f1f3d] your commit message\n",
            " 1 file changed, 1 insertion(+)\n",
            " create mode 100644 test.txt\n",
            "Enumerating objects: 4, done.\n",
            "Counting objects: 100% (4/4), done.\n",
            "Delta compression using up to 2 threads\n",
            "Compressing objects: 100% (2/2), done.\n",
            "Writing objects: 100% (3/3), 320 bytes | 320.00 KiB/s, done.\n",
            "Total 3 (delta 1), reused 0 (delta 0), pack-reused 0\n",
            "remote: Resolving deltas: 100% (1/1), completed with 1 local object.\u001b[K\n",
            "To https://github.com/RicoStaedeli/NLP2025_CQG.git\n",
            "   ab4c2ae..89f1f3d  main -> main\n"
          ]
        }
      ]
    }
  ],
  "metadata": {
    "colab": {
      "provenance": [],
      "include_colab_link": true
    },
    "language_info": {
      "name": "python"
    },
    "kernelspec": {
      "name": "python3",
      "display_name": "Python 3"
    }
  },
  "nbformat": 4,
  "nbformat_minor": 5
}