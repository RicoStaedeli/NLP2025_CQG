{
 "cells": [
  {
   "metadata": {},
   "cell_type": "markdown",
   "source": [
    "# Model 1\n",
    "In this notebook we train the following model:\n",
    "- Name: LLaMA 3\n",
    "- Parameters:\n",
    "- Vendor: Meta"
   ],
   "id": "9d7916e39c5aac3c"
  },
  {
   "cell_type": "code",
   "id": "initial_id",
   "metadata": {
    "collapsed": true,
    "ExecuteTime": {
     "end_time": "2025-04-18T08:55:58.868766Z",
     "start_time": "2025-04-18T08:55:58.864371Z"
    }
   },
   "source": "TRAINING_NUMBER = 1",
   "outputs": [],
   "execution_count": 1
  },
  {
   "metadata": {
    "ExecuteTime": {
     "end_time": "2025-04-18T08:55:58.890982Z",
     "start_time": "2025-04-18T08:55:58.886319Z"
    }
   },
   "cell_type": "code",
   "source": "print(f\"Training number: {TRAINING_NUMBER} successfully completed\")",
   "id": "a4c06f33e3a27a6f",
   "outputs": [
    {
     "name": "stdout",
     "output_type": "stream",
     "text": [
      "Training number: 1 successfully completed\n"
     ]
    }
   ],
   "execution_count": 2
  }
 ],
 "metadata": {
  "kernelspec": {
   "display_name": "Python 3",
   "language": "python",
   "name": "python3"
  },
  "language_info": {
   "codemirror_mode": {
    "name": "ipython",
    "version": 2
   },
   "file_extension": ".py",
   "mimetype": "text/x-python",
   "name": "python",
   "nbconvert_exporter": "python",
   "pygments_lexer": "ipython2",
   "version": "2.7.6"
  }
 },
 "nbformat": 4,
 "nbformat_minor": 5
}
