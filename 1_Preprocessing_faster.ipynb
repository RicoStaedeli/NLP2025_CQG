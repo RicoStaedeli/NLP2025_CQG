{
  "cells": [
    {
      "cell_type": "markdown",
      "metadata": {
        "id": "view-in-github",
        "colab_type": "text"
      },
      "source": [
        "<a href=\"https://colab.research.google.com/github/RicoStaedeli/NLP2025_CQG/blob/main/1_Preprocessing_faster.ipynb\" target=\"_parent\"><img src=\"https://colab.research.google.com/assets/colab-badge.svg\" alt=\"Open In Colab\"/></a>"
      ]
    },
    {
      "metadata": {
        "id": "ea5047c0b73859ef"
      },
      "cell_type": "markdown",
      "source": [
        "<a href=\"https://colab.research.google.com/github/RicoStaedeli/NLP2025_CQG/blob/main/1_Preprocessing.ipynb\" target=\"_parent\"><img src=\"https://colab.research.google.com/assets/colab-badge.svg\" alt=\"Open In Colab\"/></a>"
      ],
      "id": "ea5047c0b73859ef"
    },
    {
      "metadata": {
        "id": "2ecc99f084d1f1f5"
      },
      "cell_type": "markdown",
      "source": [
        "# Final preprocessing of full data set for 4 question types (! STRONG threshold here!)"
      ],
      "id": "2ecc99f084d1f1f5"
    },
    {
      "metadata": {
        "id": "427efc26daba8f64"
      },
      "cell_type": "markdown",
      "source": [
        "## Setup\n",
        "First we define some constant values and also install all needed libraries"
      ],
      "id": "427efc26daba8f64"
    },
    {
      "metadata": {
        "id": "8c9569b5241bfa88"
      },
      "cell_type": "markdown",
      "source": [
        "### Installation"
      ],
      "id": "8c9569b5241bfa88"
    },
    {
      "metadata": {
        "ExecuteTime": {
          "end_time": "2025-05-29T08:26:38.552837Z",
          "start_time": "2025-05-29T08:26:33.453064Z"
        },
        "colab": {
          "base_uri": "https://localhost:8080/"
        },
        "id": "527b4b9300213a9e",
        "outputId": "7896fcdd-856a-4294-a74d-47a6ce93dcf4"
      },
      "cell_type": "code",
      "source": [
        "import plotly.graph_objects as go\n",
        "from collections import Counter\n",
        "import pandas as pd\n",
        "import spacy\n",
        "import nltk\n",
        "from nltk.corpus import framenet as fn\n",
        "from nltk.corpus import wordnet as wn\n",
        "import logging\n",
        "import os\n",
        "from transformers import AutoTokenizer\n",
        "\n",
        "nltk.download('wordnet')\n",
        "nltk.download('framenet_v17')\n",
        "nlp = spacy.load(\"en_core_web_sm\")"
      ],
      "id": "527b4b9300213a9e",
      "outputs": [
        {
          "output_type": "stream",
          "name": "stderr",
          "text": [
            "[nltk_data] Downloading package wordnet to /root/nltk_data...\n",
            "[nltk_data] Downloading package framenet_v17 to /root/nltk_data...\n",
            "[nltk_data]   Unzipping corpora/framenet_v17.zip.\n"
          ]
        }
      ],
      "execution_count": 1
    },
    {
      "cell_type": "markdown",
      "source": [
        "### Colab\n",
        "This part is only relevant when using the notebook in google colab"
      ],
      "metadata": {
        "id": "tsQe0KZ2KVIe"
      },
      "id": "tsQe0KZ2KVIe"
    },
    {
      "cell_type": "code",
      "source": [
        "from google.colab import userdata, drive"
      ],
      "metadata": {
        "id": "GZvlcNbJKYhR"
      },
      "id": "GZvlcNbJKYhR",
      "execution_count": 2,
      "outputs": []
    },
    {
      "metadata": {
        "id": "a2ab1dead67d524a"
      },
      "cell_type": "markdown",
      "source": [
        "Clone GitHub Repository to directly push generated files"
      ],
      "id": "a2ab1dead67d524a"
    },
    {
      "metadata": {
        "colab": {
          "base_uri": "https://localhost:8080/"
        },
        "id": "a05e2a7ab9f959f5",
        "outputId": "b19bd40b-2dbe-4b54-e2ad-13d9c18c8963"
      },
      "cell_type": "code",
      "outputs": [
        {
          "output_type": "stream",
          "name": "stdout",
          "text": [
            "Cloning into 'NLP2025_CQG'...\n",
            "remote: Enumerating objects: 1584, done.\u001b[K\n",
            "remote: Counting objects: 100% (232/232), done.\u001b[K\n",
            "remote: Compressing objects: 100% (119/119), done.\u001b[K\n",
            "remote: Total 1584 (delta 175), reused 137 (delta 112), pack-reused 1352 (from 2)\u001b[K\n",
            "Receiving objects: 100% (1584/1584), 55.23 MiB | 21.52 MiB/s, done.\n",
            "Resolving deltas: 100% (905/905), done.\n"
          ]
        }
      ],
      "execution_count": 3,
      "source": [
        "token = userdata.get('GITHUB')\n",
        "repo_url = f\"https://{token}@github.com/RicoStaedeli/NLP2025_CQG.git\"\n",
        "\n",
        "!git clone {repo_url}"
      ],
      "id": "a05e2a7ab9f959f5"
    },
    {
      "metadata": {
        "id": "d125fb8e5c848adc"
      },
      "cell_type": "markdown",
      "source": [
        "### Path Variables and Logger"
      ],
      "id": "d125fb8e5c848adc"
    },
    {
      "metadata": {
        "id": "19748da5750143b1"
      },
      "cell_type": "code",
      "outputs": [],
      "execution_count": 4,
      "source": [
        "################################################################################\n",
        "#######################   STATIC VARIABLES      ################################\n",
        "################################################################################\n",
        "\n",
        "MIN_CONTEXT_LENGTH = 25\n",
        "TRESHHOLD_STRONG = 7\n",
        "TRESHHOLD_WEAK = 4\n",
        "\n",
        "################################################################################\n",
        "#######################   PATH VARIABLES        ################################\n",
        "################################################################################\n",
        "\n",
        "raw_socratiq_chunk_1_path = \"/content/NLP2025_CQG/Data/Raw/SocraticQ/train_chunk_I.csv\"\n",
        "raw_socratiq_chunk_2_path = \"/content/NLP2025_CQG/Data/Raw/SocraticQ/train_chunk_II.csv\"\n",
        "raw_socratiq_chunk_3_path = \"/content/NLP2025_CQG/Data/Raw/SocraticQ/train_chunk_III.csv\"\n",
        "\n",
        "processed_sft_dataset_path = \"/content/NLP2025_CQG/Data/Processed/CQ SFT Dataset.json\"\n",
        "processed_dpo_dataset_path = \"/content/NLP2025_CQG/Data/Processed/CQ DPO Dataset.json\"\n",
        "processed_full_dataset_path = \"/content/NLP2025_CQG/Data/Processed/CQ FULL Dataset.json\"\n",
        "\n",
        "log_file_path = f\"/content/NLP2025_CQG/Logs/data_preprocessing.log\"\n",
        "\n",
        "\n",
        "################################################################################\n",
        "#######################   LOGGER                ################################\n",
        "################################################################################\n",
        "\n",
        "# Setup logger manually\n",
        "logger = logging.getLogger(__name__)\n",
        "logger.setLevel(logging.INFO)\n",
        "\n",
        "# Create file handler (only if not already added)\n",
        "if not logger.handlers:\n",
        "    fh = logging.FileHandler(log_file_path)\n",
        "    fh.setLevel(logging.INFO)\n",
        "    formatter = logging.Formatter('%(asctime)s - %(levelname)s - %(message)s')\n",
        "    fh.setFormatter(formatter)\n",
        "    logger.addHandler(fh)"
      ],
      "id": "19748da5750143b1"
    },
    {
      "metadata": {
        "id": "b93046409c27c0f1"
      },
      "cell_type": "markdown",
      "source": [
        "## Preprocessing"
      ],
      "id": "b93046409c27c0f1"
    },
    {
      "metadata": {
        "id": "c6c79537bcba2f9a"
      },
      "cell_type": "markdown",
      "source": [
        "### lentgh filtering\n",
        "In this step we filter all very small questions from the dataset."
      ],
      "id": "c6c79537bcba2f9a"
    },
    {
      "metadata": {
        "colab": {
          "base_uri": "https://localhost:8080/",
          "height": 281,
          "referenced_widgets": [
            "e56076a31ec44f3988a5662bb52785d3",
            "972caa72d5374368a6dcee9950aa9ddd",
            "29965200bb69485bb8f6ad92483b4b15",
            "3a55cabc4e7043f5a5ee1c1bc81ae627",
            "0f66fe3e8e1b402398cda78dda8e44ce",
            "cb3fd0cb4b714d5aa674e178ae7e6e7c",
            "9e88f23498f9440e946c0974c5cb61f4",
            "f0180327052e44de8c436dbd518c7011",
            "1acf6e93f1a844f98e65f71829292895",
            "9a0b2c83d0384c1e9f1bef85cc627166",
            "e5c36eb238064361a923daa1d0bcf41b",
            "0d55a00de31e4b10b48656117aaca81e",
            "b362dd4d079f44fbb09ba57e320b32cf",
            "56e552d46dff44daa0e22e5ae91b4740",
            "93bb04bf13544c5599f602cf5e8cb9d3",
            "6d99a2bf4a05490687d82e394e689b4f",
            "1665b53f255e42cf9dd2bdd711f19f74",
            "b275347fefa1470eb253851d382598ef",
            "bd94e97ef049465ab94c33070162cd24",
            "1a18d218196a4a96872e060ff0797a25",
            "2638ce9774a8422db2599798da7650b3",
            "a8f84147099241d8b9e90b725ffbda61",
            "7fb6e9c03ec84ab8a6dfcc703f93d7d6",
            "00c251da5ae54798b8e41a2b14f10ca7",
            "33e09dd052d44a1380243d0f2dd421a2",
            "62871394b4e942c7ac16245d17fb158e",
            "600d593dce454627a313867f2a407f87",
            "fe0a6d6935ce42489dac077e348fa255",
            "e9cd3df8e97e47bdb655b6bc8aeaae45",
            "8d28ae45b1714cfdbc54fe93e32a0a6d",
            "d3681da3eb2740d789f14ad9a14e14f9",
            "95761a082bfc4ff1b304036061949236",
            "f7696399729345b2ac8dbb9711456433",
            "a4371ead22e14482b81eeb5744b1b5c7",
            "3a98aa0016b5481ba6c65b2bde082fc6",
            "ab5dc846358a45b09d1460b1c4cceacc",
            "dec4541ff2b94e47ae4448602ebe68d6",
            "1796830c02954c5ea01cfd32a012e4e9",
            "ed87c228847e481a88d4f0995d00e110",
            "10246ecac0b84073bed98d72169a023f",
            "fa20ead3f3dc45c7b7458785c341da77",
            "2c523e41d7cb456ea510a0c0ae74c455",
            "93ed1d66b345482092c92e810c35164e",
            "b5089376404d4119ad0fe1dcb8b62b44"
          ]
        },
        "id": "e105af9fdae043c8",
        "outputId": "239bac62-fc43-42ee-d612-8bd16860bce3"
      },
      "cell_type": "code",
      "outputs": [
        {
          "output_type": "stream",
          "name": "stderr",
          "text": [
            "INFO:__main__:Start Preprocessing...\n",
            "INFO:__main__:Treshhold Strong: 7\n",
            "INFO:__main__:Treshhold Weak: 4\n",
            "INFO:__main__:Start length filtering with min context size: 25\n"
          ]
        },
        {
          "output_type": "display_data",
          "data": {
            "text/plain": [
              "tokenizer_config.json:   0%|          | 0.00/48.0 [00:00<?, ?B/s]"
            ],
            "application/vnd.jupyter.widget-view+json": {
              "version_major": 2,
              "version_minor": 0,
              "model_id": "e56076a31ec44f3988a5662bb52785d3"
            }
          },
          "metadata": {}
        },
        {
          "output_type": "display_data",
          "data": {
            "text/plain": [
              "config.json:   0%|          | 0.00/570 [00:00<?, ?B/s]"
            ],
            "application/vnd.jupyter.widget-view+json": {
              "version_major": 2,
              "version_minor": 0,
              "model_id": "0d55a00de31e4b10b48656117aaca81e"
            }
          },
          "metadata": {}
        },
        {
          "output_type": "display_data",
          "data": {
            "text/plain": [
              "vocab.txt:   0%|          | 0.00/232k [00:00<?, ?B/s]"
            ],
            "application/vnd.jupyter.widget-view+json": {
              "version_major": 2,
              "version_minor": 0,
              "model_id": "7fb6e9c03ec84ab8a6dfcc703f93d7d6"
            }
          },
          "metadata": {}
        },
        {
          "output_type": "display_data",
          "data": {
            "text/plain": [
              "tokenizer.json:   0%|          | 0.00/466k [00:00<?, ?B/s]"
            ],
            "application/vnd.jupyter.widget-view+json": {
              "version_major": 2,
              "version_minor": 0,
              "model_id": "a4371ead22e14482b81eeb5744b1b5c7"
            }
          },
          "metadata": {}
        },
        {
          "output_type": "stream",
          "name": "stderr",
          "text": [
            "INFO:__main__:Total rows: 84585\n",
            "INFO:__main__:Rows after filtering: 83314\n"
          ]
        },
        {
          "output_type": "stream",
          "name": "stdout",
          "text": [
            "Total rows: 84585\n",
            "Rows after filtering: 83314\n"
          ]
        }
      ],
      "execution_count": 5,
      "source": [
        "logger.info(\"Start Preprocessing...\")\n",
        "logger.info(f\"Treshhold Strong: {TRESHHOLD_STRONG}\")\n",
        "logger.info(f\"Treshhold Weak: {TRESHHOLD_WEAK}\")\n",
        "logger.info(f\"Start length filtering with min context size: {MIN_CONTEXT_LENGTH}\")\n",
        "\n",
        "tokenizer = AutoTokenizer.from_pretrained(\"bert-base-uncased\")\n",
        "\n",
        "# Define paths to the input files\n",
        "input_files = [\n",
        "    raw_socratiq_chunk_1_path,\n",
        "    raw_socratiq_chunk_2_path,\n",
        "    raw_socratiq_chunk_3_path\n",
        "]\n",
        "\n",
        "# Load and combine all CSVs\n",
        "dataframes = []\n",
        "for file_path in input_files:\n",
        "    df = pd.read_csv(\n",
        "        file_path,\n",
        "        names=[\"category\", \"context\", \"question\"]\n",
        "    )\n",
        "    dataframes.append(df)\n",
        "\n",
        "combined_df = pd.concat(dataframes, ignore_index=True)\n",
        "\n",
        "\n",
        "### Only for debuging purpose\n",
        "# combined_df = combined_df.head(200).copy()\n",
        "\n",
        "# Compute context token lengths\n",
        "combined_df[\"context_token_len\"] = combined_df[\"context\"].astype(str).apply(\n",
        "    lambda x: len(tokenizer.encode(x, truncation=False))\n",
        ")\n",
        "\n",
        "# Filter rows with context token length >= 25\n",
        "filtered_df = combined_df[combined_df[\"context_token_len\"] >= MIN_CONTEXT_LENGTH].copy()\n",
        "\n",
        "# Print stats\n",
        "print(f\"Total rows: {len(combined_df)}\")\n",
        "print(f\"Rows after filtering: {len(filtered_df)}\")\n",
        "logger.info(f\"Total rows: {len(combined_df)}\")\n",
        "logger.info(f\"Rows after filtering: {len(filtered_df)}\")\n",
        "\n",
        "# Save to new CSV\n",
        "#filtered_df.to_csv(\"filtered_socraticq.csv\", index=False)"
      ],
      "id": "e105af9fdae043c8"
    },
    {
      "metadata": {
        "id": "3160b0fc6cf9fa5b"
      },
      "cell_type": "markdown",
      "source": [
        "### Argumentative schmeme scoring\n",
        "In this section each entry in the dataset is scored and evaluated according four different argumentative schemes"
      ],
      "id": "3160b0fc6cf9fa5b"
    },
    {
      "metadata": {
        "id": "59f3dbbc12863ec"
      },
      "cell_type": "markdown",
      "source": [
        "#### 1. cause to effect"
      ],
      "id": "59f3dbbc12863ec"
    },
    {
      "metadata": {
        "id": "93410b8f08242699"
      },
      "cell_type": "code",
      "outputs": [],
      "execution_count": 6,
      "source": [
        "def get_causal_verbs_from_framenet():\n",
        "    causal_frame_names = [\n",
        "        \"Causation\", \"Cause_change\", \"Cause_change_of_position_on_a_scale\",\n",
        "        \"Cause_motion\", \"Cause_to_amalgamate\", \"Cause_to_start\", \"Cause_to_make_progress\",\n",
        "        \"Causation_scenario\", \"Cause_to_end\", \"Cause_to_resume\",\n",
        "        \"Cause_to_continue\", \"Cause_change_of_consistency\",\"Cause_expansion\",\"Cause_impact\"\n",
        "    ]\n",
        "\n",
        "    causal_verbs = set()\n",
        "    for frame_name in causal_frame_names:\n",
        "        try:\n",
        "            frame = fn.frame_by_name(frame_name)\n",
        "            for lu in frame.lexUnit.values():\n",
        "                if '.v' in lu['name']:  # Only verbs\n",
        "                    causal_verbs.add(lu['name'].split('.')[0])\n",
        "        except Exception as e:\n",
        "            print(f\"Error loading frame '{frame_name}': {e}\")\n",
        "\n",
        "    return causal_verbs\n",
        "\n",
        "\n",
        "causal_meta_terms = {\"generalisation\", \"implies\", \"entail\", \"necessitate\", \"follow from\", \"inference\"}\n",
        "alternative_factor_terms = {\"factor\", \"interfere\", \"influence\", \"affect\", \"contribute\", \"complicate\"}\n",
        "\n",
        "\n",
        "def detect_cause_to_effect(sentence):\n",
        "    doc = nlp(sentence)\n",
        "    explanations = []\n",
        "    score = 0\n",
        "\n",
        "    causal_verbs = get_causal_verbs_from_framenet()\n",
        "\n",
        "    has_condition = any(tok.dep_ == \"mark\" and tok.text.lower() in {\"if\", \"when\"} for tok in doc)\n",
        "    if has_condition:\n",
        "        explanations.append(\"✓ Conditional clause detected (e.g., 'if', 'when')\")\n",
        "        score += 3\n",
        "\n",
        "    has_advcl = any(tok.dep_ == \"advcl\" for tok in doc)\n",
        "    if has_advcl:\n",
        "        explanations.append(\"✓ Adverbial clause (likely effect clause) detected\")\n",
        "        score += 2\n",
        "\n",
        "    has_causal_verb_structure = False\n",
        "    for tok in doc:\n",
        "        if tok.lemma_ in causal_verbs and tok.pos_ == \"VERB\":\n",
        "            subj = any(child.dep_ == \"nsubj\" for child in tok.children)\n",
        "            obj = any(child.dep_ == \"dobj\" for child in tok.children)\n",
        "            prep = any(child.dep_ == \"prep\" for child in tok.children)\n",
        "            if subj or obj or prep:\n",
        "                has_causal_verb_structure = True\n",
        "                explanations.append(\n",
        "                    f\"✓ Verb '{tok.lemma_}' is listed in FrameNet under causal frames with subject/object/prep\"\n",
        "                )\n",
        "                score += 3\n",
        "                if subj: score += 0.5\n",
        "                if obj: score += 0.5\n",
        "                if prep: score += 0.5\n",
        "                break\n",
        "\n",
        "    if any(tok.lemma_ in causal_meta_terms for tok in doc):\n",
        "      explanations.append(\"✓ Causal generalisation or implication term detected (e.g., 'implies', 'generalisation')\")\n",
        "      score += 1\n",
        "\n",
        "    if any(tok.lemma_ in alternative_factor_terms for tok in doc):\n",
        "      explanations.append(\"✓ Terms indicating alternative causes or interfering factors detected\")\n",
        "      score += 1\n",
        "\n",
        "    is_causal = has_condition and has_advcl or has_causal_verb_structure\n",
        "    if not is_causal:\n",
        "        causal_phrases = [\"result in\", \"lead to\", \"may cause\", \"because of\", \"due to\",\"given rise to\",\"resulting from\", \"stemming from\", \"driven by\", \"caused by\", \"attributed to\", \"stems from\", \"reason\", \"result of\", \"consequence of\", \"owning to\", \"thus\", \"so\", \"therefore\", \"hence\"  \"thereby\"]\n",
        "        if any(phrase in sentence.lower() for phrase in causal_phrases):\n",
        "            explanations.append(\"✓ Phrase pattern matches known cause-to-effect trigger\")\n",
        "            score += 2\n",
        "\n",
        "    score = min(score, 10)\n",
        "    label = \"Strong CauseToEffect\" if score >= TRESHHOLD_STRONG else \"Weak/Partial CauseToEffect\" if score >= TRESHHOLD_WEAK else \"Not CauseToEffect\"\n",
        "    logger.info(f\"CauseToEffect --> Score: {score}, Label: {label}, Explanations: {explanations}\")\n",
        "    return label, score, explanations"
      ],
      "id": "93410b8f08242699"
    },
    {
      "metadata": {
        "id": "9a0b65f173521c87"
      },
      "cell_type": "markdown",
      "source": [
        "#### 2. expert opinion"
      ],
      "id": "9a0b65f173521c87"
    },
    {
      "metadata": {
        "id": "bf1757d5f91c9875"
      },
      "cell_type": "code",
      "outputs": [],
      "execution_count": 7,
      "source": [
        "def get_lexical_units_from_frames(frames):\n",
        "    terms = set()\n",
        "    for frame_name in frames:\n",
        "        try:\n",
        "            frame = fn.frame_by_name(frame_name)\n",
        "            for lu in frame.lexUnit.values():\n",
        "                if '.v' in lu['name']:\n",
        "                    terms.add(lu['name'].split('.')[0])\n",
        "        except Exception as e:\n",
        "            print(f\"Warning: Could not load frame '{frame_name}': {e}\")\n",
        "    return terms\n",
        "\n",
        "\n",
        "expert_frames = [\n",
        "    \"Expertise\", \"Judgment_communication\", \"Opinion\",\n",
        "    \"Authority\", \"Statement\", \"Certainty\"\n",
        "]\n",
        "quote_frames = [\"Statement\", \"Judgment_communication\"]\n",
        "clarity_frames = [\"Reasoning\"]\n",
        "evidence_frames = [\"Evidence\", \"Certainty\", \"Causation\"]\n",
        "\n",
        "\n",
        "expert_verbs = get_lexical_units_from_frames(expert_frames)\n",
        "quote_verbs = get_lexical_units_from_frames(quote_frames)\n",
        "clarity_terms = get_lexical_units_from_frames(clarity_frames)\n",
        "evidence_terms = get_lexical_units_from_frames(evidence_frames)\n",
        "\n",
        "def detect_expert_opinion(question):\n",
        "\n",
        "    doc = nlp(question)\n",
        "    score = 0\n",
        "    explanations = []\n",
        "\n",
        "    expert_titles = {\"expert\", \"researcher\", \"scientist\", \"doctor\", \"analyst\", \"professor\", \"Dr.\"}\n",
        "\n",
        "    implicit_expert_terms = {\"study\", \"research\", \"evidence\", \"report\", \"findings\", \"scientific\", \"government\", \"official\", \"paper\", \"survey\", \"data\"}\n",
        "    comparison_cues = {\"consistent\", \"align\", \"similar\", \"agree\", \"disagree\", \"corroborate\", \"conflict\"}\n",
        "    technical_request_verbs = {\"define\", \"explain\", \"describe\", \"elaborate\", \"clarify\"}\n",
        "    assertion_verbs = {\"assert\", \"affirm\", \"pronounce\", \"declare\", \"maintain\", \"claim\", \"state\"}\n",
        "    reference_terms = {\"quote\", \"reference\", \"cite\", \"check\", \"verify\", \"source\"}\n",
        "    domain_terms = {\"science\", \"scientific\", \"domain\", \"field\", \"discipline\", \"area\", \"sector\"}\n",
        "\n",
        "\n",
        "    for ent in doc.ents:\n",
        "        if ent.label_ in {\"PERSON\", \"ORG\"}:\n",
        "            if any(title in ent.text.lower() for title in expert_titles):\n",
        "                explanations.append(f\"✓ Expert entity detected: '{ent.text}'\")\n",
        "                score += 3\n",
        "                break\n",
        "\n",
        "    if any(tok.lemma_ in expert_verbs for tok in doc if tok.pos_ == \"VERB\"):\n",
        "        explanations.append(\"✓ Detected expert-related verb from FrameNet\")\n",
        "        score += 2\n",
        "\n",
        "    if any(tok.lemma_ in quote_verbs for tok in doc):\n",
        "        explanations.append(\"✓ Quotation or claim verb found\")\n",
        "        score += 1\n",
        "\n",
        "    if any(tok.lemma_ in clarity_terms for tok in doc):\n",
        "        explanations.append(\"✓ Clarity/definition markers found\")\n",
        "        score += 1\n",
        "\n",
        "    if any(tok.lemma_ in evidence_terms for tok in doc):\n",
        "        explanations.append(\"✓ Evidence or support-related terms found\")\n",
        "        score += 2\n",
        "\n",
        "    if any(tok.lemma_.lower() in implicit_expert_terms for tok in doc):\n",
        "      explanations.append(\"✓ Implicit expert-related term detected (e.g., 'study', 'government')\")\n",
        "      score += 2\n",
        "\n",
        "    if any(tok.lemma_.lower() in comparison_cues for tok in doc):\n",
        "      explanations.append(\"✓ Cross-study comparison term detected (e.g., 'consistent', 'similar')\")\n",
        "      score += 0.5\n",
        "\n",
        "    if any(tok.lemma_.lower() in technical_request_verbs for tok in doc):\n",
        "      explanations.append(\"✓ Technical explanation request detected (e.g., 'define', 'explain')\")\n",
        "      score += 1\n",
        "\n",
        "    if any(tok.dep_ == \"attr\" and tok.lemma_ == \"expert\" for tok in doc):\n",
        "      explanations.append(\"✓ Predicate nominative indicating expertise detected (e.g., 'X is an expert')\")\n",
        "      score += 2\n",
        "\n",
        "    if any(tok.lemma_.lower() in assertion_verbs for tok in doc):\n",
        "      explanations.append(\"✓ Assertion or claim verb detected (e.g., 'assert', 'affirm')\")\n",
        "      score += 1\n",
        "\n",
        "    if any(tok.lemma_.lower() in reference_terms for tok in doc):\n",
        "      explanations.append(\"✓ Source/reference validation term detected (e.g., 'quote', 'reference')\")\n",
        "      score += 1\n",
        "\n",
        "    if any(tok.lemma_.lower() in domain_terms for tok in doc):\n",
        "      explanations.append(\"✓ Domain relevance indicator detected (e.g., 'science', 'domainD')\")\n",
        "      score += 1\n",
        "\n",
        "    score = min(score, 10)\n",
        "    label = \"Strong Expert Opinion\" if score >= TRESHHOLD_STRONG else \"Weak/Partial Expert Opinion\" if score >= TRESHHOLD_WEAK else \"Not Expert Opinion\"\n",
        "    logger.info(f\"ExpertOpinion --> Score: {score}, Label: {label}, Explanations: {explanations}\")\n",
        "    return label, score, explanations"
      ],
      "id": "bf1757d5f91c9875"
    },
    {
      "metadata": {
        "id": "fd40c3ea318ba47e"
      },
      "cell_type": "markdown",
      "source": [
        "#### 3. Analogy detection"
      ],
      "id": "fd40c3ea318ba47e"
    },
    {
      "metadata": {
        "id": "f03e4efb2d914dac"
      },
      "cell_type": "code",
      "outputs": [],
      "execution_count": 8,
      "source": [
        "analogy_synsets = [wn.synset('similar.a.01'), wn.synset('analogy.n.01'), wn.synset('compare.v.01')]\n",
        "\n",
        "comparison_frames = [\"Similarity\"]\n",
        "contrast_frames = [\"Categorization\"]\n",
        "evidence_frames = [\"Evidence\", \"Judgment_communication\"]\n",
        "\n",
        "comparison_verbs = get_lexical_units_from_frames(comparison_frames)\n",
        "contrast_verbs = get_lexical_units_from_frames(contrast_frames)\n",
        "evidence_verbs = get_lexical_units_from_frames(evidence_frames)\n",
        "\n",
        "def is_semantically_analogical(word_token):\n",
        "    token_synsets = wn.synsets(word_token.lemma_)\n",
        "    for s in token_synsets:\n",
        "        for analogy_syn in analogy_synsets:\n",
        "            if s.path_similarity(analogy_syn) and s.path_similarity(analogy_syn) > 0.3:\n",
        "                return True\n",
        "    return False\n",
        "\n",
        "analogy_context_cues = {\"respect\", \"in which\", \"such that\", \"with regard to\", \"in terms of\"}\n",
        "\n",
        "analogy_force_cues = {\"undermine\", \"weaken\", \"strengthen\", \"force of similarity\", \"degree of analogy\"}\n",
        "\n",
        "analogy_nouns = {\"analogy\", \"comparison\", \"parallel\", \"similarity\", \"analogue\"}\n",
        "\n",
        "def detect_analogy_question(question):\n",
        "    doc = nlp(question)\n",
        "    score = 0\n",
        "    explanations = []\n",
        "    noun_chunks = list(doc.noun_chunks)\n",
        "\n",
        "    if any(tok.lemma_ in comparison_verbs for tok in doc if tok.pos_ == \"VERB\"):\n",
        "        explanations.append(\"✓ Comparison verb detected from FrameNet\")\n",
        "        score += 2.5\n",
        "\n",
        "    entity_tokens = [tok for tok in doc if tok.pos_ in {\"PROPN\", \"NOUN\"}]\n",
        "    if len(set(tok.lemma_ for tok in entity_tokens)) >= 2:\n",
        "        explanations.append(\"✓ Contains at least two distinct concepts/entities\")\n",
        "        score += 1\n",
        "\n",
        "    if any(tok.lemma_ in contrast_verbs for tok in doc if tok.pos_ == \"VERB\"):\n",
        "        explanations.append(\"✓ Contrast or difference verb detected from FrameNet\")\n",
        "        score += 1\n",
        "\n",
        "    if any(tok.lemma_ in evidence_verbs for tok in doc if tok.pos_ == \"VERB\"):\n",
        "        explanations.append(\"✓ Evidence or justification verb found\")\n",
        "        score += 1\n",
        "\n",
        "    if any(tok.tag_ == \"MD\" for tok in doc):\n",
        "        score += 0.5\n",
        "\n",
        "    if len(noun_chunks) >= 2 and any(tok.lemma_ in {\"similar\", \"like\", \"as\"} for tok in doc):\n",
        "        explanations.append(\"✓ Two concepts compared with similarity cue (e.g., 'similar', 'like')\")\n",
        "        score += 3\n",
        "\n",
        "    if any(tok.text.lower() == \"if\" for tok in doc):\n",
        "        explanations.append(\"✓ Conditional structure suggesting hypothetical reasoning\")\n",
        "        score += 1\n",
        "\n",
        "    if any(is_semantically_analogical(tok) for tok in doc if tok.pos_ in {\"ADJ\", \"NOUN\", \"VERB\"}):\n",
        "        explanations.append(\"✓ Semantic similarity to analogy-related terms detected via WordNet\")\n",
        "        score += 2\n",
        "\n",
        "    if any(tok.dep_ in {\"prep\", \"relcl\"} and tok.lemma_ in {\"compare\", \"similar\"} for tok in doc):\n",
        "        explanations.append(\"✓ Syntactic cue of analogy (e.g., 'compared with', 'similar to')\")\n",
        "        score += 1\n",
        "\n",
        "    if any(phrase in question.lower() for phrase in analogy_context_cues):\n",
        "      explanations.append(\"✓ Contextual analogy marker detected (e.g., 'in which', 'such that')\")\n",
        "      score += 0.5\n",
        "\n",
        "    if any(tok.lemma_ in analogy_force_cues for tok in doc):\n",
        "      explanations.append(\"✓ Analogy evaluation term detected (e.g., 'undermine', 'strengthen')\")\n",
        "      score += 0.5\n",
        "\n",
        "    if any(tok.lemma_ in analogy_nouns for tok in doc if tok.pos_ == \"NOUN\"):\n",
        "      explanations.append(\"✓ Explicit analogy noun detected (e.g., 'analogy', 'comparison')\")\n",
        "      score += 2\n",
        "\n",
        "    if any(tok.dep_ == \"neg\" for tok in doc):\n",
        "      if any(tok.lemma_ in {\"similar\", \"compare\", \"alike\", \"match\"} for tok in doc):\n",
        "          explanations.append(\"✓ Negated comparison detected (suggesting analogy breakdown)\")\n",
        "          score += 1\n",
        "\n",
        "    score = min(score, 10)\n",
        "    label = \"Strong Analogy Question\" if score >= 7 else \"Weak/Partial Analogy Question\" if score >= TRESHHOLD_WEAK else \"Not Analogy Question\"\n",
        "    logger.info(f\"Analogy --> Score: {score}, Label: {label}, Explanations: {explanations}\")\n",
        "    return label, score, explanations"
      ],
      "id": "f03e4efb2d914dac"
    },
    {
      "metadata": {
        "id": "da06c0d1ea24b7ef"
      },
      "cell_type": "markdown",
      "source": [
        "#### 4. Fear appeal"
      ],
      "id": "da06c0d1ea24b7ef"
    },
    {
      "metadata": {
        "id": "f28b26e9e3c89b51"
      },
      "cell_type": "code",
      "outputs": [],
      "execution_count": 9,
      "source": [
        "def is_fear_related(word_token):\n",
        "    syns = wn.synsets(word_token.lemma_)\n",
        "    for s in syns:\n",
        "        if any(s.path_similarity(wn.synset('danger.n.01')) or s.path_similarity(wn.synset('problem.n.01')) or\n",
        "               s.path_similarity(wn.synset('fear.n.01')) or s.path_similarity(wn.synset('harm.n.01')) or\n",
        "               s.path_similarity(wn.synset('threat.n.01')) for s in syns):\n",
        "            return True\n",
        "    return False\n",
        "\n",
        "\n",
        "# ---- FrameNet Utility ----\n",
        "def get_lexical_units_from_frames(frames):\n",
        "    terms = set()\n",
        "    for frame_name in frames:\n",
        "        try:\n",
        "            frame = fn.frame_by_name(frame_name)\n",
        "            for lu in frame.lexUnit.values():\n",
        "                if '.v' in lu['name']:\n",
        "                    terms.add(lu['name'].split('.')[0])\n",
        "        except:\n",
        "            continue\n",
        "    return terms\n",
        "\n",
        "# ---- Relevant Lexical Resources ----\n",
        "causal_frames = [\"Causation\", \"Cause_to_start\", \"Preventing\", \"Risk\", \"Threaten\", \"Danger\"]\n",
        "causal_verbs = get_lexical_units_from_frames(causal_frames)\n",
        "\n",
        "fear_keywords = {\"danger\", \"threat\", \"risky\", \"harm\", \"catastrophe\", \"crisis\", \"ruin\", \"fear\", \"worse\", \"bad\", \"fatal\", \"negative\", \"die\", \"death\"}\n",
        "preventive_keywords = {\"prevent\", \"avoid\", \"stop\", \"ban\", \"rescue\", \"save\", \"protect\"}\n",
        "\n",
        "urgency_keywords = {\"immediately\", \"soon\", \"before it's too late\", \"critical\", \"urgent\", \"suddenly\", \"unexpectedly\"}\n",
        "\n",
        "possibility_terms = {\"possible\", \"possibility\", \"likely\", \"likelihood\", \"chance\", \"probability\", \"conceivable\", \"potential\", \"can\", \"could\", \"might\", \"may\", \"able\"}\n",
        "\n",
        "\n",
        "def detect_fear_appeal_question(question):\n",
        "    doc = nlp(question)\n",
        "    score = 0\n",
        "    explanations = []\n",
        "\n",
        "    if any(tok.lemma_.lower() in fear_keywords for tok in doc):\n",
        "        explanations.append(\"✓ Fear-related keyword detected (e.g., 'threat', 'danger')\")\n",
        "        score += 3\n",
        "\n",
        "    if any(tok.lemma_.lower() in preventive_keywords for tok in doc):\n",
        "        explanations.append(\"✓ Preventive action verb detected (e.g., 'prevent', 'stop')\")\n",
        "        score += 2\n",
        "\n",
        "    if any(tok.lemma_ in causal_verbs for tok in doc if tok.pos_ == \"VERB\"):\n",
        "        explanations.append(\"✓ Causal/preventive verb from FrameNet detected\")\n",
        "        score += 2\n",
        "\n",
        "    if any(tok.text.lower() in {\"if\", \"unless\"} for tok in doc):\n",
        "        explanations.append(\"✓ Conditional clause found (e.g., 'if', 'unless')\")\n",
        "        score += 1\n",
        "\n",
        "    if any(is_fear_related(tok) for tok in doc if tok.pos_ in {\"NOUN\", \"VERB\", \"ADJ\"}):\n",
        "        explanations.append(\"✓ Semantic fear-related concept detected via WordNet\")\n",
        "        score += 2\n",
        "\n",
        "    if any(phrase in question.lower() for phrase in urgency_keywords):\n",
        "        explanations.append(\"✓ Urgency marker detected (e.g., 'immediately', 'before it's too late')\")\n",
        "        score += 1\n",
        "\n",
        "    if any(tok.lemma_ in possibility_terms for tok in doc):\n",
        "        explanations.append(\"✓ Possibility-related term detected (e.g., 'possible', 'feasible', 'chance')\")\n",
        "        score += 1\n",
        "\n",
        "    score = min(score, 10)\n",
        "    label = \"Strong Fear Appeal\" if score >= TRESHHOLD_STRONG else \"Weak/Partial Fear Appeal\" if score >= TRESHHOLD_WEAK else \"Not Fear Appeal\"\n",
        "    logger.info(f\"FearApeal --> Score: {score}, Label: {label}, Explanations: {explanations}\")\n",
        "    return label, score, explanations"
      ],
      "id": "f28b26e9e3c89b51"
    },
    {
      "metadata": {
        "id": "40f3c540ff34f2ef"
      },
      "cell_type": "markdown",
      "source": [
        "## Final method for preprocessing and filtering for all types"
      ],
      "id": "40f3c540ff34f2ef"
    },
    {
      "metadata": {
        "id": "c06d5fb2d56a3d77"
      },
      "cell_type": "code",
      "outputs": [],
      "execution_count": 10,
      "source": [
        "def classify_schema(row):\n",
        "    question = row[\"question\"]\n",
        "\n",
        "    is_critical = False\n",
        "\n",
        "    _, cte_score, _ = detect_cause_to_effect(question)\n",
        "    _, expert_score, _ = detect_expert_opinion(question)\n",
        "    _, analogy_score, _ = detect_analogy_question(question)\n",
        "    _, fear_score, _ = detect_fear_appeal_question(question)\n",
        "\n",
        "    if cte_score >= TRESHHOLD_STRONG:\n",
        "      is_critical = True\n",
        "\n",
        "    if expert_score >= TRESHHOLD_STRONG:\n",
        "      is_critical = True\n",
        "\n",
        "    if analogy_score >= TRESHHOLD_STRONG:\n",
        "      is_critical = True\n",
        "\n",
        "    if fear_score >= TRESHHOLD_STRONG:\n",
        "       is_critical = True\n",
        "\n",
        "    return pd.Series({\n",
        "        \"is_Critical\": is_critical,\n",
        "        \"CauseToEffect\": cte_score,\n",
        "        \"ExpertOpinion\": expert_score,\n",
        "        \"Analogy\": analogy_score,\n",
        "        \"FearAppeal\": fear_score,\n",
        "    })"
      ],
      "id": "c06d5fb2d56a3d77"
    },
    {
      "cell_type": "code",
      "source": [
        "logger.info(\"--- Start evaluation with Argumentative schemes -----\")\n",
        "filtered_df[[\"is_Critical\",\"CauseToEffect\", \"ExpertOpinion\", \"Analogy\", \"FearAppeal\"]] = filtered_df.apply(classify_schema, axis=1)"
      ],
      "metadata": {
        "id": "QF7MO_h4Rj7V"
      },
      "id": "QF7MO_h4Rj7V",
      "execution_count": null,
      "outputs": []
    },
    {
      "metadata": {
        "id": "12df58c8ca44b3e4"
      },
      "cell_type": "markdown",
      "source": [
        "### final check: how many questions per category ?"
      ],
      "id": "12df58c8ca44b3e4"
    },
    {
      "metadata": {
        "colab": {
          "base_uri": "https://localhost:8080/"
        },
        "id": "ceb270de5989cf74",
        "outputId": "f710157d-8f27-4250-ee3a-541dadf4a247"
      },
      "cell_type": "code",
      "outputs": [
        {
          "output_type": "stream",
          "name": "stderr",
          "text": [
            "INFO:__main__:Value counts per Schema:       CauseToEffect  ExpertOpinion  Analogy  FearAppeal\n",
            "0.0         46445.0        50936.0     4650       679.0\n",
            "0.5             NaN          996.0     1018         NaN\n",
            "1.0           367.0         2491.0     3274        32.0\n",
            "1.5             NaN           25.0      692         NaN\n",
            "2.0         15911.0        13017.0    15703     56718.0\n",
            "2.5             NaN          166.0     4487         NaN\n",
            "3.0          1119.0         7448.0    28688     11501.0\n",
            "3.5          4555.0           85.0    10120         NaN\n",
            "4.0          5503.0         5185.0     6348      9078.0\n",
            "4.5          1233.0           44.0     3257         NaN\n",
            "5.0          5129.0         1972.0      827      3940.0\n",
            "5.5           861.0           19.0      492         NaN\n",
            "6.0           654.0          640.0     1791       761.0\n",
            "6.5           218.0            6.0      749         NaN\n",
            "7.0            72.0          214.0      697       448.0\n",
            "7.5            26.0            4.0      374         NaN\n",
            "8.0             NaN           59.0       87       127.0\n",
            "8.5           603.0            1.0       50         NaN\n",
            "9.0           497.0            6.0        7        28.0\n",
            "9.5           117.0            NaN        2         NaN\n",
            "10.0            4.0            NaN        1         2.0\n"
          ]
        },
        {
          "output_type": "stream",
          "name": "stdout",
          "text": [
            "is_Critical\n",
            "False    80110\n",
            "True      3204\n",
            "Name: count, dtype: int64\n",
            "      CauseToEffect  ExpertOpinion  Analogy  FearAppeal\n",
            "0.0         46445.0        50936.0     4650       679.0\n",
            "0.5             NaN          996.0     1018         NaN\n",
            "1.0           367.0         2491.0     3274        32.0\n",
            "1.5             NaN           25.0      692         NaN\n",
            "2.0         15911.0        13017.0    15703     56718.0\n",
            "2.5             NaN          166.0     4487         NaN\n",
            "3.0          1119.0         7448.0    28688     11501.0\n",
            "3.5          4555.0           85.0    10120         NaN\n",
            "4.0          5503.0         5185.0     6348      9078.0\n",
            "4.5          1233.0           44.0     3257         NaN\n",
            "5.0          5129.0         1972.0      827      3940.0\n",
            "5.5           861.0           19.0      492         NaN\n",
            "6.0           654.0          640.0     1791       761.0\n",
            "6.5           218.0            6.0      749         NaN\n",
            "7.0            72.0          214.0      697       448.0\n",
            "7.5            26.0            4.0      374         NaN\n",
            "8.0             NaN           59.0       87       127.0\n",
            "8.5           603.0            1.0       50         NaN\n",
            "9.0           497.0            6.0        7        28.0\n",
            "9.5           117.0            NaN        2         NaN\n",
            "10.0            4.0            NaN        1         2.0\n"
          ]
        }
      ],
      "execution_count": 12,
      "source": [
        "value_counts = filtered_df['is_Critical'].value_counts(dropna=False)\n",
        "print(value_counts)\n",
        "\n",
        "columns = [\"CauseToEffect\", \"ExpertOpinion\", \"Analogy\", \"FearAppeal\"]\n",
        "\n",
        "value_counts_schema = filtered_df[columns].apply(pd.Series.value_counts, dropna=False)\n",
        "print(value_counts_schema)\n",
        "logger.info(f\"Value counts per Schema: {value_counts_schema}\")"
      ],
      "id": "ceb270de5989cf74"
    },
    {
      "metadata": {
        "colab": {
          "base_uri": "https://localhost:8080/"
        },
        "id": "4307b97d08bb4a9a",
        "outputId": "231ca9df-3344-4cbd-b429-adbc62dc1389"
      },
      "cell_type": "code",
      "outputs": [
        {
          "output_type": "stream",
          "name": "stderr",
          "text": [
            "INFO:__main__:Entries with score >= 7 per column: CauseToEffect    1319.0\n",
            "ExpertOpinion     284.0\n",
            "Analogy          1218.0\n",
            "FearAppeal        605.0\n",
            "dtype: float64\n"
          ]
        },
        {
          "output_type": "stream",
          "name": "stdout",
          "text": [
            "Entries with score >= 7 per column:\n",
            "CauseToEffect    1319.0\n",
            "ExpertOpinion     284.0\n",
            "Analogy          1218.0\n",
            "FearAppeal        605.0\n",
            "dtype: float64\n"
          ]
        }
      ],
      "execution_count": 13,
      "source": [
        "value_counts_schema = filtered_df[columns].apply(pd.Series.value_counts, dropna=False)\n",
        "\n",
        "per_column_gte_STRONG = value_counts_schema[value_counts_schema.index >= TRESHHOLD_STRONG].sum()\n",
        "\n",
        "print(f\"Entries with score >= {TRESHHOLD_STRONG} per column:\")\n",
        "print(per_column_gte_STRONG)\n",
        "logger.info(f\"Entries with score >= {TRESHHOLD_STRONG} per column: {per_column_gte_STRONG}\")"
      ],
      "id": "4307b97d08bb4a9a"
    },
    {
      "metadata": {
        "id": "6e58e788197b9b83"
      },
      "cell_type": "markdown",
      "source": [
        "## Save and filter datasets"
      ],
      "id": "6e58e788197b9b83"
    },
    {
      "metadata": {
        "colab": {
          "base_uri": "https://localhost:8080/"
        },
        "id": "275c73fa5b6f14b9",
        "outputId": "9b115466-1c01-403d-cd6c-e7d3d44684ed"
      },
      "cell_type": "code",
      "outputs": [
        {
          "output_type": "stream",
          "name": "stderr",
          "text": [
            "INFO:__main__:Full dataset saved to: /content/NLP2025_CQG/Data/Processed/CQ FULL Dataset.json\n"
          ]
        }
      ],
      "execution_count": 15,
      "source": [
        "df_to_save = filtered_df.copy()\n",
        "\n",
        "df_to_save['id'] = range(1, len(df_to_save) + 1)\n",
        "\n",
        "columns_to_save = [\n",
        "    'id',\n",
        "    'context',\n",
        "    'question',\n",
        "    'context_token_len',\n",
        "    'is_Critical',\n",
        "    'CauseToEffect',\n",
        "    'Analogy',\n",
        "    'ExpertOpinion',\n",
        "    'FearAppeal'\n",
        "]\n",
        "\n",
        "# Save the full dataset with scores per entry per scheme\n",
        "df_to_save[columns_to_save].to_json(processed_full_dataset_path, orient='records', indent=2)\n",
        "logger.info(f\"Full dataset saved to: {processed_full_dataset_path}\")"
      ],
      "id": "275c73fa5b6f14b9"
    },
    {
      "cell_type": "markdown",
      "source": [
        "#### SFT Dataset\n",
        "Create a daset usable during SFT Training. This dataset needs for every relevant scheme one entry."
      ],
      "metadata": {
        "id": "gsNsYBHFSmsN"
      },
      "id": "gsNsYBHFSmsN"
    },
    {
      "metadata": {
        "colab": {
          "base_uri": "https://localhost:8080/"
        },
        "id": "25a414071cf249c8",
        "outputId": "2f54ec84-7707-4863-889f-c50cca2bf03e"
      },
      "cell_type": "code",
      "outputs": [
        {
          "output_type": "execute_result",
          "data": {
            "text/plain": [
              "(83536, 3)"
            ]
          },
          "metadata": {},
          "execution_count": 16
        }
      ],
      "execution_count": 16,
      "source": [
        "full_scored_df = pd.read_json(processed_full_dataset_path, orient='records')\n",
        "\n",
        "schema_cols = ['CauseToEffect', 'ExpertOpinion', 'Analogy', 'FearAppeal']\n",
        "\n",
        "# Transform the filtered DataFrame from wide format to long format,\n",
        "# so each schema type and its score become separate rows\n",
        "long_df = filtered_df.melt(\n",
        "    id_vars=['context', 'question'],\n",
        "    value_vars=schema_cols,\n",
        "    var_name='schema',\n",
        "    value_name='score'\n",
        ")\n",
        "\n",
        "# Filter out rows where the schema score meets or exceeds the threshold for being \"strong\"\n",
        "qualified = long_df[long_df['score'] >= TRESHHOLD_STRONG].copy()\n",
        "\n",
        "qualified = qualified.drop(columns=['score'])\n",
        "\n",
        "# Identify rows in the original filtered DataFrame where none of the schema scores meet the strong threshold\n",
        "mask_no_schema = filtered_df[schema_cols].max(axis=1) < TRESHHOLD_STRONG\n",
        "\n",
        "# Create a new DataFrame for these rows, indicating that no strong schema was found (empty string for schema)\n",
        "no_schema_df = filtered_df.loc[mask_no_schema, ['context', 'question']].copy()\n",
        "no_schema_df['schema'] = ''\n",
        "\n",
        "final_df = pd.concat([qualified, no_schema_df], ignore_index=True)\n",
        "\n",
        "final_df.shape"
      ],
      "id": "25a414071cf249c8"
    },
    {
      "cell_type": "code",
      "source": [
        "final_df = final_df.reset_index(drop=True)\n",
        "final_df['id'] = final_df.index + 1\n",
        "\n",
        "final_df = final_df[['id', 'context', 'question', 'schema']]\n",
        "\n",
        "# Filter out empty schema rows\n",
        "final_df = final_df[final_df['schema'] != '']\n",
        "\n",
        "# Save the filtered dataset\n",
        "final_df.to_json(processed_sft_dataset_path, orient='records', indent=2)\n",
        "logger.info(f\"SFT dataset saved to: {processed_sft_dataset_path}\")"
      ],
      "metadata": {
        "colab": {
          "base_uri": "https://localhost:8080/"
        },
        "id": "5Cpy0u9dRBbt",
        "outputId": "80ddbb84-f9e0-4c00-c854-88cbdfad6464"
      },
      "id": "5Cpy0u9dRBbt",
      "execution_count": 17,
      "outputs": [
        {
          "output_type": "stream",
          "name": "stderr",
          "text": [
            "INFO:__main__:SFT dataset saved to: /content/NLP2025_CQG/Data/Processed/CQ SFT Dataset.json\n"
          ]
        }
      ]
    },
    {
      "cell_type": "markdown",
      "source": [
        "Not used but with this code it is possible to create a subset of questiony scored above a certain treshhold."
      ],
      "metadata": {
        "id": "lxGmJJs4TXtU"
      },
      "id": "lxGmJJs4TXtU"
    },
    {
      "metadata": {
        "colab": {
          "base_uri": "https://localhost:8080/",
          "height": 86
        },
        "id": "86f8f3c96036337f",
        "outputId": "944d0c99-d2cc-41b5-9d14-5c2bae0ae7cc"
      },
      "cell_type": "code",
      "outputs": [
        {
          "output_type": "execute_result",
          "data": {
            "text/plain": [
              "'\\nfull_scored_df = pd.read_json(processed_full_dataset_path, orient=\\'records\\')\\n\\nscore_columns = [\\'CauseToEffect\\', \\'Analogy\\', \\'ExpertOpinion\\', \\'FearAppeal\\']\\n\\n# Filter rows where any score is greater than 7\\nfiltered_df = full_scored_df[full_scored_df[score_columns].gt(7).any(axis=1)].copy()\\n\\n# Reset the index and update the \\'id\\' field to start from 1\\nfiltered_df.reset_index(drop=True, inplace=True)\\nfiltered_df[\\'id\\'] = filtered_df.index + 1\\n\\nfiltered_df.to_json(\"path goese here\", orient=\\'records\\', indent=2)\\n'"
            ],
            "application/vnd.google.colaboratory.intrinsic+json": {
              "type": "string"
            }
          },
          "metadata": {},
          "execution_count": 18
        }
      ],
      "execution_count": 18,
      "source": [
        "'''\n",
        "full_scored_df = pd.read_json(processed_full_dataset_path, orient='records')\n",
        "\n",
        "score_columns = ['CauseToEffect', 'Analogy', 'ExpertOpinion', 'FearAppeal']\n",
        "\n",
        "# Filter rows where any score is greater than 7\n",
        "filtered_df = full_scored_df[full_scored_df[score_columns].gt(7).any(axis=1)].copy()\n",
        "\n",
        "# Reset the index and update the 'id' field to start from 1\n",
        "filtered_df.reset_index(drop=True, inplace=True)\n",
        "filtered_df['id'] = filtered_df.index + 1\n",
        "\n",
        "filtered_df.to_json(\"path goese here\", orient='records', indent=2)\n",
        "'''"
      ],
      "id": "86f8f3c96036337f"
    },
    {
      "metadata": {
        "id": "eb90f14ffbe99af8"
      },
      "cell_type": "markdown",
      "source": [
        "## analyse dataset"
      ],
      "id": "eb90f14ffbe99af8"
    },
    {
      "metadata": {
        "colab": {
          "base_uri": "https://localhost:8080/"
        },
        "id": "a38e5235ea1252af",
        "outputId": "081c775f-d75c-4211-f0d9-2f91041e4d77"
      },
      "cell_type": "code",
      "outputs": [
        {
          "output_type": "execute_result",
          "data": {
            "text/plain": [
              "(83314, 9)"
            ]
          },
          "metadata": {},
          "execution_count": 19
        }
      ],
      "execution_count": 19,
      "source": [
        "df = pd.read_json(processed_full_dataset_path, orient='records')\n",
        "df.shape"
      ],
      "id": "a38e5235ea1252af"
    },
    {
      "metadata": {
        "colab": {
          "base_uri": "https://localhost:8080/"
        },
        "id": "f1a83fb7c287d724",
        "outputId": "4e972373-0587-4e45-e958-82e1b36dd51e"
      },
      "cell_type": "code",
      "outputs": [
        {
          "output_type": "stream",
          "name": "stdout",
          "text": [
            "               CauseToEffect  Analogy  ExpertOpinion  FearAppeal\n",
            "CauseToEffect                                                   \n",
            "0.0                    46445     4650          50936         679\n",
            "1.0                      367     3274           2491          32\n",
            "2.0                    15911    15703          13017       56718\n",
            "3.0                     1119    28688           7448       11501\n",
            "3.5                     4555    10120             85           0\n",
            "4.0                     5503     6348           5185        9078\n",
            "4.5                     1233     3257             44           0\n",
            "5.0                     5129      827           1972        3940\n",
            "5.5                      861      492             19           0\n",
            "6.0                      654     1791            640         761\n",
            "6.5                      218      749              6           0\n",
            "7.0                       72      697            214         448\n",
            "7.5                       26      374              4           0\n",
            "8.5                      603       50              1           0\n",
            "9.0                      497        7              6          28\n",
            "9.5                      117        2              0           0\n",
            "10.0                       4        1              0           2\n"
          ]
        }
      ],
      "execution_count": 20,
      "source": [
        "score_columns = ['CauseToEffect', 'Analogy', 'ExpertOpinion', 'FearAppeal']\n",
        "\n",
        "score_counts = pd.DataFrame()\n",
        "\n",
        "for col in score_columns:\n",
        "    counts = df[col].value_counts().sort_index()\n",
        "    score_counts[col] = counts\n",
        "\n",
        "score_counts = score_counts.fillna(0).astype(int)\n",
        "\n",
        "print(score_counts)"
      ],
      "id": "f1a83fb7c287d724"
    },
    {
      "metadata": {
        "id": "e19136c35c735fec"
      },
      "cell_type": "markdown",
      "source": [
        "## Git"
      ],
      "id": "e19136c35c735fec"
    },
    {
      "metadata": {
        "colab": {
          "base_uri": "https://localhost:8080/"
        },
        "id": "b244293861007956",
        "outputId": "7fad98f5-6c7e-43f4-95f5-15d39144da1e"
      },
      "cell_type": "code",
      "outputs": [
        {
          "output_type": "stream",
          "name": "stdout",
          "text": [
            "1_a_Generate_DPO_Dataset.ipynb\t      Development\n",
            "1_Information_preprocessing.md\t      Doc\n",
            "1_Preprocessing.ipynb\t\t      Evaluation\n",
            "2_Baseline_Generation.ipynb\t      INFORMATION.md\n",
            "2_Information_Baseline_Generation.md  LICENSE\n",
            "3_Evaluation.ipynb\t\t      Logs\n",
            "4_Finetuned_Generation.ipynb\t      README.md\n",
            "5_Evaluation_Analytics.ipynb\t      Training\n",
            "Data\n"
          ]
        }
      ],
      "execution_count": 21,
      "source": [
        "os.chdir(\"NLP2025_CQG\")\n",
        "!ls"
      ],
      "id": "b244293861007956"
    },
    {
      "metadata": {
        "colab": {
          "base_uri": "https://localhost:8080/"
        },
        "id": "c4408fe8a27e43cb",
        "outputId": "90f74888-871e-4a85-d1e2-fea56e0e2fc0"
      },
      "cell_type": "code",
      "outputs": [
        {
          "output_type": "stream",
          "name": "stdout",
          "text": [
            "[main 31fdbe3] Preprocess and evaluate data\n",
            " 3 files changed, 1268538 insertions(+), 376 deletions(-)\n",
            " create mode 100644 Logs/data_preprocessing.log\n",
            "To https://github.com/RicoStaedeli/NLP2025_CQG.git\n",
            " \u001b[31m! [rejected]       \u001b[m main -> main (fetch first)\n",
            "\u001b[31merror: failed to push some refs to 'https://github.com/RicoStaedeli/NLP2025_CQG.git'\n",
            "\u001b[m\u001b[33mhint: Updates were rejected because the remote contains work that you do\u001b[m\n",
            "\u001b[33mhint: not have locally. This is usually caused by another repository pushing\u001b[m\n",
            "\u001b[33mhint: to the same ref. You may want to first integrate the remote changes\u001b[m\n",
            "\u001b[33mhint: (e.g., 'git pull ...') before pushing again.\u001b[m\n",
            "\u001b[33mhint: See the 'Note about fast-forwards' in 'git push --help' for details.\u001b[m\n"
          ]
        }
      ],
      "execution_count": 22,
      "source": [
        "!git config --global user.name \"Rico Städeli\"\n",
        "!git config --global user.email \"rico@yabriga.ch \"\n",
        "\n",
        "\n",
        "commit_message = f\"Preprocess and evaluate data\"\n",
        "!git add .\n",
        "!git commit -m \"{commit_message}\"\n",
        "!git push"
      ],
      "id": "c4408fe8a27e43cb"
    }
  ],
  "metadata": {
    "kernelspec": {
      "display_name": "Python 3",
      "name": "python3"
    },
    "language_info": {
      "codemirror_mode": {
        "name": "ipython",
        "version": 2
      },
      "file_extension": ".py",
      "mimetype": "text/x-python",
      "name": "python",
      "nbconvert_exporter": "python",
      "pygments_lexer": "ipython2",
      "version": "2.7.6"
    },
    "colab": {
      "provenance": [],
      "gpuType": "T4",
      "machine_shape": "hm",
      "include_colab_link": true
    },
    "accelerator": "GPU",
    "widgets": {
      "application/vnd.jupyter.widget-state+json": {
        "e56076a31ec44f3988a5662bb52785d3": {
          "model_module": "@jupyter-widgets/controls",
          "model_name": "HBoxModel",
          "model_module_version": "1.5.0",
          "state": {
            "_dom_classes": [],
            "_model_module": "@jupyter-widgets/controls",
            "_model_module_version": "1.5.0",
            "_model_name": "HBoxModel",
            "_view_count": null,
            "_view_module": "@jupyter-widgets/controls",
            "_view_module_version": "1.5.0",
            "_view_name": "HBoxView",
            "box_style": "",
            "children": [
              "IPY_MODEL_972caa72d5374368a6dcee9950aa9ddd",
              "IPY_MODEL_29965200bb69485bb8f6ad92483b4b15",
              "IPY_MODEL_3a55cabc4e7043f5a5ee1c1bc81ae627"
            ],
            "layout": "IPY_MODEL_0f66fe3e8e1b402398cda78dda8e44ce"
          }
        },
        "972caa72d5374368a6dcee9950aa9ddd": {
          "model_module": "@jupyter-widgets/controls",
          "model_name": "HTMLModel",
          "model_module_version": "1.5.0",
          "state": {
            "_dom_classes": [],
            "_model_module": "@jupyter-widgets/controls",
            "_model_module_version": "1.5.0",
            "_model_name": "HTMLModel",
            "_view_count": null,
            "_view_module": "@jupyter-widgets/controls",
            "_view_module_version": "1.5.0",
            "_view_name": "HTMLView",
            "description": "",
            "description_tooltip": null,
            "layout": "IPY_MODEL_cb3fd0cb4b714d5aa674e178ae7e6e7c",
            "placeholder": "​",
            "style": "IPY_MODEL_9e88f23498f9440e946c0974c5cb61f4",
            "value": "tokenizer_config.json: 100%"
          }
        },
        "29965200bb69485bb8f6ad92483b4b15": {
          "model_module": "@jupyter-widgets/controls",
          "model_name": "FloatProgressModel",
          "model_module_version": "1.5.0",
          "state": {
            "_dom_classes": [],
            "_model_module": "@jupyter-widgets/controls",
            "_model_module_version": "1.5.0",
            "_model_name": "FloatProgressModel",
            "_view_count": null,
            "_view_module": "@jupyter-widgets/controls",
            "_view_module_version": "1.5.0",
            "_view_name": "ProgressView",
            "bar_style": "success",
            "description": "",
            "description_tooltip": null,
            "layout": "IPY_MODEL_f0180327052e44de8c436dbd518c7011",
            "max": 48,
            "min": 0,
            "orientation": "horizontal",
            "style": "IPY_MODEL_1acf6e93f1a844f98e65f71829292895",
            "value": 48
          }
        },
        "3a55cabc4e7043f5a5ee1c1bc81ae627": {
          "model_module": "@jupyter-widgets/controls",
          "model_name": "HTMLModel",
          "model_module_version": "1.5.0",
          "state": {
            "_dom_classes": [],
            "_model_module": "@jupyter-widgets/controls",
            "_model_module_version": "1.5.0",
            "_model_name": "HTMLModel",
            "_view_count": null,
            "_view_module": "@jupyter-widgets/controls",
            "_view_module_version": "1.5.0",
            "_view_name": "HTMLView",
            "description": "",
            "description_tooltip": null,
            "layout": "IPY_MODEL_9a0b2c83d0384c1e9f1bef85cc627166",
            "placeholder": "​",
            "style": "IPY_MODEL_e5c36eb238064361a923daa1d0bcf41b",
            "value": " 48.0/48.0 [00:00&lt;00:00, 5.89kB/s]"
          }
        },
        "0f66fe3e8e1b402398cda78dda8e44ce": {
          "model_module": "@jupyter-widgets/base",
          "model_name": "LayoutModel",
          "model_module_version": "1.2.0",
          "state": {
            "_model_module": "@jupyter-widgets/base",
            "_model_module_version": "1.2.0",
            "_model_name": "LayoutModel",
            "_view_count": null,
            "_view_module": "@jupyter-widgets/base",
            "_view_module_version": "1.2.0",
            "_view_name": "LayoutView",
            "align_content": null,
            "align_items": null,
            "align_self": null,
            "border": null,
            "bottom": null,
            "display": null,
            "flex": null,
            "flex_flow": null,
            "grid_area": null,
            "grid_auto_columns": null,
            "grid_auto_flow": null,
            "grid_auto_rows": null,
            "grid_column": null,
            "grid_gap": null,
            "grid_row": null,
            "grid_template_areas": null,
            "grid_template_columns": null,
            "grid_template_rows": null,
            "height": null,
            "justify_content": null,
            "justify_items": null,
            "left": null,
            "margin": null,
            "max_height": null,
            "max_width": null,
            "min_height": null,
            "min_width": null,
            "object_fit": null,
            "object_position": null,
            "order": null,
            "overflow": null,
            "overflow_x": null,
            "overflow_y": null,
            "padding": null,
            "right": null,
            "top": null,
            "visibility": null,
            "width": null
          }
        },
        "cb3fd0cb4b714d5aa674e178ae7e6e7c": {
          "model_module": "@jupyter-widgets/base",
          "model_name": "LayoutModel",
          "model_module_version": "1.2.0",
          "state": {
            "_model_module": "@jupyter-widgets/base",
            "_model_module_version": "1.2.0",
            "_model_name": "LayoutModel",
            "_view_count": null,
            "_view_module": "@jupyter-widgets/base",
            "_view_module_version": "1.2.0",
            "_view_name": "LayoutView",
            "align_content": null,
            "align_items": null,
            "align_self": null,
            "border": null,
            "bottom": null,
            "display": null,
            "flex": null,
            "flex_flow": null,
            "grid_area": null,
            "grid_auto_columns": null,
            "grid_auto_flow": null,
            "grid_auto_rows": null,
            "grid_column": null,
            "grid_gap": null,
            "grid_row": null,
            "grid_template_areas": null,
            "grid_template_columns": null,
            "grid_template_rows": null,
            "height": null,
            "justify_content": null,
            "justify_items": null,
            "left": null,
            "margin": null,
            "max_height": null,
            "max_width": null,
            "min_height": null,
            "min_width": null,
            "object_fit": null,
            "object_position": null,
            "order": null,
            "overflow": null,
            "overflow_x": null,
            "overflow_y": null,
            "padding": null,
            "right": null,
            "top": null,
            "visibility": null,
            "width": null
          }
        },
        "9e88f23498f9440e946c0974c5cb61f4": {
          "model_module": "@jupyter-widgets/controls",
          "model_name": "DescriptionStyleModel",
          "model_module_version": "1.5.0",
          "state": {
            "_model_module": "@jupyter-widgets/controls",
            "_model_module_version": "1.5.0",
            "_model_name": "DescriptionStyleModel",
            "_view_count": null,
            "_view_module": "@jupyter-widgets/base",
            "_view_module_version": "1.2.0",
            "_view_name": "StyleView",
            "description_width": ""
          }
        },
        "f0180327052e44de8c436dbd518c7011": {
          "model_module": "@jupyter-widgets/base",
          "model_name": "LayoutModel",
          "model_module_version": "1.2.0",
          "state": {
            "_model_module": "@jupyter-widgets/base",
            "_model_module_version": "1.2.0",
            "_model_name": "LayoutModel",
            "_view_count": null,
            "_view_module": "@jupyter-widgets/base",
            "_view_module_version": "1.2.0",
            "_view_name": "LayoutView",
            "align_content": null,
            "align_items": null,
            "align_self": null,
            "border": null,
            "bottom": null,
            "display": null,
            "flex": null,
            "flex_flow": null,
            "grid_area": null,
            "grid_auto_columns": null,
            "grid_auto_flow": null,
            "grid_auto_rows": null,
            "grid_column": null,
            "grid_gap": null,
            "grid_row": null,
            "grid_template_areas": null,
            "grid_template_columns": null,
            "grid_template_rows": null,
            "height": null,
            "justify_content": null,
            "justify_items": null,
            "left": null,
            "margin": null,
            "max_height": null,
            "max_width": null,
            "min_height": null,
            "min_width": null,
            "object_fit": null,
            "object_position": null,
            "order": null,
            "overflow": null,
            "overflow_x": null,
            "overflow_y": null,
            "padding": null,
            "right": null,
            "top": null,
            "visibility": null,
            "width": null
          }
        },
        "1acf6e93f1a844f98e65f71829292895": {
          "model_module": "@jupyter-widgets/controls",
          "model_name": "ProgressStyleModel",
          "model_module_version": "1.5.0",
          "state": {
            "_model_module": "@jupyter-widgets/controls",
            "_model_module_version": "1.5.0",
            "_model_name": "ProgressStyleModel",
            "_view_count": null,
            "_view_module": "@jupyter-widgets/base",
            "_view_module_version": "1.2.0",
            "_view_name": "StyleView",
            "bar_color": null,
            "description_width": ""
          }
        },
        "9a0b2c83d0384c1e9f1bef85cc627166": {
          "model_module": "@jupyter-widgets/base",
          "model_name": "LayoutModel",
          "model_module_version": "1.2.0",
          "state": {
            "_model_module": "@jupyter-widgets/base",
            "_model_module_version": "1.2.0",
            "_model_name": "LayoutModel",
            "_view_count": null,
            "_view_module": "@jupyter-widgets/base",
            "_view_module_version": "1.2.0",
            "_view_name": "LayoutView",
            "align_content": null,
            "align_items": null,
            "align_self": null,
            "border": null,
            "bottom": null,
            "display": null,
            "flex": null,
            "flex_flow": null,
            "grid_area": null,
            "grid_auto_columns": null,
            "grid_auto_flow": null,
            "grid_auto_rows": null,
            "grid_column": null,
            "grid_gap": null,
            "grid_row": null,
            "grid_template_areas": null,
            "grid_template_columns": null,
            "grid_template_rows": null,
            "height": null,
            "justify_content": null,
            "justify_items": null,
            "left": null,
            "margin": null,
            "max_height": null,
            "max_width": null,
            "min_height": null,
            "min_width": null,
            "object_fit": null,
            "object_position": null,
            "order": null,
            "overflow": null,
            "overflow_x": null,
            "overflow_y": null,
            "padding": null,
            "right": null,
            "top": null,
            "visibility": null,
            "width": null
          }
        },
        "e5c36eb238064361a923daa1d0bcf41b": {
          "model_module": "@jupyter-widgets/controls",
          "model_name": "DescriptionStyleModel",
          "model_module_version": "1.5.0",
          "state": {
            "_model_module": "@jupyter-widgets/controls",
            "_model_module_version": "1.5.0",
            "_model_name": "DescriptionStyleModel",
            "_view_count": null,
            "_view_module": "@jupyter-widgets/base",
            "_view_module_version": "1.2.0",
            "_view_name": "StyleView",
            "description_width": ""
          }
        },
        "0d55a00de31e4b10b48656117aaca81e": {
          "model_module": "@jupyter-widgets/controls",
          "model_name": "HBoxModel",
          "model_module_version": "1.5.0",
          "state": {
            "_dom_classes": [],
            "_model_module": "@jupyter-widgets/controls",
            "_model_module_version": "1.5.0",
            "_model_name": "HBoxModel",
            "_view_count": null,
            "_view_module": "@jupyter-widgets/controls",
            "_view_module_version": "1.5.0",
            "_view_name": "HBoxView",
            "box_style": "",
            "children": [
              "IPY_MODEL_b362dd4d079f44fbb09ba57e320b32cf",
              "IPY_MODEL_56e552d46dff44daa0e22e5ae91b4740",
              "IPY_MODEL_93bb04bf13544c5599f602cf5e8cb9d3"
            ],
            "layout": "IPY_MODEL_6d99a2bf4a05490687d82e394e689b4f"
          }
        },
        "b362dd4d079f44fbb09ba57e320b32cf": {
          "model_module": "@jupyter-widgets/controls",
          "model_name": "HTMLModel",
          "model_module_version": "1.5.0",
          "state": {
            "_dom_classes": [],
            "_model_module": "@jupyter-widgets/controls",
            "_model_module_version": "1.5.0",
            "_model_name": "HTMLModel",
            "_view_count": null,
            "_view_module": "@jupyter-widgets/controls",
            "_view_module_version": "1.5.0",
            "_view_name": "HTMLView",
            "description": "",
            "description_tooltip": null,
            "layout": "IPY_MODEL_1665b53f255e42cf9dd2bdd711f19f74",
            "placeholder": "​",
            "style": "IPY_MODEL_b275347fefa1470eb253851d382598ef",
            "value": "config.json: 100%"
          }
        },
        "56e552d46dff44daa0e22e5ae91b4740": {
          "model_module": "@jupyter-widgets/controls",
          "model_name": "FloatProgressModel",
          "model_module_version": "1.5.0",
          "state": {
            "_dom_classes": [],
            "_model_module": "@jupyter-widgets/controls",
            "_model_module_version": "1.5.0",
            "_model_name": "FloatProgressModel",
            "_view_count": null,
            "_view_module": "@jupyter-widgets/controls",
            "_view_module_version": "1.5.0",
            "_view_name": "ProgressView",
            "bar_style": "success",
            "description": "",
            "description_tooltip": null,
            "layout": "IPY_MODEL_bd94e97ef049465ab94c33070162cd24",
            "max": 570,
            "min": 0,
            "orientation": "horizontal",
            "style": "IPY_MODEL_1a18d218196a4a96872e060ff0797a25",
            "value": 570
          }
        },
        "93bb04bf13544c5599f602cf5e8cb9d3": {
          "model_module": "@jupyter-widgets/controls",
          "model_name": "HTMLModel",
          "model_module_version": "1.5.0",
          "state": {
            "_dom_classes": [],
            "_model_module": "@jupyter-widgets/controls",
            "_model_module_version": "1.5.0",
            "_model_name": "HTMLModel",
            "_view_count": null,
            "_view_module": "@jupyter-widgets/controls",
            "_view_module_version": "1.5.0",
            "_view_name": "HTMLView",
            "description": "",
            "description_tooltip": null,
            "layout": "IPY_MODEL_2638ce9774a8422db2599798da7650b3",
            "placeholder": "​",
            "style": "IPY_MODEL_a8f84147099241d8b9e90b725ffbda61",
            "value": " 570/570 [00:00&lt;00:00, 55.3kB/s]"
          }
        },
        "6d99a2bf4a05490687d82e394e689b4f": {
          "model_module": "@jupyter-widgets/base",
          "model_name": "LayoutModel",
          "model_module_version": "1.2.0",
          "state": {
            "_model_module": "@jupyter-widgets/base",
            "_model_module_version": "1.2.0",
            "_model_name": "LayoutModel",
            "_view_count": null,
            "_view_module": "@jupyter-widgets/base",
            "_view_module_version": "1.2.0",
            "_view_name": "LayoutView",
            "align_content": null,
            "align_items": null,
            "align_self": null,
            "border": null,
            "bottom": null,
            "display": null,
            "flex": null,
            "flex_flow": null,
            "grid_area": null,
            "grid_auto_columns": null,
            "grid_auto_flow": null,
            "grid_auto_rows": null,
            "grid_column": null,
            "grid_gap": null,
            "grid_row": null,
            "grid_template_areas": null,
            "grid_template_columns": null,
            "grid_template_rows": null,
            "height": null,
            "justify_content": null,
            "justify_items": null,
            "left": null,
            "margin": null,
            "max_height": null,
            "max_width": null,
            "min_height": null,
            "min_width": null,
            "object_fit": null,
            "object_position": null,
            "order": null,
            "overflow": null,
            "overflow_x": null,
            "overflow_y": null,
            "padding": null,
            "right": null,
            "top": null,
            "visibility": null,
            "width": null
          }
        },
        "1665b53f255e42cf9dd2bdd711f19f74": {
          "model_module": "@jupyter-widgets/base",
          "model_name": "LayoutModel",
          "model_module_version": "1.2.0",
          "state": {
            "_model_module": "@jupyter-widgets/base",
            "_model_module_version": "1.2.0",
            "_model_name": "LayoutModel",
            "_view_count": null,
            "_view_module": "@jupyter-widgets/base",
            "_view_module_version": "1.2.0",
            "_view_name": "LayoutView",
            "align_content": null,
            "align_items": null,
            "align_self": null,
            "border": null,
            "bottom": null,
            "display": null,
            "flex": null,
            "flex_flow": null,
            "grid_area": null,
            "grid_auto_columns": null,
            "grid_auto_flow": null,
            "grid_auto_rows": null,
            "grid_column": null,
            "grid_gap": null,
            "grid_row": null,
            "grid_template_areas": null,
            "grid_template_columns": null,
            "grid_template_rows": null,
            "height": null,
            "justify_content": null,
            "justify_items": null,
            "left": null,
            "margin": null,
            "max_height": null,
            "max_width": null,
            "min_height": null,
            "min_width": null,
            "object_fit": null,
            "object_position": null,
            "order": null,
            "overflow": null,
            "overflow_x": null,
            "overflow_y": null,
            "padding": null,
            "right": null,
            "top": null,
            "visibility": null,
            "width": null
          }
        },
        "b275347fefa1470eb253851d382598ef": {
          "model_module": "@jupyter-widgets/controls",
          "model_name": "DescriptionStyleModel",
          "model_module_version": "1.5.0",
          "state": {
            "_model_module": "@jupyter-widgets/controls",
            "_model_module_version": "1.5.0",
            "_model_name": "DescriptionStyleModel",
            "_view_count": null,
            "_view_module": "@jupyter-widgets/base",
            "_view_module_version": "1.2.0",
            "_view_name": "StyleView",
            "description_width": ""
          }
        },
        "bd94e97ef049465ab94c33070162cd24": {
          "model_module": "@jupyter-widgets/base",
          "model_name": "LayoutModel",
          "model_module_version": "1.2.0",
          "state": {
            "_model_module": "@jupyter-widgets/base",
            "_model_module_version": "1.2.0",
            "_model_name": "LayoutModel",
            "_view_count": null,
            "_view_module": "@jupyter-widgets/base",
            "_view_module_version": "1.2.0",
            "_view_name": "LayoutView",
            "align_content": null,
            "align_items": null,
            "align_self": null,
            "border": null,
            "bottom": null,
            "display": null,
            "flex": null,
            "flex_flow": null,
            "grid_area": null,
            "grid_auto_columns": null,
            "grid_auto_flow": null,
            "grid_auto_rows": null,
            "grid_column": null,
            "grid_gap": null,
            "grid_row": null,
            "grid_template_areas": null,
            "grid_template_columns": null,
            "grid_template_rows": null,
            "height": null,
            "justify_content": null,
            "justify_items": null,
            "left": null,
            "margin": null,
            "max_height": null,
            "max_width": null,
            "min_height": null,
            "min_width": null,
            "object_fit": null,
            "object_position": null,
            "order": null,
            "overflow": null,
            "overflow_x": null,
            "overflow_y": null,
            "padding": null,
            "right": null,
            "top": null,
            "visibility": null,
            "width": null
          }
        },
        "1a18d218196a4a96872e060ff0797a25": {
          "model_module": "@jupyter-widgets/controls",
          "model_name": "ProgressStyleModel",
          "model_module_version": "1.5.0",
          "state": {
            "_model_module": "@jupyter-widgets/controls",
            "_model_module_version": "1.5.0",
            "_model_name": "ProgressStyleModel",
            "_view_count": null,
            "_view_module": "@jupyter-widgets/base",
            "_view_module_version": "1.2.0",
            "_view_name": "StyleView",
            "bar_color": null,
            "description_width": ""
          }
        },
        "2638ce9774a8422db2599798da7650b3": {
          "model_module": "@jupyter-widgets/base",
          "model_name": "LayoutModel",
          "model_module_version": "1.2.0",
          "state": {
            "_model_module": "@jupyter-widgets/base",
            "_model_module_version": "1.2.0",
            "_model_name": "LayoutModel",
            "_view_count": null,
            "_view_module": "@jupyter-widgets/base",
            "_view_module_version": "1.2.0",
            "_view_name": "LayoutView",
            "align_content": null,
            "align_items": null,
            "align_self": null,
            "border": null,
            "bottom": null,
            "display": null,
            "flex": null,
            "flex_flow": null,
            "grid_area": null,
            "grid_auto_columns": null,
            "grid_auto_flow": null,
            "grid_auto_rows": null,
            "grid_column": null,
            "grid_gap": null,
            "grid_row": null,
            "grid_template_areas": null,
            "grid_template_columns": null,
            "grid_template_rows": null,
            "height": null,
            "justify_content": null,
            "justify_items": null,
            "left": null,
            "margin": null,
            "max_height": null,
            "max_width": null,
            "min_height": null,
            "min_width": null,
            "object_fit": null,
            "object_position": null,
            "order": null,
            "overflow": null,
            "overflow_x": null,
            "overflow_y": null,
            "padding": null,
            "right": null,
            "top": null,
            "visibility": null,
            "width": null
          }
        },
        "a8f84147099241d8b9e90b725ffbda61": {
          "model_module": "@jupyter-widgets/controls",
          "model_name": "DescriptionStyleModel",
          "model_module_version": "1.5.0",
          "state": {
            "_model_module": "@jupyter-widgets/controls",
            "_model_module_version": "1.5.0",
            "_model_name": "DescriptionStyleModel",
            "_view_count": null,
            "_view_module": "@jupyter-widgets/base",
            "_view_module_version": "1.2.0",
            "_view_name": "StyleView",
            "description_width": ""
          }
        },
        "7fb6e9c03ec84ab8a6dfcc703f93d7d6": {
          "model_module": "@jupyter-widgets/controls",
          "model_name": "HBoxModel",
          "model_module_version": "1.5.0",
          "state": {
            "_dom_classes": [],
            "_model_module": "@jupyter-widgets/controls",
            "_model_module_version": "1.5.0",
            "_model_name": "HBoxModel",
            "_view_count": null,
            "_view_module": "@jupyter-widgets/controls",
            "_view_module_version": "1.5.0",
            "_view_name": "HBoxView",
            "box_style": "",
            "children": [
              "IPY_MODEL_00c251da5ae54798b8e41a2b14f10ca7",
              "IPY_MODEL_33e09dd052d44a1380243d0f2dd421a2",
              "IPY_MODEL_62871394b4e942c7ac16245d17fb158e"
            ],
            "layout": "IPY_MODEL_600d593dce454627a313867f2a407f87"
          }
        },
        "00c251da5ae54798b8e41a2b14f10ca7": {
          "model_module": "@jupyter-widgets/controls",
          "model_name": "HTMLModel",
          "model_module_version": "1.5.0",
          "state": {
            "_dom_classes": [],
            "_model_module": "@jupyter-widgets/controls",
            "_model_module_version": "1.5.0",
            "_model_name": "HTMLModel",
            "_view_count": null,
            "_view_module": "@jupyter-widgets/controls",
            "_view_module_version": "1.5.0",
            "_view_name": "HTMLView",
            "description": "",
            "description_tooltip": null,
            "layout": "IPY_MODEL_fe0a6d6935ce42489dac077e348fa255",
            "placeholder": "​",
            "style": "IPY_MODEL_e9cd3df8e97e47bdb655b6bc8aeaae45",
            "value": "vocab.txt: 100%"
          }
        },
        "33e09dd052d44a1380243d0f2dd421a2": {
          "model_module": "@jupyter-widgets/controls",
          "model_name": "FloatProgressModel",
          "model_module_version": "1.5.0",
          "state": {
            "_dom_classes": [],
            "_model_module": "@jupyter-widgets/controls",
            "_model_module_version": "1.5.0",
            "_model_name": "FloatProgressModel",
            "_view_count": null,
            "_view_module": "@jupyter-widgets/controls",
            "_view_module_version": "1.5.0",
            "_view_name": "ProgressView",
            "bar_style": "success",
            "description": "",
            "description_tooltip": null,
            "layout": "IPY_MODEL_8d28ae45b1714cfdbc54fe93e32a0a6d",
            "max": 231508,
            "min": 0,
            "orientation": "horizontal",
            "style": "IPY_MODEL_d3681da3eb2740d789f14ad9a14e14f9",
            "value": 231508
          }
        },
        "62871394b4e942c7ac16245d17fb158e": {
          "model_module": "@jupyter-widgets/controls",
          "model_name": "HTMLModel",
          "model_module_version": "1.5.0",
          "state": {
            "_dom_classes": [],
            "_model_module": "@jupyter-widgets/controls",
            "_model_module_version": "1.5.0",
            "_model_name": "HTMLModel",
            "_view_count": null,
            "_view_module": "@jupyter-widgets/controls",
            "_view_module_version": "1.5.0",
            "_view_name": "HTMLView",
            "description": "",
            "description_tooltip": null,
            "layout": "IPY_MODEL_95761a082bfc4ff1b304036061949236",
            "placeholder": "​",
            "style": "IPY_MODEL_f7696399729345b2ac8dbb9711456433",
            "value": " 232k/232k [00:00&lt;00:00, 665kB/s]"
          }
        },
        "600d593dce454627a313867f2a407f87": {
          "model_module": "@jupyter-widgets/base",
          "model_name": "LayoutModel",
          "model_module_version": "1.2.0",
          "state": {
            "_model_module": "@jupyter-widgets/base",
            "_model_module_version": "1.2.0",
            "_model_name": "LayoutModel",
            "_view_count": null,
            "_view_module": "@jupyter-widgets/base",
            "_view_module_version": "1.2.0",
            "_view_name": "LayoutView",
            "align_content": null,
            "align_items": null,
            "align_self": null,
            "border": null,
            "bottom": null,
            "display": null,
            "flex": null,
            "flex_flow": null,
            "grid_area": null,
            "grid_auto_columns": null,
            "grid_auto_flow": null,
            "grid_auto_rows": null,
            "grid_column": null,
            "grid_gap": null,
            "grid_row": null,
            "grid_template_areas": null,
            "grid_template_columns": null,
            "grid_template_rows": null,
            "height": null,
            "justify_content": null,
            "justify_items": null,
            "left": null,
            "margin": null,
            "max_height": null,
            "max_width": null,
            "min_height": null,
            "min_width": null,
            "object_fit": null,
            "object_position": null,
            "order": null,
            "overflow": null,
            "overflow_x": null,
            "overflow_y": null,
            "padding": null,
            "right": null,
            "top": null,
            "visibility": null,
            "width": null
          }
        },
        "fe0a6d6935ce42489dac077e348fa255": {
          "model_module": "@jupyter-widgets/base",
          "model_name": "LayoutModel",
          "model_module_version": "1.2.0",
          "state": {
            "_model_module": "@jupyter-widgets/base",
            "_model_module_version": "1.2.0",
            "_model_name": "LayoutModel",
            "_view_count": null,
            "_view_module": "@jupyter-widgets/base",
            "_view_module_version": "1.2.0",
            "_view_name": "LayoutView",
            "align_content": null,
            "align_items": null,
            "align_self": null,
            "border": null,
            "bottom": null,
            "display": null,
            "flex": null,
            "flex_flow": null,
            "grid_area": null,
            "grid_auto_columns": null,
            "grid_auto_flow": null,
            "grid_auto_rows": null,
            "grid_column": null,
            "grid_gap": null,
            "grid_row": null,
            "grid_template_areas": null,
            "grid_template_columns": null,
            "grid_template_rows": null,
            "height": null,
            "justify_content": null,
            "justify_items": null,
            "left": null,
            "margin": null,
            "max_height": null,
            "max_width": null,
            "min_height": null,
            "min_width": null,
            "object_fit": null,
            "object_position": null,
            "order": null,
            "overflow": null,
            "overflow_x": null,
            "overflow_y": null,
            "padding": null,
            "right": null,
            "top": null,
            "visibility": null,
            "width": null
          }
        },
        "e9cd3df8e97e47bdb655b6bc8aeaae45": {
          "model_module": "@jupyter-widgets/controls",
          "model_name": "DescriptionStyleModel",
          "model_module_version": "1.5.0",
          "state": {
            "_model_module": "@jupyter-widgets/controls",
            "_model_module_version": "1.5.0",
            "_model_name": "DescriptionStyleModel",
            "_view_count": null,
            "_view_module": "@jupyter-widgets/base",
            "_view_module_version": "1.2.0",
            "_view_name": "StyleView",
            "description_width": ""
          }
        },
        "8d28ae45b1714cfdbc54fe93e32a0a6d": {
          "model_module": "@jupyter-widgets/base",
          "model_name": "LayoutModel",
          "model_module_version": "1.2.0",
          "state": {
            "_model_module": "@jupyter-widgets/base",
            "_model_module_version": "1.2.0",
            "_model_name": "LayoutModel",
            "_view_count": null,
            "_view_module": "@jupyter-widgets/base",
            "_view_module_version": "1.2.0",
            "_view_name": "LayoutView",
            "align_content": null,
            "align_items": null,
            "align_self": null,
            "border": null,
            "bottom": null,
            "display": null,
            "flex": null,
            "flex_flow": null,
            "grid_area": null,
            "grid_auto_columns": null,
            "grid_auto_flow": null,
            "grid_auto_rows": null,
            "grid_column": null,
            "grid_gap": null,
            "grid_row": null,
            "grid_template_areas": null,
            "grid_template_columns": null,
            "grid_template_rows": null,
            "height": null,
            "justify_content": null,
            "justify_items": null,
            "left": null,
            "margin": null,
            "max_height": null,
            "max_width": null,
            "min_height": null,
            "min_width": null,
            "object_fit": null,
            "object_position": null,
            "order": null,
            "overflow": null,
            "overflow_x": null,
            "overflow_y": null,
            "padding": null,
            "right": null,
            "top": null,
            "visibility": null,
            "width": null
          }
        },
        "d3681da3eb2740d789f14ad9a14e14f9": {
          "model_module": "@jupyter-widgets/controls",
          "model_name": "ProgressStyleModel",
          "model_module_version": "1.5.0",
          "state": {
            "_model_module": "@jupyter-widgets/controls",
            "_model_module_version": "1.5.0",
            "_model_name": "ProgressStyleModel",
            "_view_count": null,
            "_view_module": "@jupyter-widgets/base",
            "_view_module_version": "1.2.0",
            "_view_name": "StyleView",
            "bar_color": null,
            "description_width": ""
          }
        },
        "95761a082bfc4ff1b304036061949236": {
          "model_module": "@jupyter-widgets/base",
          "model_name": "LayoutModel",
          "model_module_version": "1.2.0",
          "state": {
            "_model_module": "@jupyter-widgets/base",
            "_model_module_version": "1.2.0",
            "_model_name": "LayoutModel",
            "_view_count": null,
            "_view_module": "@jupyter-widgets/base",
            "_view_module_version": "1.2.0",
            "_view_name": "LayoutView",
            "align_content": null,
            "align_items": null,
            "align_self": null,
            "border": null,
            "bottom": null,
            "display": null,
            "flex": null,
            "flex_flow": null,
            "grid_area": null,
            "grid_auto_columns": null,
            "grid_auto_flow": null,
            "grid_auto_rows": null,
            "grid_column": null,
            "grid_gap": null,
            "grid_row": null,
            "grid_template_areas": null,
            "grid_template_columns": null,
            "grid_template_rows": null,
            "height": null,
            "justify_content": null,
            "justify_items": null,
            "left": null,
            "margin": null,
            "max_height": null,
            "max_width": null,
            "min_height": null,
            "min_width": null,
            "object_fit": null,
            "object_position": null,
            "order": null,
            "overflow": null,
            "overflow_x": null,
            "overflow_y": null,
            "padding": null,
            "right": null,
            "top": null,
            "visibility": null,
            "width": null
          }
        },
        "f7696399729345b2ac8dbb9711456433": {
          "model_module": "@jupyter-widgets/controls",
          "model_name": "DescriptionStyleModel",
          "model_module_version": "1.5.0",
          "state": {
            "_model_module": "@jupyter-widgets/controls",
            "_model_module_version": "1.5.0",
            "_model_name": "DescriptionStyleModel",
            "_view_count": null,
            "_view_module": "@jupyter-widgets/base",
            "_view_module_version": "1.2.0",
            "_view_name": "StyleView",
            "description_width": ""
          }
        },
        "a4371ead22e14482b81eeb5744b1b5c7": {
          "model_module": "@jupyter-widgets/controls",
          "model_name": "HBoxModel",
          "model_module_version": "1.5.0",
          "state": {
            "_dom_classes": [],
            "_model_module": "@jupyter-widgets/controls",
            "_model_module_version": "1.5.0",
            "_model_name": "HBoxModel",
            "_view_count": null,
            "_view_module": "@jupyter-widgets/controls",
            "_view_module_version": "1.5.0",
            "_view_name": "HBoxView",
            "box_style": "",
            "children": [
              "IPY_MODEL_3a98aa0016b5481ba6c65b2bde082fc6",
              "IPY_MODEL_ab5dc846358a45b09d1460b1c4cceacc",
              "IPY_MODEL_dec4541ff2b94e47ae4448602ebe68d6"
            ],
            "layout": "IPY_MODEL_1796830c02954c5ea01cfd32a012e4e9"
          }
        },
        "3a98aa0016b5481ba6c65b2bde082fc6": {
          "model_module": "@jupyter-widgets/controls",
          "model_name": "HTMLModel",
          "model_module_version": "1.5.0",
          "state": {
            "_dom_classes": [],
            "_model_module": "@jupyter-widgets/controls",
            "_model_module_version": "1.5.0",
            "_model_name": "HTMLModel",
            "_view_count": null,
            "_view_module": "@jupyter-widgets/controls",
            "_view_module_version": "1.5.0",
            "_view_name": "HTMLView",
            "description": "",
            "description_tooltip": null,
            "layout": "IPY_MODEL_ed87c228847e481a88d4f0995d00e110",
            "placeholder": "​",
            "style": "IPY_MODEL_10246ecac0b84073bed98d72169a023f",
            "value": "tokenizer.json: 100%"
          }
        },
        "ab5dc846358a45b09d1460b1c4cceacc": {
          "model_module": "@jupyter-widgets/controls",
          "model_name": "FloatProgressModel",
          "model_module_version": "1.5.0",
          "state": {
            "_dom_classes": [],
            "_model_module": "@jupyter-widgets/controls",
            "_model_module_version": "1.5.0",
            "_model_name": "FloatProgressModel",
            "_view_count": null,
            "_view_module": "@jupyter-widgets/controls",
            "_view_module_version": "1.5.0",
            "_view_name": "ProgressView",
            "bar_style": "success",
            "description": "",
            "description_tooltip": null,
            "layout": "IPY_MODEL_fa20ead3f3dc45c7b7458785c341da77",
            "max": 466062,
            "min": 0,
            "orientation": "horizontal",
            "style": "IPY_MODEL_2c523e41d7cb456ea510a0c0ae74c455",
            "value": 466062
          }
        },
        "dec4541ff2b94e47ae4448602ebe68d6": {
          "model_module": "@jupyter-widgets/controls",
          "model_name": "HTMLModel",
          "model_module_version": "1.5.0",
          "state": {
            "_dom_classes": [],
            "_model_module": "@jupyter-widgets/controls",
            "_model_module_version": "1.5.0",
            "_model_name": "HTMLModel",
            "_view_count": null,
            "_view_module": "@jupyter-widgets/controls",
            "_view_module_version": "1.5.0",
            "_view_name": "HTMLView",
            "description": "",
            "description_tooltip": null,
            "layout": "IPY_MODEL_93ed1d66b345482092c92e810c35164e",
            "placeholder": "​",
            "style": "IPY_MODEL_b5089376404d4119ad0fe1dcb8b62b44",
            "value": " 466k/466k [00:00&lt;00:00, 2.59MB/s]"
          }
        },
        "1796830c02954c5ea01cfd32a012e4e9": {
          "model_module": "@jupyter-widgets/base",
          "model_name": "LayoutModel",
          "model_module_version": "1.2.0",
          "state": {
            "_model_module": "@jupyter-widgets/base",
            "_model_module_version": "1.2.0",
            "_model_name": "LayoutModel",
            "_view_count": null,
            "_view_module": "@jupyter-widgets/base",
            "_view_module_version": "1.2.0",
            "_view_name": "LayoutView",
            "align_content": null,
            "align_items": null,
            "align_self": null,
            "border": null,
            "bottom": null,
            "display": null,
            "flex": null,
            "flex_flow": null,
            "grid_area": null,
            "grid_auto_columns": null,
            "grid_auto_flow": null,
            "grid_auto_rows": null,
            "grid_column": null,
            "grid_gap": null,
            "grid_row": null,
            "grid_template_areas": null,
            "grid_template_columns": null,
            "grid_template_rows": null,
            "height": null,
            "justify_content": null,
            "justify_items": null,
            "left": null,
            "margin": null,
            "max_height": null,
            "max_width": null,
            "min_height": null,
            "min_width": null,
            "object_fit": null,
            "object_position": null,
            "order": null,
            "overflow": null,
            "overflow_x": null,
            "overflow_y": null,
            "padding": null,
            "right": null,
            "top": null,
            "visibility": null,
            "width": null
          }
        },
        "ed87c228847e481a88d4f0995d00e110": {
          "model_module": "@jupyter-widgets/base",
          "model_name": "LayoutModel",
          "model_module_version": "1.2.0",
          "state": {
            "_model_module": "@jupyter-widgets/base",
            "_model_module_version": "1.2.0",
            "_model_name": "LayoutModel",
            "_view_count": null,
            "_view_module": "@jupyter-widgets/base",
            "_view_module_version": "1.2.0",
            "_view_name": "LayoutView",
            "align_content": null,
            "align_items": null,
            "align_self": null,
            "border": null,
            "bottom": null,
            "display": null,
            "flex": null,
            "flex_flow": null,
            "grid_area": null,
            "grid_auto_columns": null,
            "grid_auto_flow": null,
            "grid_auto_rows": null,
            "grid_column": null,
            "grid_gap": null,
            "grid_row": null,
            "grid_template_areas": null,
            "grid_template_columns": null,
            "grid_template_rows": null,
            "height": null,
            "justify_content": null,
            "justify_items": null,
            "left": null,
            "margin": null,
            "max_height": null,
            "max_width": null,
            "min_height": null,
            "min_width": null,
            "object_fit": null,
            "object_position": null,
            "order": null,
            "overflow": null,
            "overflow_x": null,
            "overflow_y": null,
            "padding": null,
            "right": null,
            "top": null,
            "visibility": null,
            "width": null
          }
        },
        "10246ecac0b84073bed98d72169a023f": {
          "model_module": "@jupyter-widgets/controls",
          "model_name": "DescriptionStyleModel",
          "model_module_version": "1.5.0",
          "state": {
            "_model_module": "@jupyter-widgets/controls",
            "_model_module_version": "1.5.0",
            "_model_name": "DescriptionStyleModel",
            "_view_count": null,
            "_view_module": "@jupyter-widgets/base",
            "_view_module_version": "1.2.0",
            "_view_name": "StyleView",
            "description_width": ""
          }
        },
        "fa20ead3f3dc45c7b7458785c341da77": {
          "model_module": "@jupyter-widgets/base",
          "model_name": "LayoutModel",
          "model_module_version": "1.2.0",
          "state": {
            "_model_module": "@jupyter-widgets/base",
            "_model_module_version": "1.2.0",
            "_model_name": "LayoutModel",
            "_view_count": null,
            "_view_module": "@jupyter-widgets/base",
            "_view_module_version": "1.2.0",
            "_view_name": "LayoutView",
            "align_content": null,
            "align_items": null,
            "align_self": null,
            "border": null,
            "bottom": null,
            "display": null,
            "flex": null,
            "flex_flow": null,
            "grid_area": null,
            "grid_auto_columns": null,
            "grid_auto_flow": null,
            "grid_auto_rows": null,
            "grid_column": null,
            "grid_gap": null,
            "grid_row": null,
            "grid_template_areas": null,
            "grid_template_columns": null,
            "grid_template_rows": null,
            "height": null,
            "justify_content": null,
            "justify_items": null,
            "left": null,
            "margin": null,
            "max_height": null,
            "max_width": null,
            "min_height": null,
            "min_width": null,
            "object_fit": null,
            "object_position": null,
            "order": null,
            "overflow": null,
            "overflow_x": null,
            "overflow_y": null,
            "padding": null,
            "right": null,
            "top": null,
            "visibility": null,
            "width": null
          }
        },
        "2c523e41d7cb456ea510a0c0ae74c455": {
          "model_module": "@jupyter-widgets/controls",
          "model_name": "ProgressStyleModel",
          "model_module_version": "1.5.0",
          "state": {
            "_model_module": "@jupyter-widgets/controls",
            "_model_module_version": "1.5.0",
            "_model_name": "ProgressStyleModel",
            "_view_count": null,
            "_view_module": "@jupyter-widgets/base",
            "_view_module_version": "1.2.0",
            "_view_name": "StyleView",
            "bar_color": null,
            "description_width": ""
          }
        },
        "93ed1d66b345482092c92e810c35164e": {
          "model_module": "@jupyter-widgets/base",
          "model_name": "LayoutModel",
          "model_module_version": "1.2.0",
          "state": {
            "_model_module": "@jupyter-widgets/base",
            "_model_module_version": "1.2.0",
            "_model_name": "LayoutModel",
            "_view_count": null,
            "_view_module": "@jupyter-widgets/base",
            "_view_module_version": "1.2.0",
            "_view_name": "LayoutView",
            "align_content": null,
            "align_items": null,
            "align_self": null,
            "border": null,
            "bottom": null,
            "display": null,
            "flex": null,
            "flex_flow": null,
            "grid_area": null,
            "grid_auto_columns": null,
            "grid_auto_flow": null,
            "grid_auto_rows": null,
            "grid_column": null,
            "grid_gap": null,
            "grid_row": null,
            "grid_template_areas": null,
            "grid_template_columns": null,
            "grid_template_rows": null,
            "height": null,
            "justify_content": null,
            "justify_items": null,
            "left": null,
            "margin": null,
            "max_height": null,
            "max_width": null,
            "min_height": null,
            "min_width": null,
            "object_fit": null,
            "object_position": null,
            "order": null,
            "overflow": null,
            "overflow_x": null,
            "overflow_y": null,
            "padding": null,
            "right": null,
            "top": null,
            "visibility": null,
            "width": null
          }
        },
        "b5089376404d4119ad0fe1dcb8b62b44": {
          "model_module": "@jupyter-widgets/controls",
          "model_name": "DescriptionStyleModel",
          "model_module_version": "1.5.0",
          "state": {
            "_model_module": "@jupyter-widgets/controls",
            "_model_module_version": "1.5.0",
            "_model_name": "DescriptionStyleModel",
            "_view_count": null,
            "_view_module": "@jupyter-widgets/base",
            "_view_module_version": "1.2.0",
            "_view_name": "StyleView",
            "description_width": ""
          }
        }
      }
    }
  },
  "nbformat": 4,
  "nbformat_minor": 5
}