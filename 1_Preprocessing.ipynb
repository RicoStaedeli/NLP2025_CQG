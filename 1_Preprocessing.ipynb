{
  "cells": [
    {
      "cell_type": "markdown",
      "metadata": {
        "id": "view-in-github",
        "colab_type": "text"
      },
      "source": [
        "<a href=\"https://colab.research.google.com/github/RicoStaedeli/NLP2025_CQG/blob/main/SocratiQ_final_prepro.ipynb\" target=\"_parent\"><img src=\"https://colab.research.google.com/assets/colab-badge.svg\" alt=\"Open In Colab\"/></a>"
      ]
    },
    {
      "metadata": {
        "id": "41bab268dcf9f851"
      },
      "cell_type": "markdown",
      "source": [
        "# Final preprocessing of full data set for 4 question types (! STRONG threshold here!)"
      ],
      "id": "41bab268dcf9f851"
    },
    {
      "cell_type": "code",
      "source": [
        "from google.colab import userdata, drive\n",
        "import os"
      ],
      "metadata": {
        "id": "saGn6Kn9UBDm"
      },
      "id": "saGn6Kn9UBDm",
      "execution_count": 1,
      "outputs": []
    },
    {
      "cell_type": "code",
      "source": [
        "token = userdata.get('GITHUB')\n",
        "repo_url = f\"https://{token}@github.com/RicoStaedeli/NLP2025_CQG.git\"\n",
        "\n",
        "!git clone {repo_url}"
      ],
      "metadata": {
        "id": "O7kSVAUQTuao",
        "colab": {
          "base_uri": "https://localhost:8080/"
        },
        "outputId": "01699cd9-ac50-458b-b3cc-f2ec4e07bb81"
      },
      "id": "O7kSVAUQTuao",
      "execution_count": 3,
      "outputs": [
        {
          "output_type": "stream",
          "name": "stdout",
          "text": [
            "Cloning into 'NLP2025_CQG'...\n",
            "remote: Enumerating objects: 585, done.\u001b[K\n",
            "remote: Counting objects: 100% (71/71), done.\u001b[K\n",
            "remote: Compressing objects: 100% (35/35), done.\u001b[K\n",
            "remote: Total 585 (delta 48), reused 47 (delta 36), pack-reused 514 (from 1)\u001b[K\n",
            "Receiving objects: 100% (585/585), 24.79 MiB | 16.04 MiB/s, done.\n",
            "Resolving deltas: 100% (274/274), done.\n"
          ]
        }
      ]
    },
    {
      "cell_type": "code",
      "source": [
        "os.chdir(\"NLP2025_CQG\")\n",
        "!ls"
      ],
      "metadata": {
        "id": "wZjqyW3SUDy5",
        "colab": {
          "base_uri": "https://localhost:8080/"
        },
        "outputId": "9096ea79-1276-429e-ba2c-f98632130618"
      },
      "id": "wZjqyW3SUDy5",
      "execution_count": 4,
      "outputs": [
        {
          "output_type": "stream",
          "name": "stdout",
          "text": [
            "1_Preprocessing.ipynb\t\t     Development\n",
            "2a_Baseline_Evaluation.ipynb\t     Doc\n",
            "2_Baseline_CQS_generation.ipynb      Evaluation\n",
            "2_Baseline_CQS_generation_old.ipynb  INFORMATION.md\n",
            "3a_Finetuned_CQS_generation.ipynb    LICENSE\n",
            "3b_Finetune_Evaluation.ipynb\t     Logs\n",
            "3_Training.ipynb\t\t     README.md\n",
            "4a_RAG_CQS_generation.ipynb\t     requirements.txt\n",
            "4b_RAG_Evaluation.ipynb\t\t     SocratiQ_final_prepro.ipynb\n",
            "4_RAG_System,.ipynb\t\t     Training\n",
            "5_Evaluation_Analytics.ipynb\t     Utils\n",
            "Data\n"
          ]
        }
      ]
    },
    {
      "cell_type": "code",
      "source": [
        "drive.mount('/content/drive')"
      ],
      "metadata": {
        "id": "80s47wJjUWX9",
        "colab": {
          "base_uri": "https://localhost:8080/"
        },
        "outputId": "56400cc5-016c-44b3-a8d0-88ce64d3feed"
      },
      "id": "80s47wJjUWX9",
      "execution_count": 5,
      "outputs": [
        {
          "output_type": "stream",
          "name": "stdout",
          "text": [
            "Mounted at /content/drive\n"
          ]
        }
      ]
    },
    {
      "cell_type": "code",
      "source": [
        "import pandas as pd\n",
        "import spacy\n",
        "import nltk\n",
        "\n",
        "nltk.download('framenet_v17')\n",
        "nlp = spacy.load(\"en_core_web_sm\")\n",
        "\n",
        "chunk = \"train_chunk_III\""
      ],
      "metadata": {
        "colab": {
          "base_uri": "https://localhost:8080/"
        },
        "id": "W50dH5A6RqX-",
        "outputId": "87b01da4-6872-4e38-8689-76ee2bcc5213"
      },
      "id": "W50dH5A6RqX-",
      "execution_count": 18,
      "outputs": [
        {
          "output_type": "stream",
          "name": "stderr",
          "text": [
            "[nltk_data] Downloading package framenet_v17 to /root/nltk_data...\n",
            "[nltk_data]   Package framenet_v17 is already up-to-date!\n"
          ]
        }
      ]
    },
    {
      "cell_type": "code",
      "source": [
        "filtered_df = pd.read_csv(\n",
        "    f'/content/drive/MyDrive/HSG/NLP/Project NLP/Data/Final/filtered_{chunk}.csv'\n",
        ")"
      ],
      "metadata": {
        "id": "1gWqgzIwZbrU"
      },
      "id": "1gWqgzIwZbrU",
      "execution_count": 19,
      "outputs": []
    },
    {
      "metadata": {
        "id": "57507ae3d4b612b4"
      },
      "cell_type": "markdown",
      "source": [
        "### lentgh filtering"
      ],
      "id": "57507ae3d4b612b4"
    },
    {
      "metadata": {
        "ExecuteTime": {
          "end_time": "2025-05-15T16:21:21.462319Z",
          "start_time": "2025-05-15T16:15:25.899142Z"
        },
        "id": "488634547f88d664",
        "colab": {
          "base_uri": "https://localhost:8080/"
        },
        "outputId": "ac613051-c154-4a3c-d5c0-d33f56c054ae"
      },
      "cell_type": "code",
      "source": [
        "df = pd.read_csv(\n",
        "    os.path.join(os.getcwd(), f\"Data/Raw/SocraticQ/{chunk}.csv\"),\n",
        "    names=[\"category\", \"context\", \"question\"]\n",
        ")\n",
        "\n",
        "df[\"context_token_len\"] = df[\"context\"].apply(lambda text: len(nlp(text)))\n",
        "filtered_df = df[df[\"context_token_len\"] >= 25].copy()\n",
        "\n",
        "print(f\"Total rows: {len(df)}\")\n",
        "print(f\"Rows after filtering: {len(filtered_df)}\")"
      ],
      "id": "488634547f88d664",
      "outputs": [
        {
          "output_type": "stream",
          "name": "stderr",
          "text": [
            "[nltk_data] Downloading package framenet_v17 to /root/nltk_data...\n",
            "[nltk_data]   Package framenet_v17 is already up-to-date!\n"
          ]
        },
        {
          "output_type": "stream",
          "name": "stdout",
          "text": [
            "Total rows: 28195\n",
            "Rows after filtering: 27150\n"
          ]
        }
      ],
      "execution_count": 12
    },
    {
      "cell_type": "code",
      "source": [
        "filtered_df.to_csv(f'/content/drive/MyDrive/HSG/NLP/Project NLP/Data/Final/filtered_{chunk}.csv', index=False)"
      ],
      "metadata": {
        "id": "tBw6502-RdI3"
      },
      "id": "tBw6502-RdI3",
      "execution_count": 13,
      "outputs": []
    },
    {
      "metadata": {
        "id": "d3dbe6be2d9c3d07"
      },
      "cell_type": "markdown",
      "source": [
        "### 1. cause to effect"
      ],
      "id": "d3dbe6be2d9c3d07"
    },
    {
      "metadata": {
        "ExecuteTime": {
          "end_time": "2025-05-15T16:24:05.012524Z",
          "start_time": "2025-05-15T16:24:05.003862Z"
        },
        "id": "abaa90b8f8570b7a"
      },
      "cell_type": "code",
      "source": [
        "from nltk.corpus import framenet as fn\n",
        "\n",
        "def get_causal_verbs_from_framenet():\n",
        "    causal_frame_names = [\n",
        "        \"Causation\", \"Cause_change\", \"Cause_change_of_position_on_a_scale\",\n",
        "        \"Cause_motion\", \"Cause_to_amalgamate\", \"Cause_to_start\", \"Cause_to_make_progress\",\n",
        "        \"Causation_scenario\", \"Cause_to_end\", \"Cause_to_resume\",\n",
        "        \"Cause_to_continue\", \"Cause_change_of_consistency\",\"Cause_expansion\",\"Cause_impact\"\n",
        "    ]\n",
        "\n",
        "    causal_verbs = set()\n",
        "    for frame_name in causal_frame_names:\n",
        "        try:\n",
        "            frame = fn.frame_by_name(frame_name)\n",
        "            for lu in frame.lexUnit.values():\n",
        "                if '.v' in lu['name']:  # Only verbs\n",
        "                    causal_verbs.add(lu['name'].split('.')[0])\n",
        "        except Exception as e:\n",
        "            print(f\"Error loading frame '{frame_name}': {e}\")\n",
        "\n",
        "    return causal_verbs\n",
        "\n",
        "\n",
        "\n",
        "def detect_cause_to_effect(sentence):\n",
        "    doc = nlp(sentence)\n",
        "    explanations = []\n",
        "    score = 0\n",
        "\n",
        "    causal_verbs = get_causal_verbs_from_framenet()\n",
        "\n",
        "    has_condition = any(tok.dep_ == \"mark\" and tok.text.lower() in {\"if\", \"when\"} for tok in doc)\n",
        "    if has_condition:\n",
        "        explanations.append(\"✓ Conditional clause detected (e.g., 'if', 'when')\")\n",
        "        score += 2\n",
        "\n",
        "    has_advcl = any(tok.dep_ == \"advcl\" for tok in doc)\n",
        "    if has_advcl:\n",
        "        explanations.append(\"✓ Adverbial clause (likely effect clause) detected\")\n",
        "        score += 2\n",
        "\n",
        "    has_causal_verb_structure = False\n",
        "    for tok in doc:\n",
        "        if tok.lemma_ in causal_verbs and tok.pos_ == \"VERB\":\n",
        "            subj = any(child.dep_ == \"nsubj\" for child in tok.children)\n",
        "            obj = any(child.dep_ == \"dobj\" for child in tok.children)\n",
        "            prep = any(child.dep_ == \"prep\" for child in tok.children)\n",
        "            if subj or obj or prep:\n",
        "                has_causal_verb_structure = True\n",
        "                explanations.append(\n",
        "                    f\"✓ Verb '{tok.lemma_}' is listed in FrameNet under causal frames with subject/object/prep\"\n",
        "                )\n",
        "                score += 2\n",
        "                if subj: score += 1\n",
        "                if obj: score += 1\n",
        "                if prep: score += 1\n",
        "                break\n",
        "\n",
        "    is_causal = has_condition and has_advcl or has_causal_verb_structure\n",
        "    if not is_causal:\n",
        "        causal_phrases = [\"result in\", \"lead to\", \"may cause\", \"because of\", \"due to\",\"given rise to\",\"resulting from\", \"stemming from\", \"driven by\", \"caused by\", \"attributed to\", \"stems from\", \"reason\", \"result of\", \"consequence of\", \"owning to\", \"thus\", \"thereby\"]\n",
        "        if any(phrase in sentence.lower() for phrase in causal_phrases):\n",
        "            explanations.append(\"✓ Phrase pattern matches known cause-to-effect trigger\")\n",
        "            score += 1\n",
        "\n",
        "    score = min(score, 10)\n",
        "    label = \"Strong CauseToEffect\" if score >= 7 else \"Weak/Partial CauseToEffect\" if score >= 4 else \"Not CauseToEffect\"\n",
        "    return label, score, explanations\n"
      ],
      "id": "abaa90b8f8570b7a",
      "outputs": [],
      "execution_count": 8
    },
    {
      "cell_type": "code",
      "source": [
        "print(get_causal_verbs_from_framenet())"
      ],
      "metadata": {
        "colab": {
          "base_uri": "https://localhost:8080/"
        },
        "id": "71mhHrSeZNDC",
        "outputId": "6dca0e63-f0da-4075-d8ba-0e7fbd8b532d"
      },
      "id": "71mhHrSeZNDC",
      "execution_count": 9,
      "outputs": [
        {
          "output_type": "stream",
          "name": "stdout",
          "text": [
            "{'shift', 'pair', 'mean', 'pitch', 'increase', 'restart', 'punt', 'keep', 'inspissate', 'elicit', 'clang', 'swell', 'see', 'merge', 'bring on', 'motivate', 'add', 'coalesce', 'thud', 'ram', 'meld', 'generate', 'press', 'slide', 'compound', 'admix', 'soften', 'push', 'slash', 'congeal', 'rap', 'throw together', 'blow up', 'lower', 'put an end to', 'bring', 'hurl', 'reduce', 'propel', 'impel', 'jerk', 'kindle', 'strike', 'actuate', 'instigate', 'convert', 'arouse', 'launch', 'lump', 'perfect', 'haul', 'widen', 'bring about', 'produce', 'click', 'run', 'advance', 'expand', 'make', 'graze', 'rustle', 'rattle', 'provoke', 'clatter', 'catapult', 'grow', 'leave', 'end', 'diminish', 'drive', 'unify', 'wreak', 'deform', 'smack', 'create', 'drag', 'yank', 'combine', 'rake', 'jell', 'draw', 'do away with', 'amalgamate', 'shove', 'throw', 'collide', 'step up', 'commingle', 'change', 'excite', 'transfer', 'attract', 'stir up', 'clink', 'reshape', 'slam', 'hit', 'give rise', 'narrow', 'cast', 'knock down', 'unite', 'nudge', 'flux', 'tug', 'pull', 'fold', 'mix', 'magnify', 'crank', 'scoot', 'consolidate', 'set off', 'put', 'reinstate', 'jab', 'promote', 'knock', 'harden', 'conflate', 'enlarge', 'transform', 'clash', 'induce', 'wrench', 'wrest', 'thump', 'intermix', 'force', 'develop', 'clot', 'modify', 'precipitate', 'stretch', 'bang', 'incite', 'indurate', 'prompt', 'thicken', 'sway', 'spark', 'lift', 'render', 'jumble', 'call forth', 'dilate', 'curtail', 'crash', 'stimulate', 'plow', 'lead (to)', 'decrease', 'set', 'thrust', 'send', 'abort', 'toss', 'join', 'revive', 'resume', 'alter', 'dictate', 'mature', 'trigger', 'result (in)', 'cut', 'compress', 'raise', 'thin', 'vary', 'lengthen', 'chuck', 'engender', 'double', 'improve', 'shrink', 'arrest', 'blend', 'drop', 'slap', 'fling', 'enhance', 'bring together', 'condense', 'coagulate', 'cause', 'move', 'stick', 'fuse', 'roll', 'curdle', 'turn', 'inflate'}\n"
          ]
        }
      ]
    },
    {
      "metadata": {
        "id": "643fcb1c1bf9051d"
      },
      "cell_type": "markdown",
      "source": [
        "### 2. expert opinion"
      ],
      "id": "643fcb1c1bf9051d"
    },
    {
      "metadata": {
        "ExecuteTime": {
          "end_time": "2025-05-15T16:24:07.108589Z",
          "start_time": "2025-05-15T16:24:06.511692Z"
        },
        "id": "4b793c6ec8764e49"
      },
      "cell_type": "code",
      "source": [
        "def get_lexical_units_from_frames(frames):\n",
        "    terms = set()\n",
        "    for frame_name in frames:\n",
        "        try:\n",
        "            frame = fn.frame_by_name(frame_name)\n",
        "            for lu in frame.lexUnit.values():\n",
        "                if '.v' in lu['name']:\n",
        "                    terms.add(lu['name'].split('.')[0])\n",
        "        except Exception as e:\n",
        "            print(f\"Warning: Could not load frame '{frame_name}': {e}\")\n",
        "    return terms\n",
        "\n",
        "\n",
        "expert_frames = [\n",
        "    \"Expertise\", \"Judgment_communication\", \"Opinion\",\n",
        "    \"Authority\", \"Statement\", \"Certainty\"\n",
        "]\n",
        "quote_frames = [\"Statement\", \"Judgment_communication\"]\n",
        "clarity_frames = [\"Reasoning\"]\n",
        "evidence_frames = [\"Evidence\", \"Certainty\", \"Causation\"]\n",
        "\n",
        "\n",
        "expert_verbs = get_lexical_units_from_frames(expert_frames)\n",
        "quote_verbs = get_lexical_units_from_frames(quote_frames)\n",
        "clarity_terms = get_lexical_units_from_frames(clarity_frames)\n",
        "evidence_terms = get_lexical_units_from_frames(evidence_frames)\n",
        "\n",
        "def detect_expert_opinion(question):\n",
        "\n",
        "    doc = nlp(question)\n",
        "    score = 0\n",
        "    explanations = []\n",
        "\n",
        "    expert_titles = {\"expert\", \"researcher\", \"scientist\", \"doctor\", \"analyst\", \"professor\", \"Dr.\"}\n",
        "\n",
        "    for ent in doc.ents:\n",
        "        if ent.label_ in {\"PERSON\", \"ORG\"}:\n",
        "            if any(title in ent.text.lower() for title in expert_titles):\n",
        "                explanations.append(f\"✓ Expert entity detected: '{ent.text}'\")\n",
        "                score += 2\n",
        "                break\n",
        "\n",
        "    if any(tok.lemma_ in expert_verbs for tok in doc if tok.pos_ == \"VERB\"):\n",
        "        explanations.append(\"✓ Detected expert-related verb from FrameNet\")\n",
        "        score += 2\n",
        "\n",
        "    if any(tok.lemma_ in quote_verbs for tok in doc):\n",
        "        explanations.append(\"✓ Quotation or claim verb found\")\n",
        "        score += 1\n",
        "\n",
        "    if any(tok.lemma_ in clarity_terms for tok in doc):\n",
        "        explanations.append(\"✓ Clarity/definition markers found\")\n",
        "        score += 1\n",
        "\n",
        "    if any(tok.lemma_ in evidence_terms for tok in doc):\n",
        "        explanations.append(\"✓ Evidence or support-related terms found\")\n",
        "        score += 2\n",
        "\n",
        "    label = \"Strong Expert Opinion\" if score >= 6 else \"Weak/Partial Expert Opinion\" if score >= 3 else \"Not Expert Opinion\"\n",
        "    return label, score, explanations\n"
      ],
      "id": "4b793c6ec8764e49",
      "outputs": [],
      "execution_count": 11
    },
    {
      "metadata": {
        "id": "755d0a67225dbe50"
      },
      "cell_type": "markdown",
      "source": [
        "### 3. Analogy detection"
      ],
      "id": "755d0a67225dbe50"
    },
    {
      "metadata": {
        "ExecuteTime": {
          "end_time": "2025-05-15T16:24:09.963923Z",
          "start_time": "2025-05-15T16:24:08.288629Z"
        },
        "id": "42e76e57e97bbaba",
        "colab": {
          "base_uri": "https://localhost:8080/"
        },
        "outputId": "899b5a25-8c90-406b-aab8-ca011083d3d6"
      },
      "cell_type": "code",
      "source": [
        "from nltk.corpus import wordnet as wn\n",
        "nltk.download('wordnet')\n",
        "analogy_synsets = [wn.synset('similar.a.01'), wn.synset('analogy.n.01'), wn.synset('compare.v.01')]\n",
        "\n",
        "comparison_frames = [\"Similarity\"]\n",
        "contrast_frames = [\"Categorization\"]\n",
        "evidence_frames = [\"Evidence\", \"Judgment_communication\"]\n",
        "\n",
        "comparison_verbs = get_lexical_units_from_frames(comparison_frames)\n",
        "contrast_verbs = get_lexical_units_from_frames(contrast_frames)\n",
        "evidence_verbs = get_lexical_units_from_frames(evidence_frames)\n",
        "\n",
        "def is_semantically_analogical(token):\n",
        "    token_synsets = wn.synsets(token.lemma_)\n",
        "    for s in token_synsets:\n",
        "        for analogy_syn in analogy_synsets:\n",
        "            if s.path_similarity(analogy_syn) and s.path_similarity(analogy_syn) > 0.3:\n",
        "                return True\n",
        "    return False\n",
        "\n",
        "def detect_analogy_question(question):\n",
        "    doc = nlp(question)\n",
        "    score = 0\n",
        "    explanations = []\n",
        "    noun_chunks = list(doc.noun_chunks)\n",
        "\n",
        "    if any(tok.lemma_ in comparison_verbs for tok in doc if tok.pos_ == \"VERB\"):\n",
        "        explanations.append(\"✓ Comparison verb detected from FrameNet\")\n",
        "        score += 2\n",
        "\n",
        "    entity_tokens = [tok for tok in doc if tok.pos_ in {\"PROPN\", \"NOUN\"}]\n",
        "    if len(set(tok.lemma_ for tok in entity_tokens)) >= 2:\n",
        "        explanations.append(\"✓ Contains at least two distinct concepts/entities\")\n",
        "        score += 1\n",
        "\n",
        "    if any(tok.lemma_ in contrast_verbs for tok in doc if tok.pos_ == \"VERB\"):\n",
        "        explanations.append(\"✓ Contrast or difference verb detected from FrameNet\")\n",
        "        score += 1\n",
        "\n",
        "    if any(tok.lemma_ in evidence_verbs for tok in doc if tok.pos_ == \"VERB\"):\n",
        "        explanations.append(\"✓ Evidence or justification verb found\")\n",
        "        score += 1\n",
        "\n",
        "    if any(tok.tag_ == \"MD\" for tok in doc):\n",
        "        score += 1\n",
        "\n",
        "    if len(noun_chunks) >= 2 and any(tok.lemma_ in {\"similar\", \"like\", \"as\"} for tok in doc):\n",
        "        explanations.append(\"✓ Two concepts compared with similarity cue (e.g., 'similar', 'like')\")\n",
        "        score += 2\n",
        "\n",
        "    if any(tok.text.lower() == \"if\" for tok in doc):\n",
        "        explanations.append(\"✓ Conditional structure suggesting hypothetical reasoning\")\n",
        "        score += 1\n",
        "\n",
        "    if any(is_semantically_analogical(tok) for tok in doc if tok.pos_ in {\"ADJ\", \"NOUN\", \"VERB\"}):\n",
        "        explanations.append(\"✓ Semantic similarity to analogy-related terms detected via WordNet\")\n",
        "        score += 2\n",
        "\n",
        "    if any(tok.dep_ in {\"prep\", \"relcl\"} and tok.lemma_ in {\"compare\", \"similar\"} for tok in doc):\n",
        "        explanations.append(\"✓ Syntactic cue of analogy (e.g., 'compared with', 'similar to')\")\n",
        "        score += 1\n",
        "\n",
        "    label = \"Strong Analogy Question\" if score >= 8 else \"Weak/Partial Analogy Question\" if score >= 5 else \"Not Analogy Question\"\n",
        "    return label, score, explanations\n"
      ],
      "id": "42e76e57e97bbaba",
      "outputs": [
        {
          "output_type": "stream",
          "name": "stderr",
          "text": [
            "[nltk_data] Downloading package wordnet to /root/nltk_data...\n"
          ]
        }
      ],
      "execution_count": 12
    },
    {
      "metadata": {
        "id": "a2cf149cfa5caa03"
      },
      "cell_type": "markdown",
      "source": [
        "### 4. Bias"
      ],
      "id": "a2cf149cfa5caa03"
    },
    {
      "metadata": {
        "ExecuteTime": {
          "end_time": "2025-05-15T16:24:11.581068Z",
          "start_time": "2025-05-15T16:24:11.567985Z"
        },
        "id": "7cf9149aea813762"
      },
      "cell_type": "code",
      "source": [
        "\n",
        "def is_fear_related(token):\n",
        "    syns = wn.synsets(token.lemma_)\n",
        "    for s in syns:\n",
        "        if any(s.path_similarity(wn.synset('danger.n.01')) or\n",
        "               s.path_similarity(wn.synset('fear.n.01')) or\n",
        "               s.path_similarity(wn.synset('threat.n.01')) for s in syns):\n",
        "            return True\n",
        "    return False\n",
        "\n",
        "\n",
        "# ---- FrameNet Utility ----\n",
        "def get_lexical_units_from_frames(frames):\n",
        "    terms = set()\n",
        "    for frame_name in frames:\n",
        "        try:\n",
        "            frame = fn.frame_by_name(frame_name)\n",
        "            for lu in frame.lexUnit.values():\n",
        "                if '.v' in lu['name']:\n",
        "                    terms.add(lu['name'].split('.')[0])\n",
        "        except:\n",
        "            continue\n",
        "    return terms\n",
        "\n",
        "# ---- Relevant Lexical Resources ----\n",
        "causal_frames = [\"Causation\", \"Cause_to_start\", \"Preventing\", \"Risk\", \"Threaten\", \"Danger\"]\n",
        "causal_verbs = get_lexical_units_from_frames(causal_frames)\n",
        "\n",
        "fear_keywords = {\"danger\", \"threat\", \"risky\", \"harm\", \"catastrophe\", \"crisis\", \"ruin\", \"fear\", \"worse\", \"bad\", \"fatal\"}\n",
        "preventive_keywords = {\"prevent\", \"avoid\", \"stop\", \"ban\", \"rescue\", \"save\", \"protect\"}\n",
        "modal_keywords = {\"might\", \"could\", \"would\", \"may\", \"should\"}\n",
        "\n",
        "def detect_fear_appeal_question(question):\n",
        "    doc = nlp(question)\n",
        "    score = 0\n",
        "    explanations = []\n",
        "\n",
        "    if any(tok.lemma_ in modal_keywords for tok in doc if tok.tag_ == \"MD\"):\n",
        "        explanations.append(\"✓ Modal verb detected (e.g., 'might', 'would') suggesting hypothetical risk\")\n",
        "        score += 1\n",
        "\n",
        "    if any(tok.lemma_.lower() in fear_keywords for tok in doc):\n",
        "        explanations.append(\"✓ Fear-related keyword detected (e.g., 'threat', 'danger')\")\n",
        "        score += 2\n",
        "\n",
        "    if any(tok.lemma_.lower() in preventive_keywords for tok in doc):\n",
        "        explanations.append(\"✓ Preventive action verb detected (e.g., 'prevent', 'stop')\")\n",
        "        score += 2\n",
        "\n",
        "    if any(tok.lemma_ in causal_verbs for tok in doc if tok.pos_ == \"VERB\"):\n",
        "        explanations.append(\"✓ Causal/preventive verb from FrameNet detected\")\n",
        "        score += 2\n",
        "\n",
        "    if any(tok.text.lower() in {\"if\", \"unless\"} for tok in doc):\n",
        "        explanations.append(\"✓ Conditional clause found (e.g., 'if', 'unless')\")\n",
        "        score += 1\n",
        "\n",
        "    if any(is_fear_related(tok) for tok in doc if tok.pos_ in {\"NOUN\", \"VERB\", \"ADJ\"}):\n",
        "        explanations.append(\"✓ Semantic fear-related concept detected via WordNet\")\n",
        "        score += 2\n",
        "\n",
        "    label = \"Strong Fear Appeal\" if score >= 6 else \"Weak/Partial Fear Appeal\" if score >= 4 else \"Not Fear Appeal\"\n",
        "    return label, score, explanations\n"
      ],
      "id": "7cf9149aea813762",
      "outputs": [],
      "execution_count": 14
    },
    {
      "metadata": {
        "id": "7a8603ab85946f5f"
      },
      "cell_type": "markdown",
      "source": [
        "# Final method for preprocessing and filtering for all types"
      ],
      "id": "7a8603ab85946f5f"
    },
    {
      "metadata": {
        "ExecuteTime": {
          "end_time": "2025-05-15T16:29:19.482629Z",
          "start_time": "2025-05-15T16:29:15.075842Z"
        },
        "id": "e2a3daba550e0722",
        "colab": {
          "base_uri": "https://localhost:8080/",
          "height": 424
        },
        "outputId": "71aef827-070a-4ebb-ab25-7e118988dac8"
      },
      "cell_type": "code",
      "source": [
        "def classify_schema(row):\n",
        "    question = row[\"question\"]\n",
        "    results = []\n",
        "\n",
        "    is_critical = False\n",
        "\n",
        "    _, cte_score, _ = detect_cause_to_effect(question)\n",
        "    _, expert_score, _ = detect_expert_opinion(question)\n",
        "    _, analogy_score, _ = detect_analogy_question(question)\n",
        "    _, fear_score, _ = detect_fear_appeal_question(question)\n",
        "\n",
        "    if cte_score >= 7:\n",
        "      is_critical = True\n",
        "\n",
        "    if expert_score >= 6:\n",
        "      is_critical = True\n",
        "\n",
        "    if analogy_score >= 8:\n",
        "      is_critical = True\n",
        "\n",
        "    if fear_score >= 6:\n",
        "       is_critical = True\n",
        "\n",
        "    return pd.Series({\n",
        "        \"is_Critical\": is_critical,\n",
        "        \"CauseToEffect\": cte_score,\n",
        "        \"ExpertOpinion\": expert_score,\n",
        "        \"Analogy\": analogy_score,\n",
        "        \"FearAppeal\": fear_score,\n",
        "    })\n",
        "\n",
        "\n",
        "\n",
        "\n",
        "#filtered_df = filtered_df[:1000]\n",
        "filtered_df[[\"is_Critical\",\"CauseToEffect\", \"ExpertOpinion\", \"Analogy\", \"FearAppeal\"]] = filtered_df.apply(classify_schema, axis=1)\n",
        "filtered_df"
      ],
      "id": "e2a3daba550e0722",
      "outputs": [
        {
          "output_type": "execute_result",
          "data": {
            "text/plain": [
              "       category                                            context  \\\n",
              "0       56388.0  reasons_evidence: Preamble: this is my first C...   \n",
              "1       56389.0  reasons_evidence: Yes they do it because they ...   \n",
              "2       56390.0  reasons_evidence: I'm tired of people claiming...   \n",
              "3       56391.0  reasons_evidence: Freakonomics did a really in...   \n",
              "4       56392.0  reasons_evidence: Very spot on. Most of my fel...   \n",
              "...         ...                                                ...   \n",
              "27026   84575.0  reasons_evidence: I am not aware of any legal ...   \n",
              "27027   84577.0  reasons_evidence: It’s super common for oppone...   \n",
              "27028   84578.0  reasons_evidence: I studied a government, law ...   \n",
              "27029   84579.0  reasons_evidence: You work for money to spend ...   \n",
              "27030   84581.0  reasons_evidence: A) The intent of the sub to ...   \n",
              "\n",
              "                                                question  context_token_len  \\\n",
              "0      Why should the definition of a fruit be based ...                136   \n",
              "1           Why does the universe need to be functional?                 72   \n",
              "2      So why are we somehow more powerless now than ...                211   \n",
              "3      Is there an article that you could link to ela...                 33   \n",
              "4                        Do they even use Latiné though?                 45   \n",
              "...                                                  ...                ...   \n",
              "27026  Is there a reason to not label the parties as ...                 47   \n",
              "27027                          But why call this racism?                 70   \n",
              "27028  How can a professor teach you how without givi...                 67   \n",
              "27029   And why do you need to pay for food and shelter?                 32   \n",
              "27030    Why should they not be allowed to do so though?                 53   \n",
              "\n",
              "       is_Critical  CauseToEffect  ExpertOpinion  Analogy  FearAppeal  \n",
              "0            False              0              0        6           3  \n",
              "1            False              0              0        2           2  \n",
              "2            False              2              0        2           2  \n",
              "3            False              0              0        3           3  \n",
              "4            False              0              0        2           2  \n",
              "...            ...            ...            ...      ...         ...  \n",
              "27026        False              1              1        3           2  \n",
              "27027        False              0              0        2           2  \n",
              "27028        False              0              0        4           2  \n",
              "27029        False              0              0        3           2  \n",
              "27030        False              0              3        3           3  \n",
              "\n",
              "[27031 rows x 9 columns]"
            ],
            "text/html": [
              "\n",
              "  <div id=\"df-138d14d6-49c1-473b-bd36-41c3a2a10237\" class=\"colab-df-container\">\n",
              "    <div>\n",
              "<style scoped>\n",
              "    .dataframe tbody tr th:only-of-type {\n",
              "        vertical-align: middle;\n",
              "    }\n",
              "\n",
              "    .dataframe tbody tr th {\n",
              "        vertical-align: top;\n",
              "    }\n",
              "\n",
              "    .dataframe thead th {\n",
              "        text-align: right;\n",
              "    }\n",
              "</style>\n",
              "<table border=\"1\" class=\"dataframe\">\n",
              "  <thead>\n",
              "    <tr style=\"text-align: right;\">\n",
              "      <th></th>\n",
              "      <th>category</th>\n",
              "      <th>context</th>\n",
              "      <th>question</th>\n",
              "      <th>context_token_len</th>\n",
              "      <th>is_Critical</th>\n",
              "      <th>CauseToEffect</th>\n",
              "      <th>ExpertOpinion</th>\n",
              "      <th>Analogy</th>\n",
              "      <th>FearAppeal</th>\n",
              "    </tr>\n",
              "  </thead>\n",
              "  <tbody>\n",
              "    <tr>\n",
              "      <th>0</th>\n",
              "      <td>56388.0</td>\n",
              "      <td>reasons_evidence: Preamble: this is my first C...</td>\n",
              "      <td>Why should the definition of a fruit be based ...</td>\n",
              "      <td>136</td>\n",
              "      <td>False</td>\n",
              "      <td>0</td>\n",
              "      <td>0</td>\n",
              "      <td>6</td>\n",
              "      <td>3</td>\n",
              "    </tr>\n",
              "    <tr>\n",
              "      <th>1</th>\n",
              "      <td>56389.0</td>\n",
              "      <td>reasons_evidence: Yes they do it because they ...</td>\n",
              "      <td>Why does the universe need to be functional?</td>\n",
              "      <td>72</td>\n",
              "      <td>False</td>\n",
              "      <td>0</td>\n",
              "      <td>0</td>\n",
              "      <td>2</td>\n",
              "      <td>2</td>\n",
              "    </tr>\n",
              "    <tr>\n",
              "      <th>2</th>\n",
              "      <td>56390.0</td>\n",
              "      <td>reasons_evidence: I'm tired of people claiming...</td>\n",
              "      <td>So why are we somehow more powerless now than ...</td>\n",
              "      <td>211</td>\n",
              "      <td>False</td>\n",
              "      <td>2</td>\n",
              "      <td>0</td>\n",
              "      <td>2</td>\n",
              "      <td>2</td>\n",
              "    </tr>\n",
              "    <tr>\n",
              "      <th>3</th>\n",
              "      <td>56391.0</td>\n",
              "      <td>reasons_evidence: Freakonomics did a really in...</td>\n",
              "      <td>Is there an article that you could link to ela...</td>\n",
              "      <td>33</td>\n",
              "      <td>False</td>\n",
              "      <td>0</td>\n",
              "      <td>0</td>\n",
              "      <td>3</td>\n",
              "      <td>3</td>\n",
              "    </tr>\n",
              "    <tr>\n",
              "      <th>4</th>\n",
              "      <td>56392.0</td>\n",
              "      <td>reasons_evidence: Very spot on. Most of my fel...</td>\n",
              "      <td>Do they even use Latiné though?</td>\n",
              "      <td>45</td>\n",
              "      <td>False</td>\n",
              "      <td>0</td>\n",
              "      <td>0</td>\n",
              "      <td>2</td>\n",
              "      <td>2</td>\n",
              "    </tr>\n",
              "    <tr>\n",
              "      <th>...</th>\n",
              "      <td>...</td>\n",
              "      <td>...</td>\n",
              "      <td>...</td>\n",
              "      <td>...</td>\n",
              "      <td>...</td>\n",
              "      <td>...</td>\n",
              "      <td>...</td>\n",
              "      <td>...</td>\n",
              "      <td>...</td>\n",
              "    </tr>\n",
              "    <tr>\n",
              "      <th>27026</th>\n",
              "      <td>84575.0</td>\n",
              "      <td>reasons_evidence: I am not aware of any legal ...</td>\n",
              "      <td>Is there a reason to not label the parties as ...</td>\n",
              "      <td>47</td>\n",
              "      <td>False</td>\n",
              "      <td>1</td>\n",
              "      <td>1</td>\n",
              "      <td>3</td>\n",
              "      <td>2</td>\n",
              "    </tr>\n",
              "    <tr>\n",
              "      <th>27027</th>\n",
              "      <td>84577.0</td>\n",
              "      <td>reasons_evidence: It’s super common for oppone...</td>\n",
              "      <td>But why call this racism?</td>\n",
              "      <td>70</td>\n",
              "      <td>False</td>\n",
              "      <td>0</td>\n",
              "      <td>0</td>\n",
              "      <td>2</td>\n",
              "      <td>2</td>\n",
              "    </tr>\n",
              "    <tr>\n",
              "      <th>27028</th>\n",
              "      <td>84578.0</td>\n",
              "      <td>reasons_evidence: I studied a government, law ...</td>\n",
              "      <td>How can a professor teach you how without givi...</td>\n",
              "      <td>67</td>\n",
              "      <td>False</td>\n",
              "      <td>0</td>\n",
              "      <td>0</td>\n",
              "      <td>4</td>\n",
              "      <td>2</td>\n",
              "    </tr>\n",
              "    <tr>\n",
              "      <th>27029</th>\n",
              "      <td>84579.0</td>\n",
              "      <td>reasons_evidence: You work for money to spend ...</td>\n",
              "      <td>And why do you need to pay for food and shelter?</td>\n",
              "      <td>32</td>\n",
              "      <td>False</td>\n",
              "      <td>0</td>\n",
              "      <td>0</td>\n",
              "      <td>3</td>\n",
              "      <td>2</td>\n",
              "    </tr>\n",
              "    <tr>\n",
              "      <th>27030</th>\n",
              "      <td>84581.0</td>\n",
              "      <td>reasons_evidence: A) The intent of the sub to ...</td>\n",
              "      <td>Why should they not be allowed to do so though?</td>\n",
              "      <td>53</td>\n",
              "      <td>False</td>\n",
              "      <td>0</td>\n",
              "      <td>3</td>\n",
              "      <td>3</td>\n",
              "      <td>3</td>\n",
              "    </tr>\n",
              "  </tbody>\n",
              "</table>\n",
              "<p>27031 rows × 9 columns</p>\n",
              "</div>\n",
              "    <div class=\"colab-df-buttons\">\n",
              "\n",
              "  <div class=\"colab-df-container\">\n",
              "    <button class=\"colab-df-convert\" onclick=\"convertToInteractive('df-138d14d6-49c1-473b-bd36-41c3a2a10237')\"\n",
              "            title=\"Convert this dataframe to an interactive table.\"\n",
              "            style=\"display:none;\">\n",
              "\n",
              "  <svg xmlns=\"http://www.w3.org/2000/svg\" height=\"24px\" viewBox=\"0 -960 960 960\">\n",
              "    <path d=\"M120-120v-720h720v720H120Zm60-500h600v-160H180v160Zm220 220h160v-160H400v160Zm0 220h160v-160H400v160ZM180-400h160v-160H180v160Zm440 0h160v-160H620v160ZM180-180h160v-160H180v160Zm440 0h160v-160H620v160Z\"/>\n",
              "  </svg>\n",
              "    </button>\n",
              "\n",
              "  <style>\n",
              "    .colab-df-container {\n",
              "      display:flex;\n",
              "      gap: 12px;\n",
              "    }\n",
              "\n",
              "    .colab-df-convert {\n",
              "      background-color: #E8F0FE;\n",
              "      border: none;\n",
              "      border-radius: 50%;\n",
              "      cursor: pointer;\n",
              "      display: none;\n",
              "      fill: #1967D2;\n",
              "      height: 32px;\n",
              "      padding: 0 0 0 0;\n",
              "      width: 32px;\n",
              "    }\n",
              "\n",
              "    .colab-df-convert:hover {\n",
              "      background-color: #E2EBFA;\n",
              "      box-shadow: 0px 1px 2px rgba(60, 64, 67, 0.3), 0px 1px 3px 1px rgba(60, 64, 67, 0.15);\n",
              "      fill: #174EA6;\n",
              "    }\n",
              "\n",
              "    .colab-df-buttons div {\n",
              "      margin-bottom: 4px;\n",
              "    }\n",
              "\n",
              "    [theme=dark] .colab-df-convert {\n",
              "      background-color: #3B4455;\n",
              "      fill: #D2E3FC;\n",
              "    }\n",
              "\n",
              "    [theme=dark] .colab-df-convert:hover {\n",
              "      background-color: #434B5C;\n",
              "      box-shadow: 0px 1px 3px 1px rgba(0, 0, 0, 0.15);\n",
              "      filter: drop-shadow(0px 1px 2px rgba(0, 0, 0, 0.3));\n",
              "      fill: #FFFFFF;\n",
              "    }\n",
              "  </style>\n",
              "\n",
              "    <script>\n",
              "      const buttonEl =\n",
              "        document.querySelector('#df-138d14d6-49c1-473b-bd36-41c3a2a10237 button.colab-df-convert');\n",
              "      buttonEl.style.display =\n",
              "        google.colab.kernel.accessAllowed ? 'block' : 'none';\n",
              "\n",
              "      async function convertToInteractive(key) {\n",
              "        const element = document.querySelector('#df-138d14d6-49c1-473b-bd36-41c3a2a10237');\n",
              "        const dataTable =\n",
              "          await google.colab.kernel.invokeFunction('convertToInteractive',\n",
              "                                                    [key], {});\n",
              "        if (!dataTable) return;\n",
              "\n",
              "        const docLinkHtml = 'Like what you see? Visit the ' +\n",
              "          '<a target=\"_blank\" href=https://colab.research.google.com/notebooks/data_table.ipynb>data table notebook</a>'\n",
              "          + ' to learn more about interactive tables.';\n",
              "        element.innerHTML = '';\n",
              "        dataTable['output_type'] = 'display_data';\n",
              "        await google.colab.output.renderOutput(dataTable, element);\n",
              "        const docLink = document.createElement('div');\n",
              "        docLink.innerHTML = docLinkHtml;\n",
              "        element.appendChild(docLink);\n",
              "      }\n",
              "    </script>\n",
              "  </div>\n",
              "\n",
              "\n",
              "    <div id=\"df-e9c11ebb-c117-4a0c-b35e-886e9c69907c\">\n",
              "      <button class=\"colab-df-quickchart\" onclick=\"quickchart('df-e9c11ebb-c117-4a0c-b35e-886e9c69907c')\"\n",
              "                title=\"Suggest charts\"\n",
              "                style=\"display:none;\">\n",
              "\n",
              "<svg xmlns=\"http://www.w3.org/2000/svg\" height=\"24px\"viewBox=\"0 0 24 24\"\n",
              "     width=\"24px\">\n",
              "    <g>\n",
              "        <path d=\"M19 3H5c-1.1 0-2 .9-2 2v14c0 1.1.9 2 2 2h14c1.1 0 2-.9 2-2V5c0-1.1-.9-2-2-2zM9 17H7v-7h2v7zm4 0h-2V7h2v10zm4 0h-2v-4h2v4z\"/>\n",
              "    </g>\n",
              "</svg>\n",
              "      </button>\n",
              "\n",
              "<style>\n",
              "  .colab-df-quickchart {\n",
              "      --bg-color: #E8F0FE;\n",
              "      --fill-color: #1967D2;\n",
              "      --hover-bg-color: #E2EBFA;\n",
              "      --hover-fill-color: #174EA6;\n",
              "      --disabled-fill-color: #AAA;\n",
              "      --disabled-bg-color: #DDD;\n",
              "  }\n",
              "\n",
              "  [theme=dark] .colab-df-quickchart {\n",
              "      --bg-color: #3B4455;\n",
              "      --fill-color: #D2E3FC;\n",
              "      --hover-bg-color: #434B5C;\n",
              "      --hover-fill-color: #FFFFFF;\n",
              "      --disabled-bg-color: #3B4455;\n",
              "      --disabled-fill-color: #666;\n",
              "  }\n",
              "\n",
              "  .colab-df-quickchart {\n",
              "    background-color: var(--bg-color);\n",
              "    border: none;\n",
              "    border-radius: 50%;\n",
              "    cursor: pointer;\n",
              "    display: none;\n",
              "    fill: var(--fill-color);\n",
              "    height: 32px;\n",
              "    padding: 0;\n",
              "    width: 32px;\n",
              "  }\n",
              "\n",
              "  .colab-df-quickchart:hover {\n",
              "    background-color: var(--hover-bg-color);\n",
              "    box-shadow: 0 1px 2px rgba(60, 64, 67, 0.3), 0 1px 3px 1px rgba(60, 64, 67, 0.15);\n",
              "    fill: var(--button-hover-fill-color);\n",
              "  }\n",
              "\n",
              "  .colab-df-quickchart-complete:disabled,\n",
              "  .colab-df-quickchart-complete:disabled:hover {\n",
              "    background-color: var(--disabled-bg-color);\n",
              "    fill: var(--disabled-fill-color);\n",
              "    box-shadow: none;\n",
              "  }\n",
              "\n",
              "  .colab-df-spinner {\n",
              "    border: 2px solid var(--fill-color);\n",
              "    border-color: transparent;\n",
              "    border-bottom-color: var(--fill-color);\n",
              "    animation:\n",
              "      spin 1s steps(1) infinite;\n",
              "  }\n",
              "\n",
              "  @keyframes spin {\n",
              "    0% {\n",
              "      border-color: transparent;\n",
              "      border-bottom-color: var(--fill-color);\n",
              "      border-left-color: var(--fill-color);\n",
              "    }\n",
              "    20% {\n",
              "      border-color: transparent;\n",
              "      border-left-color: var(--fill-color);\n",
              "      border-top-color: var(--fill-color);\n",
              "    }\n",
              "    30% {\n",
              "      border-color: transparent;\n",
              "      border-left-color: var(--fill-color);\n",
              "      border-top-color: var(--fill-color);\n",
              "      border-right-color: var(--fill-color);\n",
              "    }\n",
              "    40% {\n",
              "      border-color: transparent;\n",
              "      border-right-color: var(--fill-color);\n",
              "      border-top-color: var(--fill-color);\n",
              "    }\n",
              "    60% {\n",
              "      border-color: transparent;\n",
              "      border-right-color: var(--fill-color);\n",
              "    }\n",
              "    80% {\n",
              "      border-color: transparent;\n",
              "      border-right-color: var(--fill-color);\n",
              "      border-bottom-color: var(--fill-color);\n",
              "    }\n",
              "    90% {\n",
              "      border-color: transparent;\n",
              "      border-bottom-color: var(--fill-color);\n",
              "    }\n",
              "  }\n",
              "</style>\n",
              "\n",
              "      <script>\n",
              "        async function quickchart(key) {\n",
              "          const quickchartButtonEl =\n",
              "            document.querySelector('#' + key + ' button');\n",
              "          quickchartButtonEl.disabled = true;  // To prevent multiple clicks.\n",
              "          quickchartButtonEl.classList.add('colab-df-spinner');\n",
              "          try {\n",
              "            const charts = await google.colab.kernel.invokeFunction(\n",
              "                'suggestCharts', [key], {});\n",
              "          } catch (error) {\n",
              "            console.error('Error during call to suggestCharts:', error);\n",
              "          }\n",
              "          quickchartButtonEl.classList.remove('colab-df-spinner');\n",
              "          quickchartButtonEl.classList.add('colab-df-quickchart-complete');\n",
              "        }\n",
              "        (() => {\n",
              "          let quickchartButtonEl =\n",
              "            document.querySelector('#df-e9c11ebb-c117-4a0c-b35e-886e9c69907c button');\n",
              "          quickchartButtonEl.style.display =\n",
              "            google.colab.kernel.accessAllowed ? 'block' : 'none';\n",
              "        })();\n",
              "      </script>\n",
              "    </div>\n",
              "\n",
              "  <div id=\"id_bd9833a7-e6a3-4abf-8228-411436ce4b15\">\n",
              "    <style>\n",
              "      .colab-df-generate {\n",
              "        background-color: #E8F0FE;\n",
              "        border: none;\n",
              "        border-radius: 50%;\n",
              "        cursor: pointer;\n",
              "        display: none;\n",
              "        fill: #1967D2;\n",
              "        height: 32px;\n",
              "        padding: 0 0 0 0;\n",
              "        width: 32px;\n",
              "      }\n",
              "\n",
              "      .colab-df-generate:hover {\n",
              "        background-color: #E2EBFA;\n",
              "        box-shadow: 0px 1px 2px rgba(60, 64, 67, 0.3), 0px 1px 3px 1px rgba(60, 64, 67, 0.15);\n",
              "        fill: #174EA6;\n",
              "      }\n",
              "\n",
              "      [theme=dark] .colab-df-generate {\n",
              "        background-color: #3B4455;\n",
              "        fill: #D2E3FC;\n",
              "      }\n",
              "\n",
              "      [theme=dark] .colab-df-generate:hover {\n",
              "        background-color: #434B5C;\n",
              "        box-shadow: 0px 1px 3px 1px rgba(0, 0, 0, 0.15);\n",
              "        filter: drop-shadow(0px 1px 2px rgba(0, 0, 0, 0.3));\n",
              "        fill: #FFFFFF;\n",
              "      }\n",
              "    </style>\n",
              "    <button class=\"colab-df-generate\" onclick=\"generateWithVariable('filtered_df')\"\n",
              "            title=\"Generate code using this dataframe.\"\n",
              "            style=\"display:none;\">\n",
              "\n",
              "  <svg xmlns=\"http://www.w3.org/2000/svg\" height=\"24px\"viewBox=\"0 0 24 24\"\n",
              "       width=\"24px\">\n",
              "    <path d=\"M7,19H8.4L18.45,9,17,7.55,7,17.6ZM5,21V16.75L18.45,3.32a2,2,0,0,1,2.83,0l1.4,1.43a1.91,1.91,0,0,1,.58,1.4,1.91,1.91,0,0,1-.58,1.4L9.25,21ZM18.45,9,17,7.55Zm-12,3A5.31,5.31,0,0,0,4.9,8.1,5.31,5.31,0,0,0,1,6.5,5.31,5.31,0,0,0,4.9,4.9,5.31,5.31,0,0,0,6.5,1,5.31,5.31,0,0,0,8.1,4.9,5.31,5.31,0,0,0,12,6.5,5.46,5.46,0,0,0,6.5,12Z\"/>\n",
              "  </svg>\n",
              "    </button>\n",
              "    <script>\n",
              "      (() => {\n",
              "      const buttonEl =\n",
              "        document.querySelector('#id_bd9833a7-e6a3-4abf-8228-411436ce4b15 button.colab-df-generate');\n",
              "      buttonEl.style.display =\n",
              "        google.colab.kernel.accessAllowed ? 'block' : 'none';\n",
              "\n",
              "      buttonEl.onclick = () => {\n",
              "        google.colab.notebook.generateWithVariable('filtered_df');\n",
              "      }\n",
              "      })();\n",
              "    </script>\n",
              "  </div>\n",
              "\n",
              "    </div>\n",
              "  </div>\n"
            ],
            "application/vnd.google.colaboratory.intrinsic+json": {
              "type": "dataframe",
              "variable_name": "filtered_df",
              "summary": "{\n  \"name\": \"filtered_df\",\n  \"rows\": 27031,\n  \"fields\": [\n    {\n      \"column\": \"category\",\n      \"properties\": {\n        \"dtype\": \"number\",\n        \"std\": 8138.452685150389,\n        \"min\": 56388.0,\n        \"max\": 84581.0,\n        \"num_unique_values\": 27031,\n        \"samples\": [\n          83896.0,\n          84335.0,\n          75039.0\n        ],\n        \"semantic_type\": \"\",\n        \"description\": \"\"\n      }\n    },\n    {\n      \"column\": \"context\",\n      \"properties\": {\n        \"dtype\": \"string\",\n        \"num_unique_values\": 26151,\n        \"samples\": [\n          \"reasons_evidence: Historically speaking, in this country and worldwide, for the last several centuries, white people have been oppressing other racial groups. Deny this all you want, but it's true. I'm not saying all white people oppress minorities, or that you do. I'm saying that slavery was a thing.\",\n          \"reasons_evidence: I haven't seen a sustainable way to use synthetic fertilizer. If it isn't sustainable I don't see how it can be ethical.\",\n          \"reasons_evidence: Sure, Its depressing. Everyone says \\\"We Don't Know\\\" but we do know. The hard problem of conciousness and what we have figured out about conciousness is that it is stored in the brain, You alter the brain and things change. There is no soul, And there is no conciousness either. Plus Eternal life can not exist in a world made of matter because of entropy. Numerous great minds of our era say that the afterlife is not true (Stephen Hawking), Anyhow.\"\n        ],\n        \"semantic_type\": \"\",\n        \"description\": \"\"\n      }\n    },\n    {\n      \"column\": \"question\",\n      \"properties\": {\n        \"dtype\": \"string\",\n        \"num_unique_values\": 26508,\n        \"samples\": [\n          \"Is it because of the money they negotiate away from the owners?\",\n          \"Do you imagine the majority of the us making up this resistance?\",\n          \"So why tough humanities over tough math courses?\"\n        ],\n        \"semantic_type\": \"\",\n        \"description\": \"\"\n      }\n    },\n    {\n      \"column\": \"context_token_len\",\n      \"properties\": {\n        \"dtype\": \"number\",\n        \"std\": 52,\n        \"min\": 25,\n        \"max\": 451,\n        \"num_unique_values\": 341,\n        \"samples\": [\n          296,\n          135,\n          158\n        ],\n        \"semantic_type\": \"\",\n        \"description\": \"\"\n      }\n    },\n    {\n      \"column\": \"is_Critical\",\n      \"properties\": {\n        \"dtype\": \"boolean\",\n        \"num_unique_values\": 2,\n        \"samples\": [\n          true,\n          false\n        ],\n        \"semantic_type\": \"\",\n        \"description\": \"\"\n      }\n    },\n    {\n      \"column\": \"CauseToEffect\",\n      \"properties\": {\n        \"dtype\": \"number\",\n        \"std\": 1,\n        \"min\": 0,\n        \"max\": 9,\n        \"num_unique_values\": 10,\n        \"samples\": [\n          6,\n          2\n        ],\n        \"semantic_type\": \"\",\n        \"description\": \"\"\n      }\n    },\n    {\n      \"column\": \"ExpertOpinion\",\n      \"properties\": {\n        \"dtype\": \"number\",\n        \"std\": 1,\n        \"min\": 0,\n        \"max\": 6,\n        \"num_unique_values\": 7,\n        \"samples\": [\n          0,\n          3\n        ],\n        \"semantic_type\": \"\",\n        \"description\": \"\"\n      }\n    },\n    {\n      \"column\": \"Analogy\",\n      \"properties\": {\n        \"dtype\": \"number\",\n        \"std\": 1,\n        \"min\": 0,\n        \"max\": 8,\n        \"num_unique_values\": 9,\n        \"samples\": [\n          7,\n          2\n        ],\n        \"semantic_type\": \"\",\n        \"description\": \"\"\n      }\n    },\n    {\n      \"column\": \"FearAppeal\",\n      \"properties\": {\n        \"dtype\": \"number\",\n        \"std\": 0,\n        \"min\": 0,\n        \"max\": 9,\n        \"num_unique_values\": 10,\n        \"samples\": [\n          8,\n          2\n        ],\n        \"semantic_type\": \"\",\n        \"description\": \"\"\n      }\n    }\n  ]\n}"
            }
          },
          "metadata": {},
          "execution_count": 20
        }
      ],
      "execution_count": 20
    },
    {
      "metadata": {
        "id": "67c7e6d5f854c8ba"
      },
      "cell_type": "markdown",
      "source": [
        "### final check: how many questions per category ?"
      ],
      "id": "67c7e6d5f854c8ba"
    },
    {
      "metadata": {
        "ExecuteTime": {
          "end_time": "2025-05-15T16:30:32.354376Z",
          "start_time": "2025-05-15T16:30:32.347133Z"
        },
        "id": "1d52494ad947f855",
        "colab": {
          "base_uri": "https://localhost:8080/"
        },
        "outputId": "47bf2778-f45f-4ae7-97b3-bbd5fb4304b1"
      },
      "cell_type": "code",
      "source": [
        "value_counts = filtered_df['is_Critical'].value_counts(dropna=False)\n",
        "print(value_counts)\n",
        "\n",
        "columns = [\"CauseToEffect\", \"ExpertOpinion\", \"Analogy\", \"FearAppeal\"]\n",
        "\n",
        "value_counts_schema = filtered_df[columns].apply(pd.Series.value_counts, dropna=False)\n",
        "print(value_counts_schema)"
      ],
      "id": "1d52494ad947f855",
      "outputs": [
        {
          "output_type": "stream",
          "name": "stdout",
          "text": [
            "is_Critical\n",
            "False    26262\n",
            "True       769\n",
            "Name: count, dtype: int64\n",
            "   CauseToEffect  ExpertOpinion  Analogy  FearAppeal\n",
            "0          18467        16311.0   1044.0         141\n",
            "1            708          720.0   1221.0          72\n",
            "2           2074         4703.0   4953.0       16092\n",
            "3           1585         2837.0  10783.0        5959\n",
            "4           2891         1625.0   6367.0        3355\n",
            "5            620          785.0   1907.0        1061\n",
            "6            204           50.0    577.0         262\n",
            "7            256            NaN    163.0          74\n",
            "8            193            NaN     16.0          14\n",
            "9             33            NaN      NaN           1\n"
          ]
        }
      ],
      "execution_count": 21
    },
    {
      "cell_type": "code",
      "source": [
        "filtered_df.to_json(f'/content/drive/MyDrive/HSG/NLP/Project NLP/Data/Final/processed_{chunk}.json', index=False)"
      ],
      "metadata": {
        "id": "Qhmiug1WYG4d"
      },
      "id": "Qhmiug1WYG4d",
      "execution_count": 22,
      "outputs": []
    },
    {
      "cell_type": "code",
      "source": [
        "!git config --global user.name \"Showcas\"\n",
        "!git config --global user.email \"cedric.bohni@gmx.de\"\n",
        "\n",
        "\n",
        "commit_message = f\"Improved Preprocessing file\"\n",
        "!git add .\n",
        "!git commit -m \"{commit_message}\"\n",
        "!git push"
      ],
      "metadata": {
        "collapsed": true,
        "id": "Et8Dsm7-UgOB"
      },
      "id": "Et8Dsm7-UgOB",
      "execution_count": null,
      "outputs": []
    }
  ],
  "metadata": {
    "kernelspec": {
      "display_name": "Python 3",
      "name": "python3"
    },
    "language_info": {
      "codemirror_mode": {
        "name": "ipython",
        "version": 2
      },
      "file_extension": ".py",
      "mimetype": "text/x-python",
      "name": "python",
      "nbconvert_exporter": "python",
      "pygments_lexer": "ipython2",
      "version": "2.7.6"
    },
    "colab": {
      "provenance": [],
      "gpuType": "T4",
      "machine_shape": "hm",
      "include_colab_link": true
    },
    "accelerator": "GPU"
  },
  "nbformat": 4,
  "nbformat_minor": 5
}