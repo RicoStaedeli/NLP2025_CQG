{
  "cells": [
    {
      "cell_type": "markdown",
      "metadata": {
        "id": "view-in-github",
        "colab_type": "text"
      },
      "source": [
        "<a href=\"https://colab.research.google.com/github/RicoStaedeli/NLP2025_CQG/blob/main/1_Preprocessing.ipynb\" target=\"_parent\"><img src=\"https://colab.research.google.com/assets/colab-badge.svg\" alt=\"Open In Colab\"/></a>"
      ]
    },
    {
      "metadata": {
        "id": "41bab268dcf9f851"
      },
      "cell_type": "markdown",
      "source": [
        "# Final preprocessing of full data set for 4 question types (! STRONG threshold here!)"
      ],
      "id": "41bab268dcf9f851"
    },
    {
      "cell_type": "code",
      "source": [
        "from google.colab import userdata, drive\n",
        "import os"
      ],
      "metadata": {
        "id": "saGn6Kn9UBDm"
      },
      "id": "saGn6Kn9UBDm",
      "execution_count": 1,
      "outputs": []
    },
    {
      "cell_type": "code",
      "source": [
        "token = userdata.get('GITHUB')\n",
        "repo_url = f\"https://{token}@github.com/RicoStaedeli/NLP2025_CQG.git\"\n",
        "\n",
        "!git clone {repo_url}"
      ],
      "metadata": {
        "id": "O7kSVAUQTuao",
        "outputId": "77067afa-24b2-4183-ed00-11a9b93e7d43",
        "colab": {
          "base_uri": "https://localhost:8080/"
        }
      },
      "id": "O7kSVAUQTuao",
      "execution_count": 2,
      "outputs": [
        {
          "output_type": "stream",
          "name": "stdout",
          "text": [
            "Cloning into 'NLP2025_CQG'...\n",
            "remote: Enumerating objects: 934, done.\u001b[K\n",
            "remote: Counting objects: 100% (197/197), done.\u001b[K\n",
            "remote: Compressing objects: 100% (145/145), done.\u001b[K\n",
            "remote: Total 934 (delta 129), reused 75 (delta 52), pack-reused 737 (from 2)\u001b[K\n",
            "Receiving objects: 100% (934/934), 45.85 MiB | 19.33 MiB/s, done.\n",
            "Resolving deltas: 100% (481/481), done.\n",
            "Updating files: 100% (94/94), done.\n"
          ]
        }
      ]
    },
    {
      "cell_type": "code",
      "source": [
        "os.chdir(\"NLP2025_CQG\")\n",
        "!ls"
      ],
      "metadata": {
        "id": "wZjqyW3SUDy5",
        "outputId": "0810a1f8-e5b2-42d1-b3ed-f7131ed1ef46",
        "colab": {
          "base_uri": "https://localhost:8080/"
        }
      },
      "id": "wZjqyW3SUDy5",
      "execution_count": 3,
      "outputs": [
        {
          "output_type": "stream",
          "name": "stdout",
          "text": [
            "1_Information_preprocessing.md\t      Doc\n",
            "1_Preprocessing.ipynb\t\t      Evaluation\n",
            "2_Baseline_Generation.ipynb\t      INFORMATION.md\n",
            "2_Information_Baseline_Generation.md  LICENSE\n",
            "3_Evaluation.ipynb\t\t      Logs\n",
            "4_Finetuned_Generation.ipynb\t      README.md\n",
            "5_Evaluation_Analytics.ipynb\t      requirements.txt\n",
            "Data\t\t\t\t      Training\n",
            "Development\t\t\t      Utils\n"
          ]
        }
      ]
    },
    {
      "cell_type": "code",
      "source": [
        "drive.mount('/content/drive')"
      ],
      "metadata": {
        "id": "80s47wJjUWX9",
        "outputId": "b5caae44-59d0-4a66-9fc4-35b708d60b45",
        "colab": {
          "base_uri": "https://localhost:8080/"
        }
      },
      "id": "80s47wJjUWX9",
      "execution_count": 4,
      "outputs": [
        {
          "output_type": "stream",
          "name": "stdout",
          "text": [
            "Mounted at /content/drive\n"
          ]
        }
      ]
    },
    {
      "cell_type": "code",
      "source": [
        "import pandas as pd\n",
        "import spacy\n",
        "import nltk\n",
        "\n",
        "nltk.download('framenet_v17')\n",
        "nlp = spacy.load(\"en_core_web_sm\")"
      ],
      "metadata": {
        "id": "W50dH5A6RqX-",
        "outputId": "c0177c4c-2d0e-4fb1-a583-64a7530b77dd",
        "colab": {
          "base_uri": "https://localhost:8080/"
        }
      },
      "id": "W50dH5A6RqX-",
      "execution_count": 5,
      "outputs": [
        {
          "output_type": "stream",
          "name": "stderr",
          "text": [
            "[nltk_data] Downloading package framenet_v17 to /root/nltk_data...\n",
            "[nltk_data]   Unzipping corpora/framenet_v17.zip.\n"
          ]
        }
      ]
    },
    {
      "cell_type": "code",
      "source": [
        "chunk = \"train_chunk_III\"\n",
        "\n",
        "filtered_df = pd.read_csv(\n",
        "    f'/content/drive/MyDrive/HSG/NLP/Project NLP/Data/Final/length_filtered/filtered_{chunk}.csv'\n",
        ")"
      ],
      "metadata": {
        "id": "1gWqgzIwZbrU"
      },
      "id": "1gWqgzIwZbrU",
      "execution_count": null,
      "outputs": []
    },
    {
      "metadata": {
        "id": "57507ae3d4b612b4"
      },
      "cell_type": "markdown",
      "source": [
        "### lentgh filtering"
      ],
      "id": "57507ae3d4b612b4"
    },
    {
      "metadata": {
        "ExecuteTime": {
          "end_time": "2025-05-15T16:21:21.462319Z",
          "start_time": "2025-05-15T16:15:25.899142Z"
        },
        "id": "488634547f88d664"
      },
      "cell_type": "code",
      "source": [
        "df = pd.read_csv(\n",
        "    os.path.join(os.getcwd(), f\"Data/Raw/SocraticQ/{chunk}.csv\"),\n",
        "    names=[\"category\", \"context\", \"question\"]\n",
        ")\n",
        "\n",
        "df[\"context_token_len\"] = df[\"context\"].apply(lambda text: len(nlp(text)))\n",
        "filtered_df = df[df[\"context_token_len\"] >= 25].copy()\n",
        "\n",
        "print(f\"Total rows: {len(df)}\")\n",
        "print(f\"Rows after filtering: {len(filtered_df)}\")"
      ],
      "id": "488634547f88d664",
      "outputs": [],
      "execution_count": null
    },
    {
      "cell_type": "code",
      "source": [
        "filtered_df.to_csv(f'/content/drive/MyDrive/HSG/NLP/Project NLP/Data/Final/length_filtered/filtered_{chunk}.csv', index=False)"
      ],
      "metadata": {
        "id": "tBw6502-RdI3"
      },
      "id": "tBw6502-RdI3",
      "execution_count": null,
      "outputs": []
    },
    {
      "metadata": {
        "id": "d3dbe6be2d9c3d07"
      },
      "cell_type": "markdown",
      "source": [
        "### 1. cause to effect"
      ],
      "id": "d3dbe6be2d9c3d07"
    },
    {
      "metadata": {
        "ExecuteTime": {
          "end_time": "2025-05-15T16:24:05.012524Z",
          "start_time": "2025-05-15T16:24:05.003862Z"
        },
        "id": "abaa90b8f8570b7a"
      },
      "cell_type": "code",
      "source": [
        "from nltk.corpus import framenet as fn\n",
        "\n",
        "def get_causal_verbs_from_framenet():\n",
        "    causal_frame_names = [\n",
        "        \"Causation\", \"Cause_change\", \"Cause_change_of_position_on_a_scale\",\n",
        "        \"Cause_motion\", \"Cause_to_amalgamate\", \"Cause_to_start\", \"Cause_to_make_progress\",\n",
        "        \"Causation_scenario\", \"Cause_to_end\", \"Cause_to_resume\",\n",
        "        \"Cause_to_continue\", \"Cause_change_of_consistency\",\"Cause_expansion\",\"Cause_impact\"\n",
        "    ]\n",
        "\n",
        "    causal_verbs = set()\n",
        "    for frame_name in causal_frame_names:\n",
        "        try:\n",
        "            frame = fn.frame_by_name(frame_name)\n",
        "            for lu in frame.lexUnit.values():\n",
        "                if '.v' in lu['name']:  # Only verbs\n",
        "                    causal_verbs.add(lu['name'].split('.')[0])\n",
        "        except Exception as e:\n",
        "            print(f\"Error loading frame '{frame_name}': {e}\")\n",
        "\n",
        "    return causal_verbs\n",
        "\n",
        "\n",
        "causal_meta_terms = {\"generalisation\", \"implies\", \"entail\", \"necessitate\", \"follow from\", \"inference\"}\n",
        "alternative_factor_terms = {\"factor\", \"interfere\", \"influence\", \"affect\", \"contribute\", \"complicate\"}\n",
        "\n",
        "\n",
        "def detect_cause_to_effect(sentence):\n",
        "    doc = nlp(sentence)\n",
        "    explanations = []\n",
        "    score = 0\n",
        "\n",
        "    causal_verbs = get_causal_verbs_from_framenet()\n",
        "\n",
        "    has_condition = any(tok.dep_ == \"mark\" and tok.text.lower() in {\"if\", \"when\"} for tok in doc)\n",
        "    if has_condition:\n",
        "        explanations.append(\"✓ Conditional clause detected (e.g., 'if', 'when')\")\n",
        "        score += 3\n",
        "\n",
        "    has_advcl = any(tok.dep_ == \"advcl\" for tok in doc)\n",
        "    if has_advcl:\n",
        "        explanations.append(\"✓ Adverbial clause (likely effect clause) detected\")\n",
        "        score += 2\n",
        "\n",
        "    has_causal_verb_structure = False\n",
        "    for tok in doc:\n",
        "        if tok.lemma_ in causal_verbs and tok.pos_ == \"VERB\":\n",
        "            subj = any(child.dep_ == \"nsubj\" for child in tok.children)\n",
        "            obj = any(child.dep_ == \"dobj\" for child in tok.children)\n",
        "            prep = any(child.dep_ == \"prep\" for child in tok.children)\n",
        "            if subj or obj or prep:\n",
        "                has_causal_verb_structure = True\n",
        "                explanations.append(\n",
        "                    f\"✓ Verb '{tok.lemma_}' is listed in FrameNet under causal frames with subject/object/prep\"\n",
        "                )\n",
        "                score += 3\n",
        "                if subj: score += 0.5\n",
        "                if obj: score += 0.5\n",
        "                if prep: score += 0.5\n",
        "                break\n",
        "\n",
        "    if any(tok.lemma_ in causal_meta_terms for tok in doc):\n",
        "      explanations.append(\"✓ Causal generalisation or implication term detected (e.g., 'implies', 'generalisation')\")\n",
        "      score += 1\n",
        "\n",
        "    if any(tok.lemma_ in alternative_factor_terms for tok in doc):\n",
        "      explanations.append(\"✓ Terms indicating alternative causes or interfering factors detected\")\n",
        "      score += 1\n",
        "\n",
        "    is_causal = has_condition and has_advcl or has_causal_verb_structure\n",
        "    if not is_causal:\n",
        "        causal_phrases = [\"result in\", \"lead to\", \"may cause\", \"because of\", \"due to\",\"given rise to\",\"resulting from\", \"stemming from\", \"driven by\", \"caused by\", \"attributed to\", \"stems from\", \"reason\", \"result of\", \"consequence of\", \"owning to\", \"thus\", \"so\", \"therefore\", \"hence\"  \"thereby\"]\n",
        "        if any(phrase in sentence.lower() for phrase in causal_phrases):\n",
        "            explanations.append(\"✓ Phrase pattern matches known cause-to-effect trigger\")\n",
        "            score += 2\n",
        "\n",
        "    score = min(score, 10)\n",
        "    label = \"Strong CauseToEffect\" if score >= 7 else \"Weak/Partial CauseToEffect\" if score >= 4 else \"Not CauseToEffect\"\n",
        "    return label, score, explanations"
      ],
      "id": "abaa90b8f8570b7a",
      "outputs": [],
      "execution_count": null
    },
    {
      "metadata": {
        "id": "643fcb1c1bf9051d"
      },
      "cell_type": "markdown",
      "source": [
        "### 2. expert opinion"
      ],
      "id": "643fcb1c1bf9051d"
    },
    {
      "metadata": {
        "ExecuteTime": {
          "end_time": "2025-05-15T16:24:07.108589Z",
          "start_time": "2025-05-15T16:24:06.511692Z"
        },
        "id": "4b793c6ec8764e49"
      },
      "cell_type": "code",
      "source": [
        "def get_lexical_units_from_frames(frames):\n",
        "    terms = set()\n",
        "    for frame_name in frames:\n",
        "        try:\n",
        "            frame = fn.frame_by_name(frame_name)\n",
        "            for lu in frame.lexUnit.values():\n",
        "                if '.v' in lu['name']:\n",
        "                    terms.add(lu['name'].split('.')[0])\n",
        "        except Exception as e:\n",
        "            print(f\"Warning: Could not load frame '{frame_name}': {e}\")\n",
        "    return terms\n",
        "\n",
        "\n",
        "expert_frames = [\n",
        "    \"Expertise\", \"Judgment_communication\", \"Opinion\",\n",
        "    \"Authority\", \"Statement\", \"Certainty\"\n",
        "]\n",
        "quote_frames = [\"Statement\", \"Judgment_communication\"]\n",
        "clarity_frames = [\"Reasoning\"]\n",
        "evidence_frames = [\"Evidence\", \"Certainty\", \"Causation\"]\n",
        "\n",
        "\n",
        "expert_verbs = get_lexical_units_from_frames(expert_frames)\n",
        "quote_verbs = get_lexical_units_from_frames(quote_frames)\n",
        "clarity_terms = get_lexical_units_from_frames(clarity_frames)\n",
        "evidence_terms = get_lexical_units_from_frames(evidence_frames)\n",
        "\n",
        "def detect_expert_opinion(question):\n",
        "\n",
        "    doc = nlp(question)\n",
        "    score = 0\n",
        "    explanations = []\n",
        "\n",
        "    expert_titles = {\"expert\", \"researcher\", \"scientist\", \"doctor\", \"analyst\", \"professor\", \"Dr.\"}\n",
        "\n",
        "    implicit_expert_terms = {\"study\", \"research\", \"evidence\", \"report\", \"findings\", \"scientific\", \"government\", \"official\", \"paper\", \"survey\", \"data\"}\n",
        "    comparison_cues = {\"consistent\", \"align\", \"similar\", \"agree\", \"disagree\", \"corroborate\", \"conflict\"}\n",
        "    technical_request_verbs = {\"define\", \"explain\", \"describe\", \"elaborate\", \"clarify\"}\n",
        "    assertion_verbs = {\"assert\", \"affirm\", \"pronounce\", \"declare\", \"maintain\", \"claim\", \"state\"}\n",
        "    reference_terms = {\"quote\", \"reference\", \"cite\", \"check\", \"verify\", \"source\"}\n",
        "    domain_terms = {\"science\", \"scientific\", \"domain\", \"field\", \"discipline\", \"area\", \"sector\"}\n",
        "\n",
        "\n",
        "    for ent in doc.ents:\n",
        "        if ent.label_ in {\"PERSON\", \"ORG\"}:\n",
        "            if any(title in ent.text.lower() for title in expert_titles):\n",
        "                explanations.append(f\"✓ Expert entity detected: '{ent.text}'\")\n",
        "                score += 3\n",
        "                break\n",
        "\n",
        "    if any(tok.lemma_ in expert_verbs for tok in doc if tok.pos_ == \"VERB\"):\n",
        "        explanations.append(\"✓ Detected expert-related verb from FrameNet\")\n",
        "        score += 2\n",
        "\n",
        "    if any(tok.lemma_ in quote_verbs for tok in doc):\n",
        "        explanations.append(\"✓ Quotation or claim verb found\")\n",
        "        score += 1\n",
        "\n",
        "    if any(tok.lemma_ in clarity_terms for tok in doc):\n",
        "        explanations.append(\"✓ Clarity/definition markers found\")\n",
        "        score += 1\n",
        "\n",
        "    if any(tok.lemma_ in evidence_terms for tok in doc):\n",
        "        explanations.append(\"✓ Evidence or support-related terms found\")\n",
        "        score += 2\n",
        "\n",
        "    if any(tok.lemma_.lower() in implicit_expert_terms for tok in doc):\n",
        "      explanations.append(\"✓ Implicit expert-related term detected (e.g., 'study', 'government')\")\n",
        "      score += 2\n",
        "\n",
        "    if any(tok.lemma_.lower() in comparison_cues for tok in doc):\n",
        "      explanations.append(\"✓ Cross-study comparison term detected (e.g., 'consistent', 'similar')\")\n",
        "      score += 0.5\n",
        "\n",
        "    if any(tok.lemma_.lower() in technical_request_verbs for tok in doc):\n",
        "      explanations.append(\"✓ Technical explanation request detected (e.g., 'define', 'explain')\")\n",
        "      score += 1\n",
        "\n",
        "    if any(tok.dep_ == \"attr\" and tok.lemma_ == \"expert\" for tok in doc):\n",
        "      explanations.append(\"✓ Predicate nominative indicating expertise detected (e.g., 'X is an expert')\")\n",
        "      score += 2\n",
        "\n",
        "    if any(tok.lemma_.lower() in assertion_verbs for tok in doc):\n",
        "      explanations.append(\"✓ Assertion or claim verb detected (e.g., 'assert', 'affirm')\")\n",
        "      score += 1\n",
        "\n",
        "    if any(tok.lemma_.lower() in reference_terms for tok in doc):\n",
        "      explanations.append(\"✓ Source/reference validation term detected (e.g., 'quote', 'reference')\")\n",
        "      score += 1\n",
        "\n",
        "    if any(tok.lemma_.lower() in domain_terms for tok in doc):\n",
        "      explanations.append(\"✓ Domain relevance indicator detected (e.g., 'science', 'domainD')\")\n",
        "      score += 1\n",
        "\n",
        "    score = min(score, 10)\n",
        "    label = \"Strong Expert Opinion\" if score >= 7 else \"Weak/Partial Expert Opinion\" if score >= 4 else \"Not Expert Opinion\"\n",
        "    return label, score, explanations"
      ],
      "id": "4b793c6ec8764e49",
      "outputs": [],
      "execution_count": null
    },
    {
      "metadata": {
        "id": "755d0a67225dbe50"
      },
      "cell_type": "markdown",
      "source": [
        "### 3. Analogy detection"
      ],
      "id": "755d0a67225dbe50"
    },
    {
      "metadata": {
        "ExecuteTime": {
          "end_time": "2025-05-15T16:24:09.963923Z",
          "start_time": "2025-05-15T16:24:08.288629Z"
        },
        "id": "42e76e57e97bbaba"
      },
      "cell_type": "code",
      "source": [
        "from nltk.corpus import wordnet as wn\n",
        "nltk.download('wordnet')\n",
        "analogy_synsets = [wn.synset('similar.a.01'), wn.synset('analogy.n.01'), wn.synset('compare.v.01')]\n",
        "\n",
        "comparison_frames = [\"Similarity\"]\n",
        "contrast_frames = [\"Categorization\"]\n",
        "evidence_frames = [\"Evidence\", \"Judgment_communication\"]\n",
        "\n",
        "comparison_verbs = get_lexical_units_from_frames(comparison_frames)\n",
        "contrast_verbs = get_lexical_units_from_frames(contrast_frames)\n",
        "evidence_verbs = get_lexical_units_from_frames(evidence_frames)\n",
        "\n",
        "def is_semantically_analogical(token):\n",
        "    token_synsets = wn.synsets(token.lemma_)\n",
        "    for s in token_synsets:\n",
        "        for analogy_syn in analogy_synsets:\n",
        "            if s.path_similarity(analogy_syn) and s.path_similarity(analogy_syn) > 0.3:\n",
        "                return True\n",
        "    return False\n",
        "\n",
        "analogy_context_cues = {\"respect\", \"in which\", \"such that\", \"with regard to\", \"in terms of\"}\n",
        "\n",
        "analogy_force_cues = {\"undermine\", \"weaken\", \"strengthen\", \"force of similarity\", \"degree of analogy\"}\n",
        "\n",
        "analogy_nouns = {\"analogy\", \"comparison\", \"parallel\", \"similarity\", \"analogue\"}\n",
        "\n",
        "def detect_analogy_question(question):\n",
        "    doc = nlp(question)\n",
        "    score = 0\n",
        "    explanations = []\n",
        "    noun_chunks = list(doc.noun_chunks)\n",
        "\n",
        "    if any(tok.lemma_ in comparison_verbs for tok in doc if tok.pos_ == \"VERB\"):\n",
        "        explanations.append(\"✓ Comparison verb detected from FrameNet\")\n",
        "        score += 2.5\n",
        "\n",
        "    entity_tokens = [tok for tok in doc if tok.pos_ in {\"PROPN\", \"NOUN\"}]\n",
        "    if len(set(tok.lemma_ for tok in entity_tokens)) >= 2:\n",
        "        explanations.append(\"✓ Contains at least two distinct concepts/entities\")\n",
        "        score += 1\n",
        "\n",
        "    if any(tok.lemma_ in contrast_verbs for tok in doc if tok.pos_ == \"VERB\"):\n",
        "        explanations.append(\"✓ Contrast or difference verb detected from FrameNet\")\n",
        "        score += 1\n",
        "\n",
        "    if any(tok.lemma_ in evidence_verbs for tok in doc if tok.pos_ == \"VERB\"):\n",
        "        explanations.append(\"✓ Evidence or justification verb found\")\n",
        "        score += 1\n",
        "\n",
        "    if any(tok.tag_ == \"MD\" for tok in doc):\n",
        "        score += 0.5\n",
        "\n",
        "    if len(noun_chunks) >= 2 and any(tok.lemma_ in {\"similar\", \"like\", \"as\"} for tok in doc):\n",
        "        explanations.append(\"✓ Two concepts compared with similarity cue (e.g., 'similar', 'like')\")\n",
        "        score += 3\n",
        "\n",
        "    if any(tok.text.lower() == \"if\" for tok in doc):\n",
        "        explanations.append(\"✓ Conditional structure suggesting hypothetical reasoning\")\n",
        "        score += 1\n",
        "\n",
        "    if any(is_semantically_analogical(tok) for tok in doc if tok.pos_ in {\"ADJ\", \"NOUN\", \"VERB\"}):\n",
        "        explanations.append(\"✓ Semantic similarity to analogy-related terms detected via WordNet\")\n",
        "        score += 2\n",
        "\n",
        "    if any(tok.dep_ in {\"prep\", \"relcl\"} and tok.lemma_ in {\"compare\", \"similar\"} for tok in doc):\n",
        "        explanations.append(\"✓ Syntactic cue of analogy (e.g., 'compared with', 'similar to')\")\n",
        "        score += 1\n",
        "\n",
        "    if any(phrase in question.lower() for phrase in analogy_context_cues):\n",
        "      explanations.append(\"✓ Contextual analogy marker detected (e.g., 'in which', 'such that')\")\n",
        "      score += 0.5\n",
        "\n",
        "    if any(tok.lemma_ in analogy_force_cues for tok in doc):\n",
        "      explanations.append(\"✓ Analogy evaluation term detected (e.g., 'undermine', 'strengthen')\")\n",
        "      score += 0.5\n",
        "\n",
        "    if any(tok.lemma_ in analogy_nouns for tok in doc if tok.pos_ == \"NOUN\"):\n",
        "      explanations.append(\"✓ Explicit analogy noun detected (e.g., 'analogy', 'comparison')\")\n",
        "      score += 2\n",
        "\n",
        "    if any(tok.dep_ == \"neg\" for tok in doc):\n",
        "      if any(tok.lemma_ in {\"similar\", \"compare\", \"alike\", \"match\"} for tok in doc):\n",
        "          explanations.append(\"✓ Negated comparison detected (suggesting analogy breakdown)\")\n",
        "          score += 1\n",
        "\n",
        "    score = min(score, 10)\n",
        "    label = \"Strong Analogy Question\" if score >= 7 else \"Weak/Partial Analogy Question\" if score >= 4 else \"Not Analogy Question\"\n",
        "    return label, score, explanations"
      ],
      "id": "42e76e57e97bbaba",
      "outputs": [],
      "execution_count": null
    },
    {
      "metadata": {
        "id": "a2cf149cfa5caa03"
      },
      "cell_type": "markdown",
      "source": [
        "### 4. Fear appeal"
      ],
      "id": "a2cf149cfa5caa03"
    },
    {
      "metadata": {
        "ExecuteTime": {
          "end_time": "2025-05-15T16:24:11.581068Z",
          "start_time": "2025-05-15T16:24:11.567985Z"
        },
        "id": "7cf9149aea813762"
      },
      "cell_type": "code",
      "source": [
        "def is_fear_related(token):\n",
        "    syns = wn.synsets(token.lemma_)\n",
        "    for s in syns:\n",
        "        if any(s.path_similarity(wn.synset('danger.n.01')) or s.path_similarity(wn.synset('problem.n.01')) or\n",
        "               s.path_similarity(wn.synset('fear.n.01')) or s.path_similarity(wn.synset('harm.n.01')) or\n",
        "               s.path_similarity(wn.synset('threat.n.01')) for s in syns):\n",
        "            return True\n",
        "    return False\n",
        "\n",
        "\n",
        "# ---- FrameNet Utility ----\n",
        "def get_lexical_units_from_frames(frames):\n",
        "    terms = set()\n",
        "    for frame_name in frames:\n",
        "        try:\n",
        "            frame = fn.frame_by_name(frame_name)\n",
        "            for lu in frame.lexUnit.values():\n",
        "                if '.v' in lu['name']:\n",
        "                    terms.add(lu['name'].split('.')[0])\n",
        "        except:\n",
        "            continue\n",
        "    return terms\n",
        "\n",
        "# ---- Relevant Lexical Resources ----\n",
        "causal_frames = [\"Causation\", \"Cause_to_start\", \"Preventing\", \"Risk\", \"Threaten\", \"Danger\"]\n",
        "causal_verbs = get_lexical_units_from_frames(causal_frames)\n",
        "\n",
        "fear_keywords = {\"danger\", \"threat\", \"risky\", \"harm\", \"catastrophe\", \"crisis\", \"ruin\", \"fear\", \"worse\", \"bad\", \"fatal\", \"negative\", \"die\", \"death\"}\n",
        "preventive_keywords = {\"prevent\", \"avoid\", \"stop\", \"ban\", \"rescue\", \"save\", \"protect\"}\n",
        "\n",
        "urgency_keywords = {\"immediately\", \"soon\", \"before it's too late\", \"critical\", \"urgent\", \"suddenly\", \"unexpectedly\"}\n",
        "\n",
        "possibility_terms = {\"possible\", \"possibility\", \"likely\", \"likelihood\", \"chance\", \"probability\", \"conceivable\", \"potential\", \"can\", \"could\", \"might\", \"may\", \"able\"}\n",
        "\n",
        "\n",
        "def detect_fear_appeal_question(question):\n",
        "    doc = nlp(question)\n",
        "    score = 0\n",
        "    explanations = []\n",
        "\n",
        "    if any(tok.lemma_.lower() in fear_keywords for tok in doc):\n",
        "        explanations.append(\"✓ Fear-related keyword detected (e.g., 'threat', 'danger')\")\n",
        "        score += 3\n",
        "\n",
        "    if any(tok.lemma_.lower() in preventive_keywords for tok in doc):\n",
        "        explanations.append(\"✓ Preventive action verb detected (e.g., 'prevent', 'stop')\")\n",
        "        score += 2\n",
        "\n",
        "    if any(tok.lemma_ in causal_verbs for tok in doc if tok.pos_ == \"VERB\"):\n",
        "        explanations.append(\"✓ Causal/preventive verb from FrameNet detected\")\n",
        "        score += 2\n",
        "\n",
        "    if any(tok.text.lower() in {\"if\", \"unless\"} for tok in doc):\n",
        "        explanations.append(\"✓ Conditional clause found (e.g., 'if', 'unless')\")\n",
        "        score += 1\n",
        "\n",
        "    if any(is_fear_related(tok) for tok in doc if tok.pos_ in {\"NOUN\", \"VERB\", \"ADJ\"}):\n",
        "        explanations.append(\"✓ Semantic fear-related concept detected via WordNet\")\n",
        "        score += 2\n",
        "\n",
        "    if any(phrase in question.lower() for phrase in urgency_keywords):\n",
        "        explanations.append(\"✓ Urgency marker detected (e.g., 'immediately', 'before it's too late')\")\n",
        "        score += 1\n",
        "\n",
        "    if any(tok.lemma_ in possibility_terms for tok in doc):\n",
        "        explanations.append(\"✓ Possibility-related term detected (e.g., 'possible', 'feasible', 'chance')\")\n",
        "        score += 1\n",
        "\n",
        "    score = min(score, 10)\n",
        "    label = \"Strong Fear Appeal\" if score >= 7 else \"Weak/Partial Fear Appeal\" if score >= 4 else \"Not Fear Appeal\"\n",
        "    return label, score, explanations"
      ],
      "id": "7cf9149aea813762",
      "outputs": [],
      "execution_count": null
    },
    {
      "metadata": {
        "id": "7a8603ab85946f5f"
      },
      "cell_type": "markdown",
      "source": [
        "# Final method for preprocessing and filtering for all types"
      ],
      "id": "7a8603ab85946f5f"
    },
    {
      "metadata": {
        "ExecuteTime": {
          "end_time": "2025-05-15T16:29:19.482629Z",
          "start_time": "2025-05-15T16:29:15.075842Z"
        },
        "id": "e2a3daba550e0722"
      },
      "cell_type": "code",
      "source": [
        "def classify_schema(row):\n",
        "    question = row[\"question\"]\n",
        "    results = []\n",
        "\n",
        "    is_critical = False\n",
        "\n",
        "    _, cte_score, _ = detect_cause_to_effect(question)\n",
        "    _, expert_score, _ = detect_expert_opinion(question)\n",
        "    _, analogy_score, _ = detect_analogy_question(question)\n",
        "    _, fear_score, _ = detect_fear_appeal_question(question)\n",
        "\n",
        "    if cte_score >= 7:\n",
        "      is_critical = True\n",
        "\n",
        "    if expert_score >= 7:\n",
        "      is_critical = True\n",
        "\n",
        "    if analogy_score >= 7:\n",
        "      is_critical = True\n",
        "\n",
        "    if fear_score >= 7:\n",
        "       is_critical = True\n",
        "\n",
        "    return pd.Series({\n",
        "        \"is_Critical\": is_critical,\n",
        "        \"CauseToEffect\": cte_score,\n",
        "        \"ExpertOpinion\": expert_score,\n",
        "        \"Analogy\": analogy_score,\n",
        "        \"FearAppeal\": fear_score,\n",
        "    })\n",
        "\n",
        "\n",
        "filtered_df[[\"is_Critical\",\"CauseToEffect\", \"ExpertOpinion\", \"Analogy\", \"FearAppeal\"]] = filtered_df.apply(classify_schema, axis=1)\n",
        "filtered_df"
      ],
      "id": "e2a3daba550e0722",
      "outputs": [],
      "execution_count": null
    },
    {
      "metadata": {
        "id": "67c7e6d5f854c8ba"
      },
      "cell_type": "markdown",
      "source": [
        "### final check: how many questions per category ?"
      ],
      "id": "67c7e6d5f854c8ba"
    },
    {
      "metadata": {
        "ExecuteTime": {
          "end_time": "2025-05-15T16:30:32.354376Z",
          "start_time": "2025-05-15T16:30:32.347133Z"
        },
        "id": "1d52494ad947f855"
      },
      "cell_type": "code",
      "source": [
        "value_counts = filtered_df['is_Critical'].value_counts(dropna=False)\n",
        "print(value_counts)\n",
        "\n",
        "columns = [\"CauseToEffect\", \"ExpertOpinion\", \"Analogy\", \"FearAppeal\"]\n",
        "\n",
        "value_counts_schema = filtered_df[columns].apply(pd.Series.value_counts, dropna=False)\n",
        "print(value_counts_schema)"
      ],
      "id": "1d52494ad947f855",
      "outputs": [],
      "execution_count": null
    },
    {
      "cell_type": "code",
      "source": [
        "value_counts_schema = filtered_df[columns].apply(pd.Series.value_counts, dropna=False)\n",
        "\n",
        "per_column_gte_7 = value_counts_schema[value_counts_schema.index >= 7].sum()\n",
        "\n",
        "print(\"Entries with score >= 7 per column:\")\n",
        "print(per_column_gte_7)"
      ],
      "metadata": {
        "id": "V0uu0q9Dg4YO"
      },
      "id": "V0uu0q9Dg4YO",
      "execution_count": null,
      "outputs": []
    },
    {
      "cell_type": "code",
      "source": [
        "filtered_df.to_json(f'/content/drive/MyDrive/HSG/NLP/Project NLP/Data/Final/scored/processed_{chunk}.json', index=False)"
      ],
      "metadata": {
        "id": "Qhmiug1WYG4d"
      },
      "id": "Qhmiug1WYG4d",
      "execution_count": null,
      "outputs": []
    },
    {
      "cell_type": "code",
      "source": [
        "pro_chunk_I_df = pd.read_json('/content/drive/MyDrive/HSG/NLP/Project NLP/Data/Final/scored/processed_train_chunk_I.json')\n",
        "pro_chunk_II_df = pd.read_json('/content/drive/MyDrive/HSG/NLP/Project NLP/Data/Final/scored/processed_train_chunk_II.json')\n",
        "pro_chunk_III_df = pd.read_json('/content/drive/MyDrive/HSG/NLP/Project NLP/Data/Final/scored/processed_train_chunk_III.json')\n",
        "\n",
        "combined_df = pd.concat([pro_chunk_I_df, pro_chunk_II_df, pro_chunk_III_df], ignore_index=True)\n",
        "\n",
        "schema_cols = ['CauseToEffect', 'ExpertOpinion', 'Analogy', 'FearAppeal']\n",
        "\n",
        "long_df = combined_df.melt(\n",
        "    id_vars=['context', 'question'],\n",
        "    value_vars=schema_cols,\n",
        "    var_name='schema',\n",
        "    value_name='score'\n",
        ")\n",
        "\n",
        "qualified = long_df[long_df['score'] >= 7].copy()\n",
        "\n",
        "qualified = qualified.drop(columns=['score'])\n",
        "\n",
        "mask_no_schema = combined_df[schema_cols].max(axis=1) < 7\n",
        "\n",
        "no_schema_df = combined_df.loc[mask_no_schema, ['context', 'question']].copy()\n",
        "no_schema_df['schema'] = ''\n",
        "\n",
        "final_df = pd.concat([qualified, no_schema_df], ignore_index=True)\n",
        "\n",
        "final_df.shape"
      ],
      "metadata": {
        "id": "9k6JrCz-kSGL"
      },
      "id": "9k6JrCz-kSGL",
      "execution_count": null,
      "outputs": []
    },
    {
      "cell_type": "code",
      "source": [
        "df_to_save = combined_df.copy()\n",
        "\n",
        "df_to_save['id'] = range(1, len(df_to_save) + 1)\n",
        "\n",
        "columns_to_save = [\n",
        "    'id',\n",
        "    'context',\n",
        "    'question',\n",
        "    'context_token_len',\n",
        "    'is_Critical',\n",
        "    'CauseToEffect',\n",
        "    'Analogy',\n",
        "    'ExpertOpinion',\n",
        "    'FearAppeal'\n",
        "]\n",
        "\n",
        "df_to_save[columns_to_save].to_json('/content/drive/MyDrive/HSG/NLP/Project NLP/Data/Final/scored/processed_train_data.json', orient='records', indent=2)"
      ],
      "metadata": {
        "id": "u0JKZ_iL4TNv"
      },
      "id": "u0JKZ_iL4TNv",
      "execution_count": null,
      "outputs": []
    },
    {
      "cell_type": "code",
      "source": [
        "final_df = final_df.reset_index(drop=True)\n",
        "final_df['id'] = final_df.index + 1\n",
        "\n",
        "final_df = final_df[['id', 'context', 'question', 'schema']]\n",
        "\n",
        "final_df.to_json('/content/drive/MyDrive/HSG/NLP/Project NLP/Data/Final/Categorised/categoriesed_train_data.json', orient='records', indent=2)"
      ],
      "metadata": {
        "id": "ME5sKV3s2FQV"
      },
      "id": "ME5sKV3s2FQV",
      "execution_count": null,
      "outputs": []
    },
    {
      "cell_type": "code",
      "source": [
        "filtered_df = final_df[final_df['schema'] != ''].copy()\n",
        "\n",
        "filtered_df = filtered_df.reset_index(drop=True)\n",
        "filtered_df['id'] = filtered_df.index + 1\n",
        "\n",
        "filtered_df.to_json('/content/drive/MyDrive/HSG/NLP/Project NLP/Data/Final/Categorised/categoriesed_filtered_train_data.json', orient='records', indent=2)"
      ],
      "metadata": {
        "id": "VwsBaK9L3lOD"
      },
      "id": "VwsBaK9L3lOD",
      "execution_count": null,
      "outputs": []
    },
    {
      "cell_type": "code",
      "source": [
        "!git config --global user.name \"Showcas\"\n",
        "!git config --global user.email \"cedric.bohni@gmx.de\"\n",
        "\n",
        "\n",
        "commit_message = f\"Improved Preprocessing file\"\n",
        "!git add .\n",
        "!git commit -m \"{commit_message}\"\n",
        "!git push"
      ],
      "metadata": {
        "collapsed": true,
        "id": "Et8Dsm7-UgOB"
      },
      "id": "Et8Dsm7-UgOB",
      "execution_count": null,
      "outputs": []
    },
    {
      "cell_type": "markdown",
      "source": [
        "## Filter processed Dataset (equal distribution)"
      ],
      "metadata": {
        "id": "1Gj6Pu6Fv9fp"
      },
      "id": "1Gj6Pu6Fv9fp"
    },
    {
      "cell_type": "code",
      "source": [
        "full_df = df = pd.read_json(\"/content/drive/MyDrive/HSG/NLP/Project NLP/Data/Final/scored/processed_train_data.json\", orient='records')\n",
        "full_df.head()"
      ],
      "metadata": {
        "id": "IiDjv2pzwCGQ",
        "outputId": "3fdc8175-bd43-4af7-941a-9abbff16769a",
        "colab": {
          "base_uri": "https://localhost:8080/",
          "height": 206
        }
      },
      "id": "IiDjv2pzwCGQ",
      "execution_count": 6,
      "outputs": [
        {
          "output_type": "execute_result",
          "data": {
            "text/plain": [
              "   id                                            context  \\\n",
              "0   1  alternate_viewpoints_perspectives: A parallel ...   \n",
              "1   2  alternate_viewpoints_perspectives: It would be...   \n",
              "2   3  alternate_viewpoints_perspectives: I do not un...   \n",
              "3   4  alternate_viewpoints_perspectives: There is a ...   \n",
              "4   5  alternate_viewpoints_perspectives: You conside...   \n",
              "\n",
              "                                            question  context_token_len  \\\n",
              "0               What about nations who have nothing?                126   \n",
              "1         If not, what about this is cringe exactly?                 50   \n",
              "2            What about public surveillance cameras?                 50   \n",
              "3  How about allowing some students to go straigh...                222   \n",
              "4  What else do you imagine is necessary to be co...                144   \n",
              "\n",
              "   is_Critical  CauseToEffect  Analogy  ExpertOpinion  FearAppeal  \n",
              "0        False            0.0      2.0            0.0           2  \n",
              "1        False            5.0      1.0            0.0           3  \n",
              "2        False            0.0      3.0            0.0           2  \n",
              "3        False            3.5      3.0            3.0           2  \n",
              "4        False            0.0      3.0            0.0           2  "
            ],
            "text/html": [
              "\n",
              "  <div id=\"df-255cae56-800a-4962-aeb4-cd89c3098f65\" class=\"colab-df-container\">\n",
              "    <div>\n",
              "<style scoped>\n",
              "    .dataframe tbody tr th:only-of-type {\n",
              "        vertical-align: middle;\n",
              "    }\n",
              "\n",
              "    .dataframe tbody tr th {\n",
              "        vertical-align: top;\n",
              "    }\n",
              "\n",
              "    .dataframe thead th {\n",
              "        text-align: right;\n",
              "    }\n",
              "</style>\n",
              "<table border=\"1\" class=\"dataframe\">\n",
              "  <thead>\n",
              "    <tr style=\"text-align: right;\">\n",
              "      <th></th>\n",
              "      <th>id</th>\n",
              "      <th>context</th>\n",
              "      <th>question</th>\n",
              "      <th>context_token_len</th>\n",
              "      <th>is_Critical</th>\n",
              "      <th>CauseToEffect</th>\n",
              "      <th>Analogy</th>\n",
              "      <th>ExpertOpinion</th>\n",
              "      <th>FearAppeal</th>\n",
              "    </tr>\n",
              "  </thead>\n",
              "  <tbody>\n",
              "    <tr>\n",
              "      <th>0</th>\n",
              "      <td>1</td>\n",
              "      <td>alternate_viewpoints_perspectives: A parallel ...</td>\n",
              "      <td>What about nations who have nothing?</td>\n",
              "      <td>126</td>\n",
              "      <td>False</td>\n",
              "      <td>0.0</td>\n",
              "      <td>2.0</td>\n",
              "      <td>0.0</td>\n",
              "      <td>2</td>\n",
              "    </tr>\n",
              "    <tr>\n",
              "      <th>1</th>\n",
              "      <td>2</td>\n",
              "      <td>alternate_viewpoints_perspectives: It would be...</td>\n",
              "      <td>If not, what about this is cringe exactly?</td>\n",
              "      <td>50</td>\n",
              "      <td>False</td>\n",
              "      <td>5.0</td>\n",
              "      <td>1.0</td>\n",
              "      <td>0.0</td>\n",
              "      <td>3</td>\n",
              "    </tr>\n",
              "    <tr>\n",
              "      <th>2</th>\n",
              "      <td>3</td>\n",
              "      <td>alternate_viewpoints_perspectives: I do not un...</td>\n",
              "      <td>What about public surveillance cameras?</td>\n",
              "      <td>50</td>\n",
              "      <td>False</td>\n",
              "      <td>0.0</td>\n",
              "      <td>3.0</td>\n",
              "      <td>0.0</td>\n",
              "      <td>2</td>\n",
              "    </tr>\n",
              "    <tr>\n",
              "      <th>3</th>\n",
              "      <td>4</td>\n",
              "      <td>alternate_viewpoints_perspectives: There is a ...</td>\n",
              "      <td>How about allowing some students to go straigh...</td>\n",
              "      <td>222</td>\n",
              "      <td>False</td>\n",
              "      <td>3.5</td>\n",
              "      <td>3.0</td>\n",
              "      <td>3.0</td>\n",
              "      <td>2</td>\n",
              "    </tr>\n",
              "    <tr>\n",
              "      <th>4</th>\n",
              "      <td>5</td>\n",
              "      <td>alternate_viewpoints_perspectives: You conside...</td>\n",
              "      <td>What else do you imagine is necessary to be co...</td>\n",
              "      <td>144</td>\n",
              "      <td>False</td>\n",
              "      <td>0.0</td>\n",
              "      <td>3.0</td>\n",
              "      <td>0.0</td>\n",
              "      <td>2</td>\n",
              "    </tr>\n",
              "  </tbody>\n",
              "</table>\n",
              "</div>\n",
              "    <div class=\"colab-df-buttons\">\n",
              "\n",
              "  <div class=\"colab-df-container\">\n",
              "    <button class=\"colab-df-convert\" onclick=\"convertToInteractive('df-255cae56-800a-4962-aeb4-cd89c3098f65')\"\n",
              "            title=\"Convert this dataframe to an interactive table.\"\n",
              "            style=\"display:none;\">\n",
              "\n",
              "  <svg xmlns=\"http://www.w3.org/2000/svg\" height=\"24px\" viewBox=\"0 -960 960 960\">\n",
              "    <path d=\"M120-120v-720h720v720H120Zm60-500h600v-160H180v160Zm220 220h160v-160H400v160Zm0 220h160v-160H400v160ZM180-400h160v-160H180v160Zm440 0h160v-160H620v160ZM180-180h160v-160H180v160Zm440 0h160v-160H620v160Z\"/>\n",
              "  </svg>\n",
              "    </button>\n",
              "\n",
              "  <style>\n",
              "    .colab-df-container {\n",
              "      display:flex;\n",
              "      gap: 12px;\n",
              "    }\n",
              "\n",
              "    .colab-df-convert {\n",
              "      background-color: #E8F0FE;\n",
              "      border: none;\n",
              "      border-radius: 50%;\n",
              "      cursor: pointer;\n",
              "      display: none;\n",
              "      fill: #1967D2;\n",
              "      height: 32px;\n",
              "      padding: 0 0 0 0;\n",
              "      width: 32px;\n",
              "    }\n",
              "\n",
              "    .colab-df-convert:hover {\n",
              "      background-color: #E2EBFA;\n",
              "      box-shadow: 0px 1px 2px rgba(60, 64, 67, 0.3), 0px 1px 3px 1px rgba(60, 64, 67, 0.15);\n",
              "      fill: #174EA6;\n",
              "    }\n",
              "\n",
              "    .colab-df-buttons div {\n",
              "      margin-bottom: 4px;\n",
              "    }\n",
              "\n",
              "    [theme=dark] .colab-df-convert {\n",
              "      background-color: #3B4455;\n",
              "      fill: #D2E3FC;\n",
              "    }\n",
              "\n",
              "    [theme=dark] .colab-df-convert:hover {\n",
              "      background-color: #434B5C;\n",
              "      box-shadow: 0px 1px 3px 1px rgba(0, 0, 0, 0.15);\n",
              "      filter: drop-shadow(0px 1px 2px rgba(0, 0, 0, 0.3));\n",
              "      fill: #FFFFFF;\n",
              "    }\n",
              "  </style>\n",
              "\n",
              "    <script>\n",
              "      const buttonEl =\n",
              "        document.querySelector('#df-255cae56-800a-4962-aeb4-cd89c3098f65 button.colab-df-convert');\n",
              "      buttonEl.style.display =\n",
              "        google.colab.kernel.accessAllowed ? 'block' : 'none';\n",
              "\n",
              "      async function convertToInteractive(key) {\n",
              "        const element = document.querySelector('#df-255cae56-800a-4962-aeb4-cd89c3098f65');\n",
              "        const dataTable =\n",
              "          await google.colab.kernel.invokeFunction('convertToInteractive',\n",
              "                                                    [key], {});\n",
              "        if (!dataTable) return;\n",
              "\n",
              "        const docLinkHtml = 'Like what you see? Visit the ' +\n",
              "          '<a target=\"_blank\" href=https://colab.research.google.com/notebooks/data_table.ipynb>data table notebook</a>'\n",
              "          + ' to learn more about interactive tables.';\n",
              "        element.innerHTML = '';\n",
              "        dataTable['output_type'] = 'display_data';\n",
              "        await google.colab.output.renderOutput(dataTable, element);\n",
              "        const docLink = document.createElement('div');\n",
              "        docLink.innerHTML = docLinkHtml;\n",
              "        element.appendChild(docLink);\n",
              "      }\n",
              "    </script>\n",
              "  </div>\n",
              "\n",
              "\n",
              "    <div id=\"df-a11152f9-75e1-4996-a6e9-6e7260e959c1\">\n",
              "      <button class=\"colab-df-quickchart\" onclick=\"quickchart('df-a11152f9-75e1-4996-a6e9-6e7260e959c1')\"\n",
              "                title=\"Suggest charts\"\n",
              "                style=\"display:none;\">\n",
              "\n",
              "<svg xmlns=\"http://www.w3.org/2000/svg\" height=\"24px\"viewBox=\"0 0 24 24\"\n",
              "     width=\"24px\">\n",
              "    <g>\n",
              "        <path d=\"M19 3H5c-1.1 0-2 .9-2 2v14c0 1.1.9 2 2 2h14c1.1 0 2-.9 2-2V5c0-1.1-.9-2-2-2zM9 17H7v-7h2v7zm4 0h-2V7h2v10zm4 0h-2v-4h2v4z\"/>\n",
              "    </g>\n",
              "</svg>\n",
              "      </button>\n",
              "\n",
              "<style>\n",
              "  .colab-df-quickchart {\n",
              "      --bg-color: #E8F0FE;\n",
              "      --fill-color: #1967D2;\n",
              "      --hover-bg-color: #E2EBFA;\n",
              "      --hover-fill-color: #174EA6;\n",
              "      --disabled-fill-color: #AAA;\n",
              "      --disabled-bg-color: #DDD;\n",
              "  }\n",
              "\n",
              "  [theme=dark] .colab-df-quickchart {\n",
              "      --bg-color: #3B4455;\n",
              "      --fill-color: #D2E3FC;\n",
              "      --hover-bg-color: #434B5C;\n",
              "      --hover-fill-color: #FFFFFF;\n",
              "      --disabled-bg-color: #3B4455;\n",
              "      --disabled-fill-color: #666;\n",
              "  }\n",
              "\n",
              "  .colab-df-quickchart {\n",
              "    background-color: var(--bg-color);\n",
              "    border: none;\n",
              "    border-radius: 50%;\n",
              "    cursor: pointer;\n",
              "    display: none;\n",
              "    fill: var(--fill-color);\n",
              "    height: 32px;\n",
              "    padding: 0;\n",
              "    width: 32px;\n",
              "  }\n",
              "\n",
              "  .colab-df-quickchart:hover {\n",
              "    background-color: var(--hover-bg-color);\n",
              "    box-shadow: 0 1px 2px rgba(60, 64, 67, 0.3), 0 1px 3px 1px rgba(60, 64, 67, 0.15);\n",
              "    fill: var(--button-hover-fill-color);\n",
              "  }\n",
              "\n",
              "  .colab-df-quickchart-complete:disabled,\n",
              "  .colab-df-quickchart-complete:disabled:hover {\n",
              "    background-color: var(--disabled-bg-color);\n",
              "    fill: var(--disabled-fill-color);\n",
              "    box-shadow: none;\n",
              "  }\n",
              "\n",
              "  .colab-df-spinner {\n",
              "    border: 2px solid var(--fill-color);\n",
              "    border-color: transparent;\n",
              "    border-bottom-color: var(--fill-color);\n",
              "    animation:\n",
              "      spin 1s steps(1) infinite;\n",
              "  }\n",
              "\n",
              "  @keyframes spin {\n",
              "    0% {\n",
              "      border-color: transparent;\n",
              "      border-bottom-color: var(--fill-color);\n",
              "      border-left-color: var(--fill-color);\n",
              "    }\n",
              "    20% {\n",
              "      border-color: transparent;\n",
              "      border-left-color: var(--fill-color);\n",
              "      border-top-color: var(--fill-color);\n",
              "    }\n",
              "    30% {\n",
              "      border-color: transparent;\n",
              "      border-left-color: var(--fill-color);\n",
              "      border-top-color: var(--fill-color);\n",
              "      border-right-color: var(--fill-color);\n",
              "    }\n",
              "    40% {\n",
              "      border-color: transparent;\n",
              "      border-right-color: var(--fill-color);\n",
              "      border-top-color: var(--fill-color);\n",
              "    }\n",
              "    60% {\n",
              "      border-color: transparent;\n",
              "      border-right-color: var(--fill-color);\n",
              "    }\n",
              "    80% {\n",
              "      border-color: transparent;\n",
              "      border-right-color: var(--fill-color);\n",
              "      border-bottom-color: var(--fill-color);\n",
              "    }\n",
              "    90% {\n",
              "      border-color: transparent;\n",
              "      border-bottom-color: var(--fill-color);\n",
              "    }\n",
              "  }\n",
              "</style>\n",
              "\n",
              "      <script>\n",
              "        async function quickchart(key) {\n",
              "          const quickchartButtonEl =\n",
              "            document.querySelector('#' + key + ' button');\n",
              "          quickchartButtonEl.disabled = true;  // To prevent multiple clicks.\n",
              "          quickchartButtonEl.classList.add('colab-df-spinner');\n",
              "          try {\n",
              "            const charts = await google.colab.kernel.invokeFunction(\n",
              "                'suggestCharts', [key], {});\n",
              "          } catch (error) {\n",
              "            console.error('Error during call to suggestCharts:', error);\n",
              "          }\n",
              "          quickchartButtonEl.classList.remove('colab-df-spinner');\n",
              "          quickchartButtonEl.classList.add('colab-df-quickchart-complete');\n",
              "        }\n",
              "        (() => {\n",
              "          let quickchartButtonEl =\n",
              "            document.querySelector('#df-a11152f9-75e1-4996-a6e9-6e7260e959c1 button');\n",
              "          quickchartButtonEl.style.display =\n",
              "            google.colab.kernel.accessAllowed ? 'block' : 'none';\n",
              "        })();\n",
              "      </script>\n",
              "    </div>\n",
              "\n",
              "    </div>\n",
              "  </div>\n"
            ],
            "application/vnd.google.colaboratory.intrinsic+json": {
              "type": "dataframe",
              "variable_name": "full_df",
              "summary": "{\n  \"name\": \"full_df\",\n  \"rows\": 80985,\n  \"fields\": [\n    {\n      \"column\": \"id\",\n      \"properties\": {\n        \"dtype\": \"number\",\n        \"std\": 23378,\n        \"min\": 1,\n        \"max\": 80985,\n        \"num_unique_values\": 80985,\n        \"samples\": [\n          14043,\n          5765,\n          53548\n        ],\n        \"semantic_type\": \"\",\n        \"description\": \"\"\n      }\n    },\n    {\n      \"column\": \"context\",\n      \"properties\": {\n        \"dtype\": \"string\",\n        \"num_unique_values\": 78032,\n        \"samples\": [\n          \"reasons_evidence: (1) You didn't use the word nigger. You said The \\\"N\\\" word. If you're attempting to make the argument that it is not offensive, it's telling that you can't even use the word. I question whether your view has already changed. (2) Being offended comes from years of oppression. Oppression that is not long gone.\",\n          \"reasons_evidence: An 18 year old has graduated high school. An 18 year old can hold a full time job. An 18 year old can sign a lease and get their own place. They have reached a point in life where they have some power and options.\",\n          \"reasons_evidence: But you wouldn't know the difference. Nobody is commenting on your skin in video games. All you see is what is on your screen and that's the fashion choices that you made.\"\n        ],\n        \"semantic_type\": \"\",\n        \"description\": \"\"\n      }\n    },\n    {\n      \"column\": \"question\",\n      \"properties\": {\n        \"dtype\": \"string\",\n        \"num_unique_values\": 78728,\n        \"samples\": [\n          \"Is abortion a disease?\",\n          \"What happens if your bare feet touch the floor?\",\n          \"But is that the solution?\"\n        ],\n        \"semantic_type\": \"\",\n        \"description\": \"\"\n      }\n    },\n    {\n      \"column\": \"context_token_len\",\n      \"properties\": {\n        \"dtype\": \"number\",\n        \"std\": 52,\n        \"min\": 25,\n        \"max\": 455,\n        \"num_unique_values\": 397,\n        \"samples\": [\n          63,\n          226,\n          330\n        ],\n        \"semantic_type\": \"\",\n        \"description\": \"\"\n      }\n    },\n    {\n      \"column\": \"is_Critical\",\n      \"properties\": {\n        \"dtype\": \"boolean\",\n        \"num_unique_values\": 2,\n        \"samples\": [\n          true,\n          false\n        ],\n        \"semantic_type\": \"\",\n        \"description\": \"\"\n      }\n    },\n    {\n      \"column\": \"CauseToEffect\",\n      \"properties\": {\n        \"dtype\": \"number\",\n        \"std\": 2.0192226787163,\n        \"min\": 0.0,\n        \"max\": 10.0,\n        \"num_unique_values\": 17,\n        \"samples\": [\n          0.0,\n          5.0\n        ],\n        \"semantic_type\": \"\",\n        \"description\": \"\"\n      }\n    },\n    {\n      \"column\": \"Analogy\",\n      \"properties\": {\n        \"dtype\": \"number\",\n        \"std\": 1.3379561009455423,\n        \"min\": 0.0,\n        \"max\": 10.0,\n        \"num_unique_values\": 21,\n        \"samples\": [\n          2.0,\n          8.0\n        ],\n        \"semantic_type\": \"\",\n        \"description\": \"\"\n      }\n    },\n    {\n      \"column\": \"ExpertOpinion\",\n      \"properties\": {\n        \"dtype\": \"number\",\n        \"std\": 1.5535087387576803,\n        \"min\": 0.0,\n        \"max\": 9.0,\n        \"num_unique_values\": 19,\n        \"samples\": [\n          0.0,\n          0.5\n        ],\n        \"semantic_type\": \"\",\n        \"description\": \"\"\n      }\n    },\n    {\n      \"column\": \"FearAppeal\",\n      \"properties\": {\n        \"dtype\": \"number\",\n        \"std\": 1,\n        \"min\": 0,\n        \"max\": 10,\n        \"num_unique_values\": 11,\n        \"samples\": [\n          7,\n          2\n        ],\n        \"semantic_type\": \"\",\n        \"description\": \"\"\n      }\n    }\n  ]\n}"
            }
          },
          "metadata": {},
          "execution_count": 6
        }
      ]
    },
    {
      "cell_type": "code",
      "source": [
        "num_critical = full_df['is_Critical'].sum()\n",
        "print(f\"length: {len(full_df)}\")\n",
        "print(f\"Number of critical entries: {num_critical}\")"
      ],
      "metadata": {
        "id": "OkxJFGsX0JEe",
        "outputId": "6454c3ee-788b-4ae4-8cad-b5bdf24617a4",
        "colab": {
          "base_uri": "https://localhost:8080/"
        }
      },
      "id": "OkxJFGsX0JEe",
      "execution_count": 14,
      "outputs": [
        {
          "output_type": "stream",
          "name": "stdout",
          "text": [
            "length: 80985\n",
            "Number of critical entries: 3128\n"
          ]
        }
      ]
    },
    {
      "cell_type": "code",
      "source": [
        "schema_columns = ['CauseToEffect', 'Analogy', 'ExpertOpinion', 'FearAppeal']\n",
        "\n",
        "full_filtered_df = full_df[(full_df[schema_columns] > 3).any(axis=1)]\n",
        "\n",
        "print(f\"Remaining entries after filtering: {len(full_filtered_df)}\")\n",
        "\n",
        "full_filtered_df.head()"
      ],
      "metadata": {
        "id": "v3ESX_hhzx8I",
        "outputId": "5a6e6ab0-bbb5-449a-d4b0-0d21793a60a5",
        "colab": {
          "base_uri": "https://localhost:8080/",
          "height": 224
        }
      },
      "id": "v3ESX_hhzx8I",
      "execution_count": 29,
      "outputs": [
        {
          "output_type": "stream",
          "name": "stdout",
          "text": [
            "Remaining entries after filtering: 38661\n"
          ]
        },
        {
          "output_type": "execute_result",
          "data": {
            "text/plain": [
              "    id                                            context  \\\n",
              "1    2  alternate_viewpoints_perspectives: It would be...   \n",
              "3    4  alternate_viewpoints_perspectives: There is a ...   \n",
              "7    8  alternate_viewpoints_perspectives: President O...   \n",
              "10  11  alternate_viewpoints_perspectives: Almost anyt...   \n",
              "11  12  alternate_viewpoints_perspectives: Backstory: ...   \n",
              "\n",
              "                                             question  context_token_len  \\\n",
              "1          If not, what about this is cringe exactly?                 50   \n",
              "3   How about allowing some students to go straigh...                222   \n",
              "7   So what about the first few years of his time ...                 36   \n",
              "10                  So what can we ban or say no to ?                 28   \n",
              "11  What are other things that should be kept priv...                127   \n",
              "\n",
              "    is_Critical  CauseToEffect  Analogy  ExpertOpinion  FearAppeal  \n",
              "1         False            5.0      1.0            0.0           3  \n",
              "3         False            3.5      3.0            3.0           2  \n",
              "7         False            4.0      3.0            0.0           2  \n",
              "10        False            2.0      2.5            3.0           5  \n",
              "11        False            3.5      2.5            0.0           2  "
            ],
            "text/html": [
              "\n",
              "  <div id=\"df-bdd8692b-4f07-4b1a-8226-bb3c0947e704\" class=\"colab-df-container\">\n",
              "    <div>\n",
              "<style scoped>\n",
              "    .dataframe tbody tr th:only-of-type {\n",
              "        vertical-align: middle;\n",
              "    }\n",
              "\n",
              "    .dataframe tbody tr th {\n",
              "        vertical-align: top;\n",
              "    }\n",
              "\n",
              "    .dataframe thead th {\n",
              "        text-align: right;\n",
              "    }\n",
              "</style>\n",
              "<table border=\"1\" class=\"dataframe\">\n",
              "  <thead>\n",
              "    <tr style=\"text-align: right;\">\n",
              "      <th></th>\n",
              "      <th>id</th>\n",
              "      <th>context</th>\n",
              "      <th>question</th>\n",
              "      <th>context_token_len</th>\n",
              "      <th>is_Critical</th>\n",
              "      <th>CauseToEffect</th>\n",
              "      <th>Analogy</th>\n",
              "      <th>ExpertOpinion</th>\n",
              "      <th>FearAppeal</th>\n",
              "    </tr>\n",
              "  </thead>\n",
              "  <tbody>\n",
              "    <tr>\n",
              "      <th>1</th>\n",
              "      <td>2</td>\n",
              "      <td>alternate_viewpoints_perspectives: It would be...</td>\n",
              "      <td>If not, what about this is cringe exactly?</td>\n",
              "      <td>50</td>\n",
              "      <td>False</td>\n",
              "      <td>5.0</td>\n",
              "      <td>1.0</td>\n",
              "      <td>0.0</td>\n",
              "      <td>3</td>\n",
              "    </tr>\n",
              "    <tr>\n",
              "      <th>3</th>\n",
              "      <td>4</td>\n",
              "      <td>alternate_viewpoints_perspectives: There is a ...</td>\n",
              "      <td>How about allowing some students to go straigh...</td>\n",
              "      <td>222</td>\n",
              "      <td>False</td>\n",
              "      <td>3.5</td>\n",
              "      <td>3.0</td>\n",
              "      <td>3.0</td>\n",
              "      <td>2</td>\n",
              "    </tr>\n",
              "    <tr>\n",
              "      <th>7</th>\n",
              "      <td>8</td>\n",
              "      <td>alternate_viewpoints_perspectives: President O...</td>\n",
              "      <td>So what about the first few years of his time ...</td>\n",
              "      <td>36</td>\n",
              "      <td>False</td>\n",
              "      <td>4.0</td>\n",
              "      <td>3.0</td>\n",
              "      <td>0.0</td>\n",
              "      <td>2</td>\n",
              "    </tr>\n",
              "    <tr>\n",
              "      <th>10</th>\n",
              "      <td>11</td>\n",
              "      <td>alternate_viewpoints_perspectives: Almost anyt...</td>\n",
              "      <td>So what can we ban or say no to ?</td>\n",
              "      <td>28</td>\n",
              "      <td>False</td>\n",
              "      <td>2.0</td>\n",
              "      <td>2.5</td>\n",
              "      <td>3.0</td>\n",
              "      <td>5</td>\n",
              "    </tr>\n",
              "    <tr>\n",
              "      <th>11</th>\n",
              "      <td>12</td>\n",
              "      <td>alternate_viewpoints_perspectives: Backstory: ...</td>\n",
              "      <td>What are other things that should be kept priv...</td>\n",
              "      <td>127</td>\n",
              "      <td>False</td>\n",
              "      <td>3.5</td>\n",
              "      <td>2.5</td>\n",
              "      <td>0.0</td>\n",
              "      <td>2</td>\n",
              "    </tr>\n",
              "  </tbody>\n",
              "</table>\n",
              "</div>\n",
              "    <div class=\"colab-df-buttons\">\n",
              "\n",
              "  <div class=\"colab-df-container\">\n",
              "    <button class=\"colab-df-convert\" onclick=\"convertToInteractive('df-bdd8692b-4f07-4b1a-8226-bb3c0947e704')\"\n",
              "            title=\"Convert this dataframe to an interactive table.\"\n",
              "            style=\"display:none;\">\n",
              "\n",
              "  <svg xmlns=\"http://www.w3.org/2000/svg\" height=\"24px\" viewBox=\"0 -960 960 960\">\n",
              "    <path d=\"M120-120v-720h720v720H120Zm60-500h600v-160H180v160Zm220 220h160v-160H400v160Zm0 220h160v-160H400v160ZM180-400h160v-160H180v160Zm440 0h160v-160H620v160ZM180-180h160v-160H180v160Zm440 0h160v-160H620v160Z\"/>\n",
              "  </svg>\n",
              "    </button>\n",
              "\n",
              "  <style>\n",
              "    .colab-df-container {\n",
              "      display:flex;\n",
              "      gap: 12px;\n",
              "    }\n",
              "\n",
              "    .colab-df-convert {\n",
              "      background-color: #E8F0FE;\n",
              "      border: none;\n",
              "      border-radius: 50%;\n",
              "      cursor: pointer;\n",
              "      display: none;\n",
              "      fill: #1967D2;\n",
              "      height: 32px;\n",
              "      padding: 0 0 0 0;\n",
              "      width: 32px;\n",
              "    }\n",
              "\n",
              "    .colab-df-convert:hover {\n",
              "      background-color: #E2EBFA;\n",
              "      box-shadow: 0px 1px 2px rgba(60, 64, 67, 0.3), 0px 1px 3px 1px rgba(60, 64, 67, 0.15);\n",
              "      fill: #174EA6;\n",
              "    }\n",
              "\n",
              "    .colab-df-buttons div {\n",
              "      margin-bottom: 4px;\n",
              "    }\n",
              "\n",
              "    [theme=dark] .colab-df-convert {\n",
              "      background-color: #3B4455;\n",
              "      fill: #D2E3FC;\n",
              "    }\n",
              "\n",
              "    [theme=dark] .colab-df-convert:hover {\n",
              "      background-color: #434B5C;\n",
              "      box-shadow: 0px 1px 3px 1px rgba(0, 0, 0, 0.15);\n",
              "      filter: drop-shadow(0px 1px 2px rgba(0, 0, 0, 0.3));\n",
              "      fill: #FFFFFF;\n",
              "    }\n",
              "  </style>\n",
              "\n",
              "    <script>\n",
              "      const buttonEl =\n",
              "        document.querySelector('#df-bdd8692b-4f07-4b1a-8226-bb3c0947e704 button.colab-df-convert');\n",
              "      buttonEl.style.display =\n",
              "        google.colab.kernel.accessAllowed ? 'block' : 'none';\n",
              "\n",
              "      async function convertToInteractive(key) {\n",
              "        const element = document.querySelector('#df-bdd8692b-4f07-4b1a-8226-bb3c0947e704');\n",
              "        const dataTable =\n",
              "          await google.colab.kernel.invokeFunction('convertToInteractive',\n",
              "                                                    [key], {});\n",
              "        if (!dataTable) return;\n",
              "\n",
              "        const docLinkHtml = 'Like what you see? Visit the ' +\n",
              "          '<a target=\"_blank\" href=https://colab.research.google.com/notebooks/data_table.ipynb>data table notebook</a>'\n",
              "          + ' to learn more about interactive tables.';\n",
              "        element.innerHTML = '';\n",
              "        dataTable['output_type'] = 'display_data';\n",
              "        await google.colab.output.renderOutput(dataTable, element);\n",
              "        const docLink = document.createElement('div');\n",
              "        docLink.innerHTML = docLinkHtml;\n",
              "        element.appendChild(docLink);\n",
              "      }\n",
              "    </script>\n",
              "  </div>\n",
              "\n",
              "\n",
              "    <div id=\"df-639299da-0813-4f61-9d74-901cc061413c\">\n",
              "      <button class=\"colab-df-quickchart\" onclick=\"quickchart('df-639299da-0813-4f61-9d74-901cc061413c')\"\n",
              "                title=\"Suggest charts\"\n",
              "                style=\"display:none;\">\n",
              "\n",
              "<svg xmlns=\"http://www.w3.org/2000/svg\" height=\"24px\"viewBox=\"0 0 24 24\"\n",
              "     width=\"24px\">\n",
              "    <g>\n",
              "        <path d=\"M19 3H5c-1.1 0-2 .9-2 2v14c0 1.1.9 2 2 2h14c1.1 0 2-.9 2-2V5c0-1.1-.9-2-2-2zM9 17H7v-7h2v7zm4 0h-2V7h2v10zm4 0h-2v-4h2v4z\"/>\n",
              "    </g>\n",
              "</svg>\n",
              "      </button>\n",
              "\n",
              "<style>\n",
              "  .colab-df-quickchart {\n",
              "      --bg-color: #E8F0FE;\n",
              "      --fill-color: #1967D2;\n",
              "      --hover-bg-color: #E2EBFA;\n",
              "      --hover-fill-color: #174EA6;\n",
              "      --disabled-fill-color: #AAA;\n",
              "      --disabled-bg-color: #DDD;\n",
              "  }\n",
              "\n",
              "  [theme=dark] .colab-df-quickchart {\n",
              "      --bg-color: #3B4455;\n",
              "      --fill-color: #D2E3FC;\n",
              "      --hover-bg-color: #434B5C;\n",
              "      --hover-fill-color: #FFFFFF;\n",
              "      --disabled-bg-color: #3B4455;\n",
              "      --disabled-fill-color: #666;\n",
              "  }\n",
              "\n",
              "  .colab-df-quickchart {\n",
              "    background-color: var(--bg-color);\n",
              "    border: none;\n",
              "    border-radius: 50%;\n",
              "    cursor: pointer;\n",
              "    display: none;\n",
              "    fill: var(--fill-color);\n",
              "    height: 32px;\n",
              "    padding: 0;\n",
              "    width: 32px;\n",
              "  }\n",
              "\n",
              "  .colab-df-quickchart:hover {\n",
              "    background-color: var(--hover-bg-color);\n",
              "    box-shadow: 0 1px 2px rgba(60, 64, 67, 0.3), 0 1px 3px 1px rgba(60, 64, 67, 0.15);\n",
              "    fill: var(--button-hover-fill-color);\n",
              "  }\n",
              "\n",
              "  .colab-df-quickchart-complete:disabled,\n",
              "  .colab-df-quickchart-complete:disabled:hover {\n",
              "    background-color: var(--disabled-bg-color);\n",
              "    fill: var(--disabled-fill-color);\n",
              "    box-shadow: none;\n",
              "  }\n",
              "\n",
              "  .colab-df-spinner {\n",
              "    border: 2px solid var(--fill-color);\n",
              "    border-color: transparent;\n",
              "    border-bottom-color: var(--fill-color);\n",
              "    animation:\n",
              "      spin 1s steps(1) infinite;\n",
              "  }\n",
              "\n",
              "  @keyframes spin {\n",
              "    0% {\n",
              "      border-color: transparent;\n",
              "      border-bottom-color: var(--fill-color);\n",
              "      border-left-color: var(--fill-color);\n",
              "    }\n",
              "    20% {\n",
              "      border-color: transparent;\n",
              "      border-left-color: var(--fill-color);\n",
              "      border-top-color: var(--fill-color);\n",
              "    }\n",
              "    30% {\n",
              "      border-color: transparent;\n",
              "      border-left-color: var(--fill-color);\n",
              "      border-top-color: var(--fill-color);\n",
              "      border-right-color: var(--fill-color);\n",
              "    }\n",
              "    40% {\n",
              "      border-color: transparent;\n",
              "      border-right-color: var(--fill-color);\n",
              "      border-top-color: var(--fill-color);\n",
              "    }\n",
              "    60% {\n",
              "      border-color: transparent;\n",
              "      border-right-color: var(--fill-color);\n",
              "    }\n",
              "    80% {\n",
              "      border-color: transparent;\n",
              "      border-right-color: var(--fill-color);\n",
              "      border-bottom-color: var(--fill-color);\n",
              "    }\n",
              "    90% {\n",
              "      border-color: transparent;\n",
              "      border-bottom-color: var(--fill-color);\n",
              "    }\n",
              "  }\n",
              "</style>\n",
              "\n",
              "      <script>\n",
              "        async function quickchart(key) {\n",
              "          const quickchartButtonEl =\n",
              "            document.querySelector('#' + key + ' button');\n",
              "          quickchartButtonEl.disabled = true;  // To prevent multiple clicks.\n",
              "          quickchartButtonEl.classList.add('colab-df-spinner');\n",
              "          try {\n",
              "            const charts = await google.colab.kernel.invokeFunction(\n",
              "                'suggestCharts', [key], {});\n",
              "          } catch (error) {\n",
              "            console.error('Error during call to suggestCharts:', error);\n",
              "          }\n",
              "          quickchartButtonEl.classList.remove('colab-df-spinner');\n",
              "          quickchartButtonEl.classList.add('colab-df-quickchart-complete');\n",
              "        }\n",
              "        (() => {\n",
              "          let quickchartButtonEl =\n",
              "            document.querySelector('#df-639299da-0813-4f61-9d74-901cc061413c button');\n",
              "          quickchartButtonEl.style.display =\n",
              "            google.colab.kernel.accessAllowed ? 'block' : 'none';\n",
              "        })();\n",
              "      </script>\n",
              "    </div>\n",
              "\n",
              "    </div>\n",
              "  </div>\n"
            ],
            "application/vnd.google.colaboratory.intrinsic+json": {
              "type": "dataframe",
              "variable_name": "full_filtered_df",
              "summary": "{\n  \"name\": \"full_filtered_df\",\n  \"rows\": 38661,\n  \"fields\": [\n    {\n      \"column\": \"id\",\n      \"properties\": {\n        \"dtype\": \"number\",\n        \"std\": 22156,\n        \"min\": 2,\n        \"max\": 80983,\n        \"num_unique_values\": 38661,\n        \"samples\": [\n          31550,\n          69142,\n          58620\n        ],\n        \"semantic_type\": \"\",\n        \"description\": \"\"\n      }\n    },\n    {\n      \"column\": \"context\",\n      \"properties\": {\n        \"dtype\": \"string\",\n        \"num_unique_values\": 37799,\n        \"samples\": [\n          \"clarity: First of all, I want to start off by saying that I'm agnostic. I don't believe in Islam, and I think it's a man-made religion. In fact, I used to hate Islam. After reading all its \\\"violent\\\" verses in context, however, it's become obvious to me that the Quran strongly states that fighting is permitted ONLY when you're under attack and your life is in danger. Here are some common verses that people point out when they want to prove how violent Islam is, and I'll address them one by one: \\\"And kill them wherever you overtake them and expel them from wherever they have expelled you, and fitnah is worse than killing.\\\"\",\n          \"clarity: My point of view is that the nature always finds its balance : 1. Preventing unit A from extinction is going against nature since Unit A doesn't have the mean to survive anymore. 2. Assuming Unit A's extinction will cause harm to nature or unbalance a certain process in it, as if nature is single chain with no sub chains to a certain unit of the chain like A, that may keep unit A to survive its either known sub-chain or unknown which the latter can be either existing or not existing. 3. We had attempts to save certain animals from extinction but we couldn't and we did okay so far,(survive wise) other units that was surviving on the extincted ones did survive, if not they get replaced, either with known elements or unknown given the fact that we can't fully cover how nature works and what are the elements included each phenomena. It looks like nature will always finds its balance, and our attempts of saving near extinction creatures its near impossible to be a success, and its irrelevant and unnecessary to the ecosystem due to history and our experience in ages.\",\n          \"reasons_evidence: So you believe an elementary particle in an electromagnetic field is conscious, then? A collection of elementary particle and electromagnetic fields together have the emergent property of consciousness in some configurations.\"\n        ],\n        \"semantic_type\": \"\",\n        \"description\": \"\"\n      }\n    },\n    {\n      \"column\": \"question\",\n      \"properties\": {\n        \"dtype\": \"string\",\n        \"num_unique_values\": 38080,\n        \"samples\": [\n          \"Can you at least see value in why some people take issue with it or see the distinction?\",\n          \"Why is it an easier answer for people in America to pack up and move to Mexico than for their bosses to just pay better?\",\n          \"Do you mean you would like to be able to say anything and not have people be upset by what you say?\"\n        ],\n        \"semantic_type\": \"\",\n        \"description\": \"\"\n      }\n    },\n    {\n      \"column\": \"context_token_len\",\n      \"properties\": {\n        \"dtype\": \"number\",\n        \"std\": 53,\n        \"min\": 25,\n        \"max\": 452,\n        \"num_unique_values\": 366,\n        \"samples\": [\n          309,\n          107,\n          166\n        ],\n        \"semantic_type\": \"\",\n        \"description\": \"\"\n      }\n    },\n    {\n      \"column\": \"is_Critical\",\n      \"properties\": {\n        \"dtype\": \"boolean\",\n        \"num_unique_values\": 2,\n        \"samples\": [\n          true,\n          false\n        ],\n        \"semantic_type\": \"\",\n        \"description\": \"\"\n      }\n    },\n    {\n      \"column\": \"CauseToEffect\",\n      \"properties\": {\n        \"dtype\": \"number\",\n        \"std\": 2.2799908815916057,\n        \"min\": 0.0,\n        \"max\": 10.0,\n        \"num_unique_values\": 17,\n        \"samples\": [\n          5.0,\n          3.5\n        ],\n        \"semantic_type\": \"\",\n        \"description\": \"\"\n      }\n    },\n    {\n      \"column\": \"Analogy\",\n      \"properties\": {\n        \"dtype\": \"number\",\n        \"std\": 1.2644138601470005,\n        \"min\": 0.0,\n        \"max\": 10.0,\n        \"num_unique_values\": 21,\n        \"samples\": [\n          1.0,\n          8.0\n        ],\n        \"semantic_type\": \"\",\n        \"description\": \"\"\n      }\n    },\n    {\n      \"column\": \"ExpertOpinion\",\n      \"properties\": {\n        \"dtype\": \"number\",\n        \"std\": 1.7898601659565283,\n        \"min\": 0.0,\n        \"max\": 9.0,\n        \"num_unique_values\": 19,\n        \"samples\": [\n          0.0,\n          6.0\n        ],\n        \"semantic_type\": \"\",\n        \"description\": \"\"\n      }\n    },\n    {\n      \"column\": \"FearAppeal\",\n      \"properties\": {\n        \"dtype\": \"number\",\n        \"std\": 1,\n        \"min\": 0,\n        \"max\": 10,\n        \"num_unique_values\": 11,\n        \"samples\": [\n          6,\n          3\n        ],\n        \"semantic_type\": \"\",\n        \"description\": \"\"\n      }\n    }\n  ]\n}"
            }
          },
          "metadata": {},
          "execution_count": 29
        }
      ]
    },
    {
      "cell_type": "code",
      "source": [
        "num_critical = full_filtered_df['is_Critical'].sum()\n",
        "\n",
        "print(f\"Number of critical entries: {num_critical}\")"
      ],
      "metadata": {
        "id": "gUHFfjlL0GSH",
        "outputId": "8ccf286b-7bbd-417b-ac41-b5dd439eb430",
        "colab": {
          "base_uri": "https://localhost:8080/"
        }
      },
      "id": "gUHFfjlL0GSH",
      "execution_count": 30,
      "outputs": [
        {
          "output_type": "stream",
          "name": "stdout",
          "text": [
            "Number of critical entries: 3128\n"
          ]
        }
      ]
    },
    {
      "cell_type": "code",
      "source": [
        "df_full_fitlered_save = full_filtered_df.copy()\n",
        "\n",
        "df_full_fitlered_save['id'] = range(1, len(full_filtered_df) + 1)\n",
        "\n",
        "df_columns_to_save = [\n",
        "    'id',\n",
        "    'context',\n",
        "    'question',\n",
        "    'context_token_len',\n",
        "    'is_Critical',\n",
        "    'CauseToEffect',\n",
        "    'Analogy',\n",
        "    'ExpertOpinion',\n",
        "    'FearAppeal'\n",
        "]\n",
        "\n",
        "df_full_fitlered_save[df_columns_to_save].to_json('/content/drive/MyDrive/HSG/NLP/Project NLP/Data/Final/score_filtered/score_3_train_data.json', orient='records', indent=2)"
      ],
      "metadata": {
        "id": "vDqo4S0M04n5"
      },
      "id": "vDqo4S0M04n5",
      "execution_count": 31,
      "outputs": []
    },
    {
      "metadata": {
        "id": "d9b0f32c312321d5"
      },
      "cell_type": "markdown",
      "source": [
        "## Create Dataset for DPO Traing"
      ],
      "id": "d9b0f32c312321d5"
    },
    {
      "metadata": {
        "ExecuteTime": {
          "end_time": "2025-05-18T06:21:16.307769Z",
          "start_time": "2025-05-18T06:21:15.743521Z"
        },
        "id": "20b006805465064e"
      },
      "cell_type": "code",
      "source": [
        "import json\n",
        "\n",
        "def convert_to_hf_style(input_file, output_file):\n",
        "    with open(input_file, 'r', encoding='utf-8') as file:\n",
        "        data = json.load(file)\n",
        "\n",
        "    hf_dataset = []\n",
        "    for entry in data:\n",
        "        # Create Hugging Face style chosen-rejected structure\n",
        "        hf_entry = {\n",
        "            \"chosen\": \"\".join([\n",
        "                f\"user: {entry['context']}\\n\",\n",
        "                f\"assistant: {entry['question']}\"\n",
        "            ]),\n",
        "            \"rejected\": \"\".join([\n",
        "                f\"user: {entry['context']}\\n\",\n",
        "                f\"assistant: {entry['question']}\"\n",
        "            ])\n",
        "        }\n",
        "        hf_dataset.append(hf_entry)\n",
        "\n",
        "    # Save the Hugging Face style dataset\n",
        "    with open(output_file, 'w', encoding='utf-8') as output_file:\n",
        "        json.dump(hf_dataset, output_file, indent=2, ensure_ascii=False)\n",
        "\n",
        "\n",
        "# Set input and output paths\n",
        "input_file = 'Data/Processed/processed_train_data.json'\n",
        "output_file = 'Data/Processed/processed_train_data_dpo.json'\n",
        "\n",
        "# Run the conversion\n",
        "convert_to_hf_style(input_file, output_file)\n"
      ],
      "id": "20b006805465064e",
      "outputs": [],
      "execution_count": null
    },
    {
      "metadata": {
        "ExecuteTime": {
          "end_time": "2025-05-18T06:22:39.658819Z",
          "start_time": "2025-05-18T06:22:37.132567Z"
        },
        "id": "39dc03251cbdb7ed",
        "outputId": "767e3d5b-bca3-4d99-d1c2-38ce81469435",
        "colab": {
          "referenced_widgets": [
            "3fa7ce62e731477cab79c6a8f82b6d23"
          ]
        }
      },
      "cell_type": "code",
      "source": [
        "from datasets import load_dataset\n",
        "dataset = load_dataset('json', data_files=output_file)"
      ],
      "id": "39dc03251cbdb7ed",
      "outputs": [
        {
          "data": {
            "text/plain": [
              "Generating train split: 0 examples [00:00, ? examples/s]"
            ],
            "application/vnd.jupyter.widget-view+json": {
              "version_major": 2,
              "version_minor": 0,
              "model_id": "3fa7ce62e731477cab79c6a8f82b6d23"
            }
          },
          "metadata": {},
          "output_type": "display_data"
        }
      ],
      "execution_count": null
    },
    {
      "metadata": {
        "ExecuteTime": {
          "end_time": "2025-05-18T06:22:54.312198Z",
          "start_time": "2025-05-18T06:22:54.309854Z"
        },
        "id": "d088df0522318c14",
        "outputId": "20fc4b0c-28a2-4bd4-d7a4-bdded8c7c167"
      },
      "cell_type": "code",
      "source": [
        "print(dataset)"
      ],
      "id": "d088df0522318c14",
      "outputs": [
        {
          "name": "stdout",
          "output_type": "stream",
          "text": [
            "DatasetDict({\n",
            "    train: Dataset({\n",
            "        features: ['chosen', 'rejected'],\n",
            "        num_rows: 80985\n",
            "    })\n",
            "})\n"
          ]
        }
      ],
      "execution_count": null
    }
  ],
  "metadata": {
    "kernelspec": {
      "display_name": "Python 3",
      "name": "python3"
    },
    "language_info": {
      "codemirror_mode": {
        "name": "ipython",
        "version": 2
      },
      "file_extension": ".py",
      "mimetype": "text/x-python",
      "name": "python",
      "nbconvert_exporter": "python",
      "pygments_lexer": "ipython2",
      "version": "2.7.6"
    },
    "colab": {
      "provenance": [],
      "gpuType": "T4",
      "machine_shape": "hm",
      "include_colab_link": true
    },
    "accelerator": "GPU"
  },
  "nbformat": 4,
  "nbformat_minor": 5
}