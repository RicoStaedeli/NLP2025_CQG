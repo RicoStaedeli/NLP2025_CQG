{
  "cells": [
    {
      "cell_type": "markdown",
      "metadata": {
        "id": "view-in-github",
        "colab_type": "text"
      },
      "source": [
        "<a href=\"https://colab.research.google.com/github/RicoStaedeli/NLP2025_CQG/blob/main/1_Preprocessing.ipynb\" target=\"_parent\"><img src=\"https://colab.research.google.com/assets/colab-badge.svg\" alt=\"Open In Colab\"/></a>"
      ]
    },
    {
      "metadata": {
        "id": "41bab268dcf9f851"
      },
      "cell_type": "markdown",
      "source": [
        "# Final preprocessing of full data set for 4 question types (! STRONG threshold here!)"
      ],
      "id": "41bab268dcf9f851"
    },
    {
      "cell_type": "code",
      "source": [
        "from google.colab import userdata, drive\n",
        "import os"
      ],
      "metadata": {
        "id": "saGn6Kn9UBDm"
      },
      "id": "saGn6Kn9UBDm",
      "execution_count": 1,
      "outputs": []
    },
    {
      "cell_type": "code",
      "source": [
        "token = userdata.get('GITHUB')\n",
        "repo_url = f\"https://{token}@github.com/RicoStaedeli/NLP2025_CQG.git\"\n",
        "\n",
        "!git clone {repo_url}"
      ],
      "metadata": {
        "id": "O7kSVAUQTuao",
        "colab": {
          "base_uri": "https://localhost:8080/"
        },
        "outputId": "e414f47e-5aca-4b58-9dba-2b95984522f9"
      },
      "id": "O7kSVAUQTuao",
      "execution_count": 2,
      "outputs": [
        {
          "output_type": "stream",
          "name": "stdout",
          "text": [
            "Cloning into 'NLP2025_CQG'...\n",
            "remote: Enumerating objects: 976, done.\u001b[K\n",
            "remote: Counting objects: 100% (239/239), done.\u001b[K\n",
            "remote: Compressing objects: 100% (180/180), done.\u001b[K\n",
            "remote: Total 976 (delta 157), reused 88 (delta 59), pack-reused 737 (from 2)\u001b[K\n",
            "Receiving objects: 100% (976/976), 46.18 MiB | 23.32 MiB/s, done.\n",
            "Resolving deltas: 100% (509/509), done.\n",
            "Updating files: 100% (95/95), done.\n"
          ]
        }
      ]
    },
    {
      "cell_type": "code",
      "source": [
        "os.chdir(\"NLP2025_CQG\")\n",
        "!ls"
      ],
      "metadata": {
        "id": "wZjqyW3SUDy5",
        "colab": {
          "base_uri": "https://localhost:8080/"
        },
        "outputId": "5c5e7180-12af-401f-f459-b9bbaca596d5"
      },
      "id": "wZjqyW3SUDy5",
      "execution_count": 3,
      "outputs": [
        {
          "output_type": "stream",
          "name": "stdout",
          "text": [
            "1_Information_preprocessing.md\t      Doc\n",
            "1_Preprocessing.ipynb\t\t      Evaluation\n",
            "2_Baseline_Generation.ipynb\t      INFORMATION.md\n",
            "2_Information_Baseline_Generation.md  LICENSE\n",
            "3_Evaluation.ipynb\t\t      Logs\n",
            "4_Finetuned_Generation.ipynb\t      README.md\n",
            "5_Evaluation_Analytics.ipynb\t      requirements.txt\n",
            "Data\t\t\t\t      Training\n",
            "Development\t\t\t      Utils\n"
          ]
        }
      ]
    },
    {
      "cell_type": "code",
      "source": [
        "drive.mount('/content/drive')"
      ],
      "metadata": {
        "id": "80s47wJjUWX9",
        "colab": {
          "base_uri": "https://localhost:8080/"
        },
        "outputId": "4dbc91e7-c7b3-4249-a858-01dfecfed213"
      },
      "id": "80s47wJjUWX9",
      "execution_count": 4,
      "outputs": [
        {
          "output_type": "stream",
          "name": "stdout",
          "text": [
            "Mounted at /content/drive\n"
          ]
        }
      ]
    },
    {
      "cell_type": "code",
      "source": [
        "import pandas as pd\n",
        "import spacy\n",
        "import nltk\n",
        "\n",
        "nltk.download('framenet_v17')\n",
        "nlp = spacy.load(\"en_core_web_sm\")"
      ],
      "metadata": {
        "id": "W50dH5A6RqX-",
        "colab": {
          "base_uri": "https://localhost:8080/"
        },
        "outputId": "838cc9e4-e2df-4d88-a402-9f2bab2f9a0e"
      },
      "id": "W50dH5A6RqX-",
      "execution_count": 5,
      "outputs": [
        {
          "output_type": "stream",
          "name": "stderr",
          "text": [
            "[nltk_data] Downloading package framenet_v17 to /root/nltk_data...\n",
            "[nltk_data]   Unzipping corpora/framenet_v17.zip.\n"
          ]
        }
      ]
    },
    {
      "cell_type": "code",
      "source": [
        "chunk = \"train_chunk_III\"\n",
        "\n",
        "filtered_df = pd.read_csv(\n",
        "    f'/content/drive/MyDrive/HSG/NLP/Project NLP/Data/Final/length_filtered/filtered_{chunk}.csv'\n",
        ")"
      ],
      "metadata": {
        "id": "1gWqgzIwZbrU"
      },
      "id": "1gWqgzIwZbrU",
      "execution_count": null,
      "outputs": []
    },
    {
      "metadata": {
        "id": "57507ae3d4b612b4"
      },
      "cell_type": "markdown",
      "source": [
        "### lentgh filtering"
      ],
      "id": "57507ae3d4b612b4"
    },
    {
      "metadata": {
        "ExecuteTime": {
          "end_time": "2025-05-15T16:21:21.462319Z",
          "start_time": "2025-05-15T16:15:25.899142Z"
        },
        "id": "488634547f88d664"
      },
      "cell_type": "code",
      "source": [
        "df = pd.read_csv(\n",
        "    os.path.join(os.getcwd(), f\"Data/Raw/SocraticQ/{chunk}.csv\"),\n",
        "    names=[\"category\", \"context\", \"question\"]\n",
        ")\n",
        "\n",
        "df[\"context_token_len\"] = df[\"context\"].apply(lambda text: len(nlp(text)))\n",
        "filtered_df = df[df[\"context_token_len\"] >= 25].copy()\n",
        "\n",
        "print(f\"Total rows: {len(df)}\")\n",
        "print(f\"Rows after filtering: {len(filtered_df)}\")"
      ],
      "id": "488634547f88d664",
      "outputs": [],
      "execution_count": null
    },
    {
      "cell_type": "code",
      "source": [
        "filtered_df.to_csv(f'/content/drive/MyDrive/HSG/NLP/Project NLP/Data/Final/length_filtered/filtered_{chunk}.csv', index=False)"
      ],
      "metadata": {
        "id": "tBw6502-RdI3"
      },
      "id": "tBw6502-RdI3",
      "execution_count": null,
      "outputs": []
    },
    {
      "metadata": {
        "id": "d3dbe6be2d9c3d07"
      },
      "cell_type": "markdown",
      "source": [
        "### 1. cause to effect"
      ],
      "id": "d3dbe6be2d9c3d07"
    },
    {
      "metadata": {
        "ExecuteTime": {
          "end_time": "2025-05-15T16:24:05.012524Z",
          "start_time": "2025-05-15T16:24:05.003862Z"
        },
        "id": "abaa90b8f8570b7a"
      },
      "cell_type": "code",
      "source": [
        "from nltk.corpus import framenet as fn\n",
        "\n",
        "def get_causal_verbs_from_framenet():\n",
        "    causal_frame_names = [\n",
        "        \"Causation\", \"Cause_change\", \"Cause_change_of_position_on_a_scale\",\n",
        "        \"Cause_motion\", \"Cause_to_amalgamate\", \"Cause_to_start\", \"Cause_to_make_progress\",\n",
        "        \"Causation_scenario\", \"Cause_to_end\", \"Cause_to_resume\",\n",
        "        \"Cause_to_continue\", \"Cause_change_of_consistency\",\"Cause_expansion\",\"Cause_impact\"\n",
        "    ]\n",
        "\n",
        "    causal_verbs = set()\n",
        "    for frame_name in causal_frame_names:\n",
        "        try:\n",
        "            frame = fn.frame_by_name(frame_name)\n",
        "            for lu in frame.lexUnit.values():\n",
        "                if '.v' in lu['name']:  # Only verbs\n",
        "                    causal_verbs.add(lu['name'].split('.')[0])\n",
        "        except Exception as e:\n",
        "            print(f\"Error loading frame '{frame_name}': {e}\")\n",
        "\n",
        "    return causal_verbs\n",
        "\n",
        "\n",
        "causal_meta_terms = {\"generalisation\", \"implies\", \"entail\", \"necessitate\", \"follow from\", \"inference\"}\n",
        "alternative_factor_terms = {\"factor\", \"interfere\", \"influence\", \"affect\", \"contribute\", \"complicate\"}\n",
        "\n",
        "\n",
        "def detect_cause_to_effect(sentence):\n",
        "    doc = nlp(sentence)\n",
        "    explanations = []\n",
        "    score = 0\n",
        "\n",
        "    causal_verbs = get_causal_verbs_from_framenet()\n",
        "\n",
        "    has_condition = any(tok.dep_ == \"mark\" and tok.text.lower() in {\"if\", \"when\"} for tok in doc)\n",
        "    if has_condition:\n",
        "        explanations.append(\"✓ Conditional clause detected (e.g., 'if', 'when')\")\n",
        "        score += 3\n",
        "\n",
        "    has_advcl = any(tok.dep_ == \"advcl\" for tok in doc)\n",
        "    if has_advcl:\n",
        "        explanations.append(\"✓ Adverbial clause (likely effect clause) detected\")\n",
        "        score += 2\n",
        "\n",
        "    has_causal_verb_structure = False\n",
        "    for tok in doc:\n",
        "        if tok.lemma_ in causal_verbs and tok.pos_ == \"VERB\":\n",
        "            subj = any(child.dep_ == \"nsubj\" for child in tok.children)\n",
        "            obj = any(child.dep_ == \"dobj\" for child in tok.children)\n",
        "            prep = any(child.dep_ == \"prep\" for child in tok.children)\n",
        "            if subj or obj or prep:\n",
        "                has_causal_verb_structure = True\n",
        "                explanations.append(\n",
        "                    f\"✓ Verb '{tok.lemma_}' is listed in FrameNet under causal frames with subject/object/prep\"\n",
        "                )\n",
        "                score += 3\n",
        "                if subj: score += 0.5\n",
        "                if obj: score += 0.5\n",
        "                if prep: score += 0.5\n",
        "                break\n",
        "\n",
        "    if any(tok.lemma_ in causal_meta_terms for tok in doc):\n",
        "      explanations.append(\"✓ Causal generalisation or implication term detected (e.g., 'implies', 'generalisation')\")\n",
        "      score += 1\n",
        "\n",
        "    if any(tok.lemma_ in alternative_factor_terms for tok in doc):\n",
        "      explanations.append(\"✓ Terms indicating alternative causes or interfering factors detected\")\n",
        "      score += 1\n",
        "\n",
        "    is_causal = has_condition and has_advcl or has_causal_verb_structure\n",
        "    if not is_causal:\n",
        "        causal_phrases = [\"result in\", \"lead to\", \"may cause\", \"because of\", \"due to\",\"given rise to\",\"resulting from\", \"stemming from\", \"driven by\", \"caused by\", \"attributed to\", \"stems from\", \"reason\", \"result of\", \"consequence of\", \"owning to\", \"thus\", \"so\", \"therefore\", \"hence\"  \"thereby\"]\n",
        "        if any(phrase in sentence.lower() for phrase in causal_phrases):\n",
        "            explanations.append(\"✓ Phrase pattern matches known cause-to-effect trigger\")\n",
        "            score += 2\n",
        "\n",
        "    score = min(score, 10)\n",
        "    label = \"Strong CauseToEffect\" if score >= 7 else \"Weak/Partial CauseToEffect\" if score >= 4 else \"Not CauseToEffect\"\n",
        "    return label, score, explanations"
      ],
      "id": "abaa90b8f8570b7a",
      "outputs": [],
      "execution_count": null
    },
    {
      "metadata": {
        "id": "643fcb1c1bf9051d"
      },
      "cell_type": "markdown",
      "source": [
        "### 2. expert opinion"
      ],
      "id": "643fcb1c1bf9051d"
    },
    {
      "metadata": {
        "ExecuteTime": {
          "end_time": "2025-05-15T16:24:07.108589Z",
          "start_time": "2025-05-15T16:24:06.511692Z"
        },
        "id": "4b793c6ec8764e49"
      },
      "cell_type": "code",
      "source": [
        "def get_lexical_units_from_frames(frames):\n",
        "    terms = set()\n",
        "    for frame_name in frames:\n",
        "        try:\n",
        "            frame = fn.frame_by_name(frame_name)\n",
        "            for lu in frame.lexUnit.values():\n",
        "                if '.v' in lu['name']:\n",
        "                    terms.add(lu['name'].split('.')[0])\n",
        "        except Exception as e:\n",
        "            print(f\"Warning: Could not load frame '{frame_name}': {e}\")\n",
        "    return terms\n",
        "\n",
        "\n",
        "expert_frames = [\n",
        "    \"Expertise\", \"Judgment_communication\", \"Opinion\",\n",
        "    \"Authority\", \"Statement\", \"Certainty\"\n",
        "]\n",
        "quote_frames = [\"Statement\", \"Judgment_communication\"]\n",
        "clarity_frames = [\"Reasoning\"]\n",
        "evidence_frames = [\"Evidence\", \"Certainty\", \"Causation\"]\n",
        "\n",
        "\n",
        "expert_verbs = get_lexical_units_from_frames(expert_frames)\n",
        "quote_verbs = get_lexical_units_from_frames(quote_frames)\n",
        "clarity_terms = get_lexical_units_from_frames(clarity_frames)\n",
        "evidence_terms = get_lexical_units_from_frames(evidence_frames)\n",
        "\n",
        "def detect_expert_opinion(question):\n",
        "\n",
        "    doc = nlp(question)\n",
        "    score = 0\n",
        "    explanations = []\n",
        "\n",
        "    expert_titles = {\"expert\", \"researcher\", \"scientist\", \"doctor\", \"analyst\", \"professor\", \"Dr.\"}\n",
        "\n",
        "    implicit_expert_terms = {\"study\", \"research\", \"evidence\", \"report\", \"findings\", \"scientific\", \"government\", \"official\", \"paper\", \"survey\", \"data\"}\n",
        "    comparison_cues = {\"consistent\", \"align\", \"similar\", \"agree\", \"disagree\", \"corroborate\", \"conflict\"}\n",
        "    technical_request_verbs = {\"define\", \"explain\", \"describe\", \"elaborate\", \"clarify\"}\n",
        "    assertion_verbs = {\"assert\", \"affirm\", \"pronounce\", \"declare\", \"maintain\", \"claim\", \"state\"}\n",
        "    reference_terms = {\"quote\", \"reference\", \"cite\", \"check\", \"verify\", \"source\"}\n",
        "    domain_terms = {\"science\", \"scientific\", \"domain\", \"field\", \"discipline\", \"area\", \"sector\"}\n",
        "\n",
        "\n",
        "    for ent in doc.ents:\n",
        "        if ent.label_ in {\"PERSON\", \"ORG\"}:\n",
        "            if any(title in ent.text.lower() for title in expert_titles):\n",
        "                explanations.append(f\"✓ Expert entity detected: '{ent.text}'\")\n",
        "                score += 3\n",
        "                break\n",
        "\n",
        "    if any(tok.lemma_ in expert_verbs for tok in doc if tok.pos_ == \"VERB\"):\n",
        "        explanations.append(\"✓ Detected expert-related verb from FrameNet\")\n",
        "        score += 2\n",
        "\n",
        "    if any(tok.lemma_ in quote_verbs for tok in doc):\n",
        "        explanations.append(\"✓ Quotation or claim verb found\")\n",
        "        score += 1\n",
        "\n",
        "    if any(tok.lemma_ in clarity_terms for tok in doc):\n",
        "        explanations.append(\"✓ Clarity/definition markers found\")\n",
        "        score += 1\n",
        "\n",
        "    if any(tok.lemma_ in evidence_terms for tok in doc):\n",
        "        explanations.append(\"✓ Evidence or support-related terms found\")\n",
        "        score += 2\n",
        "\n",
        "    if any(tok.lemma_.lower() in implicit_expert_terms for tok in doc):\n",
        "      explanations.append(\"✓ Implicit expert-related term detected (e.g., 'study', 'government')\")\n",
        "      score += 2\n",
        "\n",
        "    if any(tok.lemma_.lower() in comparison_cues for tok in doc):\n",
        "      explanations.append(\"✓ Cross-study comparison term detected (e.g., 'consistent', 'similar')\")\n",
        "      score += 0.5\n",
        "\n",
        "    if any(tok.lemma_.lower() in technical_request_verbs for tok in doc):\n",
        "      explanations.append(\"✓ Technical explanation request detected (e.g., 'define', 'explain')\")\n",
        "      score += 1\n",
        "\n",
        "    if any(tok.dep_ == \"attr\" and tok.lemma_ == \"expert\" for tok in doc):\n",
        "      explanations.append(\"✓ Predicate nominative indicating expertise detected (e.g., 'X is an expert')\")\n",
        "      score += 2\n",
        "\n",
        "    if any(tok.lemma_.lower() in assertion_verbs for tok in doc):\n",
        "      explanations.append(\"✓ Assertion or claim verb detected (e.g., 'assert', 'affirm')\")\n",
        "      score += 1\n",
        "\n",
        "    if any(tok.lemma_.lower() in reference_terms for tok in doc):\n",
        "      explanations.append(\"✓ Source/reference validation term detected (e.g., 'quote', 'reference')\")\n",
        "      score += 1\n",
        "\n",
        "    if any(tok.lemma_.lower() in domain_terms for tok in doc):\n",
        "      explanations.append(\"✓ Domain relevance indicator detected (e.g., 'science', 'domainD')\")\n",
        "      score += 1\n",
        "\n",
        "    score = min(score, 10)\n",
        "    label = \"Strong Expert Opinion\" if score >= 7 else \"Weak/Partial Expert Opinion\" if score >= 4 else \"Not Expert Opinion\"\n",
        "    return label, score, explanations"
      ],
      "id": "4b793c6ec8764e49",
      "outputs": [],
      "execution_count": null
    },
    {
      "metadata": {
        "id": "755d0a67225dbe50"
      },
      "cell_type": "markdown",
      "source": [
        "### 3. Analogy detection"
      ],
      "id": "755d0a67225dbe50"
    },
    {
      "metadata": {
        "ExecuteTime": {
          "end_time": "2025-05-15T16:24:09.963923Z",
          "start_time": "2025-05-15T16:24:08.288629Z"
        },
        "id": "42e76e57e97bbaba"
      },
      "cell_type": "code",
      "source": [
        "from nltk.corpus import wordnet as wn\n",
        "nltk.download('wordnet')\n",
        "analogy_synsets = [wn.synset('similar.a.01'), wn.synset('analogy.n.01'), wn.synset('compare.v.01')]\n",
        "\n",
        "comparison_frames = [\"Similarity\"]\n",
        "contrast_frames = [\"Categorization\"]\n",
        "evidence_frames = [\"Evidence\", \"Judgment_communication\"]\n",
        "\n",
        "comparison_verbs = get_lexical_units_from_frames(comparison_frames)\n",
        "contrast_verbs = get_lexical_units_from_frames(contrast_frames)\n",
        "evidence_verbs = get_lexical_units_from_frames(evidence_frames)\n",
        "\n",
        "def is_semantically_analogical(token):\n",
        "    token_synsets = wn.synsets(token.lemma_)\n",
        "    for s in token_synsets:\n",
        "        for analogy_syn in analogy_synsets:\n",
        "            if s.path_similarity(analogy_syn) and s.path_similarity(analogy_syn) > 0.3:\n",
        "                return True\n",
        "    return False\n",
        "\n",
        "analogy_context_cues = {\"respect\", \"in which\", \"such that\", \"with regard to\", \"in terms of\"}\n",
        "\n",
        "analogy_force_cues = {\"undermine\", \"weaken\", \"strengthen\", \"force of similarity\", \"degree of analogy\"}\n",
        "\n",
        "analogy_nouns = {\"analogy\", \"comparison\", \"parallel\", \"similarity\", \"analogue\"}\n",
        "\n",
        "def detect_analogy_question(question):\n",
        "    doc = nlp(question)\n",
        "    score = 0\n",
        "    explanations = []\n",
        "    noun_chunks = list(doc.noun_chunks)\n",
        "\n",
        "    if any(tok.lemma_ in comparison_verbs for tok in doc if tok.pos_ == \"VERB\"):\n",
        "        explanations.append(\"✓ Comparison verb detected from FrameNet\")\n",
        "        score += 2.5\n",
        "\n",
        "    entity_tokens = [tok for tok in doc if tok.pos_ in {\"PROPN\", \"NOUN\"}]\n",
        "    if len(set(tok.lemma_ for tok in entity_tokens)) >= 2:\n",
        "        explanations.append(\"✓ Contains at least two distinct concepts/entities\")\n",
        "        score += 1\n",
        "\n",
        "    if any(tok.lemma_ in contrast_verbs for tok in doc if tok.pos_ == \"VERB\"):\n",
        "        explanations.append(\"✓ Contrast or difference verb detected from FrameNet\")\n",
        "        score += 1\n",
        "\n",
        "    if any(tok.lemma_ in evidence_verbs for tok in doc if tok.pos_ == \"VERB\"):\n",
        "        explanations.append(\"✓ Evidence or justification verb found\")\n",
        "        score += 1\n",
        "\n",
        "    if any(tok.tag_ == \"MD\" for tok in doc):\n",
        "        score += 0.5\n",
        "\n",
        "    if len(noun_chunks) >= 2 and any(tok.lemma_ in {\"similar\", \"like\", \"as\"} for tok in doc):\n",
        "        explanations.append(\"✓ Two concepts compared with similarity cue (e.g., 'similar', 'like')\")\n",
        "        score += 3\n",
        "\n",
        "    if any(tok.text.lower() == \"if\" for tok in doc):\n",
        "        explanations.append(\"✓ Conditional structure suggesting hypothetical reasoning\")\n",
        "        score += 1\n",
        "\n",
        "    if any(is_semantically_analogical(tok) for tok in doc if tok.pos_ in {\"ADJ\", \"NOUN\", \"VERB\"}):\n",
        "        explanations.append(\"✓ Semantic similarity to analogy-related terms detected via WordNet\")\n",
        "        score += 2\n",
        "\n",
        "    if any(tok.dep_ in {\"prep\", \"relcl\"} and tok.lemma_ in {\"compare\", \"similar\"} for tok in doc):\n",
        "        explanations.append(\"✓ Syntactic cue of analogy (e.g., 'compared with', 'similar to')\")\n",
        "        score += 1\n",
        "\n",
        "    if any(phrase in question.lower() for phrase in analogy_context_cues):\n",
        "      explanations.append(\"✓ Contextual analogy marker detected (e.g., 'in which', 'such that')\")\n",
        "      score += 0.5\n",
        "\n",
        "    if any(tok.lemma_ in analogy_force_cues for tok in doc):\n",
        "      explanations.append(\"✓ Analogy evaluation term detected (e.g., 'undermine', 'strengthen')\")\n",
        "      score += 0.5\n",
        "\n",
        "    if any(tok.lemma_ in analogy_nouns for tok in doc if tok.pos_ == \"NOUN\"):\n",
        "      explanations.append(\"✓ Explicit analogy noun detected (e.g., 'analogy', 'comparison')\")\n",
        "      score += 2\n",
        "\n",
        "    if any(tok.dep_ == \"neg\" for tok in doc):\n",
        "      if any(tok.lemma_ in {\"similar\", \"compare\", \"alike\", \"match\"} for tok in doc):\n",
        "          explanations.append(\"✓ Negated comparison detected (suggesting analogy breakdown)\")\n",
        "          score += 1\n",
        "\n",
        "    score = min(score, 10)\n",
        "    label = \"Strong Analogy Question\" if score >= 7 else \"Weak/Partial Analogy Question\" if score >= 4 else \"Not Analogy Question\"\n",
        "    return label, score, explanations"
      ],
      "id": "42e76e57e97bbaba",
      "outputs": [],
      "execution_count": null
    },
    {
      "metadata": {
        "id": "a2cf149cfa5caa03"
      },
      "cell_type": "markdown",
      "source": [
        "### 4. Fear appeal"
      ],
      "id": "a2cf149cfa5caa03"
    },
    {
      "metadata": {
        "ExecuteTime": {
          "end_time": "2025-05-15T16:24:11.581068Z",
          "start_time": "2025-05-15T16:24:11.567985Z"
        },
        "id": "7cf9149aea813762"
      },
      "cell_type": "code",
      "source": [
        "def is_fear_related(token):\n",
        "    syns = wn.synsets(token.lemma_)\n",
        "    for s in syns:\n",
        "        if any(s.path_similarity(wn.synset('danger.n.01')) or s.path_similarity(wn.synset('problem.n.01')) or\n",
        "               s.path_similarity(wn.synset('fear.n.01')) or s.path_similarity(wn.synset('harm.n.01')) or\n",
        "               s.path_similarity(wn.synset('threat.n.01')) for s in syns):\n",
        "            return True\n",
        "    return False\n",
        "\n",
        "\n",
        "# ---- FrameNet Utility ----\n",
        "def get_lexical_units_from_frames(frames):\n",
        "    terms = set()\n",
        "    for frame_name in frames:\n",
        "        try:\n",
        "            frame = fn.frame_by_name(frame_name)\n",
        "            for lu in frame.lexUnit.values():\n",
        "                if '.v' in lu['name']:\n",
        "                    terms.add(lu['name'].split('.')[0])\n",
        "        except:\n",
        "            continue\n",
        "    return terms\n",
        "\n",
        "# ---- Relevant Lexical Resources ----\n",
        "causal_frames = [\"Causation\", \"Cause_to_start\", \"Preventing\", \"Risk\", \"Threaten\", \"Danger\"]\n",
        "causal_verbs = get_lexical_units_from_frames(causal_frames)\n",
        "\n",
        "fear_keywords = {\"danger\", \"threat\", \"risky\", \"harm\", \"catastrophe\", \"crisis\", \"ruin\", \"fear\", \"worse\", \"bad\", \"fatal\", \"negative\", \"die\", \"death\"}\n",
        "preventive_keywords = {\"prevent\", \"avoid\", \"stop\", \"ban\", \"rescue\", \"save\", \"protect\"}\n",
        "\n",
        "urgency_keywords = {\"immediately\", \"soon\", \"before it's too late\", \"critical\", \"urgent\", \"suddenly\", \"unexpectedly\"}\n",
        "\n",
        "possibility_terms = {\"possible\", \"possibility\", \"likely\", \"likelihood\", \"chance\", \"probability\", \"conceivable\", \"potential\", \"can\", \"could\", \"might\", \"may\", \"able\"}\n",
        "\n",
        "\n",
        "def detect_fear_appeal_question(question):\n",
        "    doc = nlp(question)\n",
        "    score = 0\n",
        "    explanations = []\n",
        "\n",
        "    if any(tok.lemma_.lower() in fear_keywords for tok in doc):\n",
        "        explanations.append(\"✓ Fear-related keyword detected (e.g., 'threat', 'danger')\")\n",
        "        score += 3\n",
        "\n",
        "    if any(tok.lemma_.lower() in preventive_keywords for tok in doc):\n",
        "        explanations.append(\"✓ Preventive action verb detected (e.g., 'prevent', 'stop')\")\n",
        "        score += 2\n",
        "\n",
        "    if any(tok.lemma_ in causal_verbs for tok in doc if tok.pos_ == \"VERB\"):\n",
        "        explanations.append(\"✓ Causal/preventive verb from FrameNet detected\")\n",
        "        score += 2\n",
        "\n",
        "    if any(tok.text.lower() in {\"if\", \"unless\"} for tok in doc):\n",
        "        explanations.append(\"✓ Conditional clause found (e.g., 'if', 'unless')\")\n",
        "        score += 1\n",
        "\n",
        "    if any(is_fear_related(tok) for tok in doc if tok.pos_ in {\"NOUN\", \"VERB\", \"ADJ\"}):\n",
        "        explanations.append(\"✓ Semantic fear-related concept detected via WordNet\")\n",
        "        score += 2\n",
        "\n",
        "    if any(phrase in question.lower() for phrase in urgency_keywords):\n",
        "        explanations.append(\"✓ Urgency marker detected (e.g., 'immediately', 'before it's too late')\")\n",
        "        score += 1\n",
        "\n",
        "    if any(tok.lemma_ in possibility_terms for tok in doc):\n",
        "        explanations.append(\"✓ Possibility-related term detected (e.g., 'possible', 'feasible', 'chance')\")\n",
        "        score += 1\n",
        "\n",
        "    score = min(score, 10)\n",
        "    label = \"Strong Fear Appeal\" if score >= 7 else \"Weak/Partial Fear Appeal\" if score >= 4 else \"Not Fear Appeal\"\n",
        "    return label, score, explanations"
      ],
      "id": "7cf9149aea813762",
      "outputs": [],
      "execution_count": null
    },
    {
      "metadata": {
        "id": "7a8603ab85946f5f"
      },
      "cell_type": "markdown",
      "source": [
        "## Final method for preprocessing and filtering for all types"
      ],
      "id": "7a8603ab85946f5f"
    },
    {
      "metadata": {
        "ExecuteTime": {
          "end_time": "2025-05-15T16:29:19.482629Z",
          "start_time": "2025-05-15T16:29:15.075842Z"
        },
        "id": "e2a3daba550e0722"
      },
      "cell_type": "code",
      "source": [
        "def classify_schema(row):\n",
        "    question = row[\"question\"]\n",
        "    results = []\n",
        "\n",
        "    is_critical = False\n",
        "\n",
        "    _, cte_score, _ = detect_cause_to_effect(question)\n",
        "    _, expert_score, _ = detect_expert_opinion(question)\n",
        "    _, analogy_score, _ = detect_analogy_question(question)\n",
        "    _, fear_score, _ = detect_fear_appeal_question(question)\n",
        "\n",
        "    if cte_score >= 7:\n",
        "      is_critical = True\n",
        "\n",
        "    if expert_score >= 7:\n",
        "      is_critical = True\n",
        "\n",
        "    if analogy_score >= 7:\n",
        "      is_critical = True\n",
        "\n",
        "    if fear_score >= 7:\n",
        "       is_critical = True\n",
        "\n",
        "    return pd.Series({\n",
        "        \"is_Critical\": is_critical,\n",
        "        \"CauseToEffect\": cte_score,\n",
        "        \"ExpertOpinion\": expert_score,\n",
        "        \"Analogy\": analogy_score,\n",
        "        \"FearAppeal\": fear_score,\n",
        "    })\n",
        "\n",
        "\n",
        "filtered_df[[\"is_Critical\",\"CauseToEffect\", \"ExpertOpinion\", \"Analogy\", \"FearAppeal\"]] = filtered_df.apply(classify_schema, axis=1)\n",
        "filtered_df"
      ],
      "id": "e2a3daba550e0722",
      "outputs": [],
      "execution_count": null
    },
    {
      "metadata": {
        "id": "67c7e6d5f854c8ba"
      },
      "cell_type": "markdown",
      "source": [
        "### final check: how many questions per category ?"
      ],
      "id": "67c7e6d5f854c8ba"
    },
    {
      "metadata": {
        "ExecuteTime": {
          "end_time": "2025-05-15T16:30:32.354376Z",
          "start_time": "2025-05-15T16:30:32.347133Z"
        },
        "id": "1d52494ad947f855"
      },
      "cell_type": "code",
      "source": [
        "value_counts = filtered_df['is_Critical'].value_counts(dropna=False)\n",
        "print(value_counts)\n",
        "\n",
        "columns = [\"CauseToEffect\", \"ExpertOpinion\", \"Analogy\", \"FearAppeal\"]\n",
        "\n",
        "value_counts_schema = filtered_df[columns].apply(pd.Series.value_counts, dropna=False)\n",
        "print(value_counts_schema)"
      ],
      "id": "1d52494ad947f855",
      "outputs": [],
      "execution_count": null
    },
    {
      "cell_type": "code",
      "source": [
        "value_counts_schema = filtered_df[columns].apply(pd.Series.value_counts, dropna=False)\n",
        "\n",
        "per_column_gte_7 = value_counts_schema[value_counts_schema.index >= 7].sum()\n",
        "\n",
        "print(\"Entries with score >= 7 per column:\")\n",
        "print(per_column_gte_7)"
      ],
      "metadata": {
        "id": "V0uu0q9Dg4YO"
      },
      "id": "V0uu0q9Dg4YO",
      "execution_count": null,
      "outputs": []
    },
    {
      "cell_type": "markdown",
      "source": [
        "## Save and filter datasets"
      ],
      "metadata": {
        "id": "o1l07MmVkwHD"
      },
      "id": "o1l07MmVkwHD"
    },
    {
      "cell_type": "code",
      "source": [
        "filtered_df.to_json(f'/content/drive/MyDrive/HSG/NLP/Project NLP/Data/Final/scored/processed_{chunk}.json', index=False)"
      ],
      "metadata": {
        "id": "Qhmiug1WYG4d"
      },
      "id": "Qhmiug1WYG4d",
      "execution_count": null,
      "outputs": []
    },
    {
      "cell_type": "code",
      "source": [
        "pro_chunk_I_df = pd.read_json('/content/drive/MyDrive/HSG/NLP/Project NLP/Data/Final/scored/processed_train_chunk_I.json')\n",
        "pro_chunk_II_df = pd.read_json('/content/drive/MyDrive/HSG/NLP/Project NLP/Data/Final/scored/processed_train_chunk_II.json')\n",
        "pro_chunk_III_df = pd.read_json('/content/drive/MyDrive/HSG/NLP/Project NLP/Data/Final/scored/processed_train_chunk_III.json')\n",
        "\n",
        "combined_df = pd.concat([pro_chunk_I_df, pro_chunk_II_df, pro_chunk_III_df], ignore_index=True)\n",
        "\n",
        "schema_cols = ['CauseToEffect', 'ExpertOpinion', 'Analogy', 'FearAppeal']\n",
        "\n",
        "long_df = combined_df.melt(\n",
        "    id_vars=['context', 'question'],\n",
        "    value_vars=schema_cols,\n",
        "    var_name='schema',\n",
        "    value_name='score'\n",
        ")\n",
        "\n",
        "qualified = long_df[long_df['score'] >= 7].copy()\n",
        "\n",
        "qualified = qualified.drop(columns=['score'])\n",
        "\n",
        "mask_no_schema = combined_df[schema_cols].max(axis=1) < 7\n",
        "\n",
        "no_schema_df = combined_df.loc[mask_no_schema, ['context', 'question']].copy()\n",
        "no_schema_df['schema'] = ''\n",
        "\n",
        "final_df = pd.concat([qualified, no_schema_df], ignore_index=True)\n",
        "\n",
        "final_df.shape"
      ],
      "metadata": {
        "id": "9k6JrCz-kSGL"
      },
      "id": "9k6JrCz-kSGL",
      "execution_count": null,
      "outputs": []
    },
    {
      "cell_type": "code",
      "source": [
        "df_to_save = combined_df.copy()\n",
        "\n",
        "df_to_save['id'] = range(1, len(df_to_save) + 1)\n",
        "\n",
        "columns_to_save = [\n",
        "    'id',\n",
        "    'context',\n",
        "    'question',\n",
        "    'context_token_len',\n",
        "    'is_Critical',\n",
        "    'CauseToEffect',\n",
        "    'Analogy',\n",
        "    'ExpertOpinion',\n",
        "    'FearAppeal'\n",
        "]\n",
        "\n",
        "df_to_save[columns_to_save].to_json('/content/drive/MyDrive/HSG/NLP/Project NLP/Data/Final/scored/processed_train_data.json', orient='records', indent=2)"
      ],
      "metadata": {
        "id": "u0JKZ_iL4TNv"
      },
      "id": "u0JKZ_iL4TNv",
      "execution_count": null,
      "outputs": []
    },
    {
      "cell_type": "code",
      "source": [
        "final_df = final_df.reset_index(drop=True)\n",
        "final_df['id'] = final_df.index + 1\n",
        "\n",
        "final_df = final_df[['id', 'context', 'question', 'schema']]\n",
        "\n",
        "final_df.to_json('/content/drive/MyDrive/HSG/NLP/Project NLP/Data/Final/Categorised/categoriesed_train_data.json', orient='records', indent=2)"
      ],
      "metadata": {
        "id": "ME5sKV3s2FQV"
      },
      "id": "ME5sKV3s2FQV",
      "execution_count": null,
      "outputs": []
    },
    {
      "cell_type": "code",
      "source": [
        "filtered_df = final_df[final_df['schema'] != ''].copy()\n",
        "\n",
        "filtered_df = filtered_df.reset_index(drop=True)\n",
        "filtered_df['id'] = filtered_df.index + 1\n",
        "\n",
        "filtered_df.to_json('/content/drive/MyDrive/HSG/NLP/Project NLP/Data/Final/Categorised/categoriesed_filtered_train_data.json', orient='records', indent=2)"
      ],
      "metadata": {
        "id": "VwsBaK9L3lOD"
      },
      "id": "VwsBaK9L3lOD",
      "execution_count": null,
      "outputs": []
    },
    {
      "cell_type": "code",
      "source": [
        "full_df = pd.read_json('/content/drive/MyDrive/HSG/NLP/Project NLP/Data/Final/scored/processed_train_data.json', orient='records')\n",
        "\n",
        "score_columns = ['CauseToEffect', 'Analogy', 'ExpertOpinion', 'FearAppeal']\n",
        "filtered_df = full_df[full_df[score_columns].gt(4).any(axis=1)]\n",
        "\n",
        "filtered_df.to_json('/content/drive/MyDrive/HSG/NLP/Project NLP/Data/Final/score_filtered/score_4_train_data.json', orient='records', indent=2)"
      ],
      "metadata": {
        "colab": {
          "base_uri": "https://localhost:8080/"
        },
        "id": "6nVJBcjclm85",
        "outputId": "74dd4078-ce06-48b1-811e-8e6f50318876"
      },
      "id": "6nVJBcjclm85",
      "execution_count": 11,
      "outputs": [
        {
          "output_type": "execute_result",
          "data": {
            "text/plain": [
              "(18902, 9)"
            ]
          },
          "metadata": {},
          "execution_count": 11
        }
      ]
    },
    {
      "cell_type": "markdown",
      "source": [
        "## analyse dataset"
      ],
      "metadata": {
        "id": "RZaLh3EbnxUP"
      },
      "id": "RZaLh3EbnxUP"
    },
    {
      "cell_type": "code",
      "source": [
        "df = pd.read_json('/content/drive/MyDrive/HSG/NLP/Project NLP/Data/Final/scored/processed_train_data.json', orient='records')\n",
        "df.shape"
      ],
      "metadata": {
        "id": "ji7x0C0rnwhV",
        "outputId": "56e9f1f9-cc4b-43e3-9c97-56f837f76990",
        "colab": {
          "base_uri": "https://localhost:8080/"
        }
      },
      "id": "ji7x0C0rnwhV",
      "execution_count": 17,
      "outputs": [
        {
          "output_type": "execute_result",
          "data": {
            "text/plain": [
              "(80985, 9)"
            ]
          },
          "metadata": {},
          "execution_count": 17
        }
      ]
    },
    {
      "cell_type": "code",
      "source": [
        "score_columns = ['CauseToEffect', 'Analogy', 'ExpertOpinion', 'FearAppeal']\n",
        "\n",
        "score_counts = pd.DataFrame()\n",
        "\n",
        "for col in score_columns:\n",
        "    counts = df[col].value_counts().sort_index()\n",
        "    score_counts[col] = counts\n",
        "\n",
        "score_counts = score_counts.fillna(0).astype(int)\n",
        "\n",
        "print(score_counts)"
      ],
      "metadata": {
        "id": "U18H4TO_oMdU",
        "outputId": "a0a089f5-3d3f-4f9e-c480-e225b22c1fd0",
        "colab": {
          "base_uri": "https://localhost:8080/"
        }
      },
      "id": "U18H4TO_oMdU",
      "execution_count": 20,
      "outputs": [
        {
          "output_type": "stream",
          "name": "stdout",
          "text": [
            "               CauseToEffect  Analogy  ExpertOpinion  FearAppeal\n",
            "CauseToEffect                                                   \n",
            "0.0                    45081     4466          49444         650\n",
            "1.0                      358     3178           2423          32\n",
            "2.0                    15451    15157          12691       55079\n",
            "3.0                     1093    27914           7266       11209\n",
            "3.5                     4427     9877             83           0\n",
            "4.0                     5360     6202           5037        8837\n",
            "4.5                     1205     3193             43           0\n",
            "5.0                     5020      807           1915        3845\n",
            "5.5                      844      482             19           0\n",
            "6.0                      642     1758            620         745\n",
            "6.5                      212      732              6           0\n",
            "7.0                       70      686            208         433\n",
            "7.5                       26      362              4           0\n",
            "8.5                      588       49              1           0\n",
            "9.0                      488        6              6          28\n",
            "9.5                      116        2              0           0\n",
            "10.0                       4        1              0           2\n"
          ]
        }
      ]
    },
    {
      "metadata": {
        "id": "d9b0f32c312321d5"
      },
      "cell_type": "markdown",
      "source": [
        "## Create Dataset for DPO Traing"
      ],
      "id": "d9b0f32c312321d5"
    },
    {
      "metadata": {
        "ExecuteTime": {
          "end_time": "2025-05-18T10:40:25.465366Z",
          "start_time": "2025-05-18T10:40:25.463771Z"
        },
        "id": "bb637b966c15f04"
      },
      "cell_type": "code",
      "source": [
        "import json\n",
        "import pandas as pd\n",
        "\n",
        "# Load the existing JSON dataset\n",
        "input_file = 'Data/Processed/processed_train_data.json'\n",
        "output_file = 'Data/Processed/processed_train_data_for_dpo.json'\n"
      ],
      "id": "bb637b966c15f04",
      "outputs": [],
      "execution_count": null
    },
    {
      "metadata": {
        "ExecuteTime": {
          "end_time": "2025-05-18T10:40:26.785072Z",
          "start_time": "2025-05-18T10:40:26.419441Z"
        },
        "id": "20b006805465064e"
      },
      "cell_type": "code",
      "source": [
        "with open(input_file, 'r') as f:\n",
        "    data = json.load(f)\n",
        "\n",
        "# Prepare the new data format in conversational style\n",
        "conversational_data = []\n",
        "for entry in data:\n",
        "    conversational_entry = {\n",
        "        \"prompt\": [{\"role\": \"user\", \"content\": \"You are an AI assistant to help:\"}],\n",
        "        \"completion\": [{\"role\": \"assistant\", \"content\": entry.get(\"question\", \"\")}],\n",
        "        \"label\": entry.get(\"is_Critical\", False)\n",
        "    }\n",
        "    conversational_data.append(conversational_entry)\n",
        "\n",
        "# Convert to DataFrame for a more structured view\n",
        "conversational_df = pd.DataFrame(conversational_data)"
      ],
      "id": "20b006805465064e",
      "outputs": [],
      "execution_count": null
    },
    {
      "metadata": {
        "ExecuteTime": {
          "end_time": "2025-05-18T10:40:31.676690Z",
          "start_time": "2025-05-18T10:40:31.674156Z"
        },
        "id": "a5ed4102ac430700"
      },
      "cell_type": "code",
      "source": [
        "def balance_labels(df):\n",
        "    true_df = df[df['label'] == True]\n",
        "    false_df = df[df['label'] == False]\n",
        "    min_size = min(len(true_df), len(false_df))\n",
        "    balanced_df = pd.concat([true_df.sample(min_size, random_state=42), false_df.sample(min_size, random_state=42)])\n",
        "    return balanced_df.reset_index(drop=True)"
      ],
      "id": "a5ed4102ac430700",
      "outputs": [],
      "execution_count": null
    },
    {
      "metadata": {
        "ExecuteTime": {
          "end_time": "2025-05-18T10:40:33.169968Z",
          "start_time": "2025-05-18T10:40:33.137269Z"
        },
        "id": "2a227de27545dbc",
        "outputId": "61c71654-4ea4-4182-f33b-423ccafa3e49"
      },
      "cell_type": "code",
      "source": [
        "# Balance the dataset\n",
        "balanced_df = balance_labels(conversational_df)\n",
        "# Save the reformatted data to a new JSON file\n",
        "balanced_df.to_json(output_file, orient='records', lines=True)\n",
        "\n",
        "print(f\"Conversational style dataset saved to: {output_file}\")\n"
      ],
      "id": "2a227de27545dbc",
      "outputs": [
        {
          "name": "stdout",
          "output_type": "stream",
          "text": [
            "Conversational style dataset saved to: Data/Processed/processed_train_data_for_dpo.json\n"
          ]
        }
      ],
      "execution_count": null
    },
    {
      "cell_type": "markdown",
      "source": [
        "## Git"
      ],
      "metadata": {
        "id": "FnJOhkRZknD-"
      },
      "id": "FnJOhkRZknD-"
    },
    {
      "cell_type": "code",
      "source": [
        "!git config --global user.name \"Showcas\"\n",
        "!git config --global user.email \"cedric.bohni@gmx.de\"\n",
        "\n",
        "\n",
        "commit_message = f\"Improved Preprocessing file\"\n",
        "!git add .\n",
        "!git commit -m \"{commit_message}\"\n",
        "!git push"
      ],
      "metadata": {
        "collapsed": true,
        "id": "Et8Dsm7-UgOB"
      },
      "id": "Et8Dsm7-UgOB",
      "execution_count": null,
      "outputs": []
    }
  ],
  "metadata": {
    "kernelspec": {
      "display_name": "Python 3",
      "name": "python3"
    },
    "language_info": {
      "codemirror_mode": {
        "name": "ipython",
        "version": 2
      },
      "file_extension": ".py",
      "mimetype": "text/x-python",
      "name": "python",
      "nbconvert_exporter": "python",
      "pygments_lexer": "ipython2",
      "version": "2.7.6"
    },
    "colab": {
      "provenance": [],
      "gpuType": "T4",
      "machine_shape": "hm",
      "include_colab_link": true
    },
    "accelerator": "GPU"
  },
  "nbformat": 4,
  "nbformat_minor": 5
}