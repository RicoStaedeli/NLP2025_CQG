{
  "cells": [
    {
      "cell_type": "markdown",
      "metadata": {
        "id": "view-in-github",
        "colab_type": "text"
      },
      "source": [
        "<a href=\"https://colab.research.google.com/github/RicoStaedeli/NLP2025_CQG/blob/main/1_a_Generate_DPO_Dataset.ipynb\" target=\"_parent\"><img src=\"https://colab.research.google.com/assets/colab-badge.svg\" alt=\"Open In Colab\"/></a>"
      ]
    },
    {
      "metadata": {
        "id": "924f27fa2ce5a86f"
      },
      "cell_type": "markdown",
      "source": [
        "# Generation of DPO Dataset\n",
        "In this notebook we generate a preference dataset usable in DPO and ORPO fine-tuning.\n",
        "- **Model**: gpt-3.5-turbo\n",
        "- **Dataset**: [CQ FULL Dataset](Data/Processed/CQ%20FULL%20Dataset.json)\n",
        "\n",
        "**Prerequisits**\n",
        "- You need an OpenAI API key with a cashed account\n",
        "- You need access to the GitHub repository\n",
        "\n",
        "**Output** <br>\n",
        "This notebook generates:\n",
        "- **[CQ DPO Dataset](Data/Processed/CQ%20DPO%20Dataset.json)**: A preference dataset with a prompt, rejected and chosen column according Hugging Face dataset formatting guidelines."
      ],
      "id": "924f27fa2ce5a86f"
    },
    {
      "metadata": {
        "id": "341fbd090ae76164"
      },
      "cell_type": "markdown",
      "source": [
        "## Setup"
      ],
      "id": "341fbd090ae76164"
    },
    {
      "cell_type": "code",
      "source": [
        "!pip install -U datasets"
      ],
      "metadata": {
        "id": "f_yl5Geg-kYW"
      },
      "id": "f_yl5Geg-kYW",
      "execution_count": null,
      "outputs": []
    },
    {
      "metadata": {
        "id": "4151ae49b76c49e7"
      },
      "cell_type": "code",
      "outputs": [],
      "execution_count": null,
      "source": [
        "import json\n",
        "import os\n",
        "from openai import OpenAI\n",
        "import time\n",
        "from datasets import load_dataset\n",
        "import plotly.express as px\n",
        "from collections import Counter\n",
        "import pandas as pd\n",
        "import spacy\n",
        "import nltk\n",
        "from nltk.corpus import wordnet as wn\n",
        "from nltk.corpus import framenet as fn\n",
        "\n",
        "nltk.download('wordnet')\n",
        "nltk.download('framenet_v17')\n",
        "nlp = spacy.load(\"en_core_web_sm\")"
      ],
      "id": "4151ae49b76c49e7"
    },
    {
      "cell_type": "code",
      "source": [
        "from google.colab import userdata"
      ],
      "metadata": {
        "id": "lHASyPmA872J"
      },
      "id": "lHASyPmA872J",
      "execution_count": null,
      "outputs": []
    },
    {
      "cell_type": "markdown",
      "source": [
        "Clone GitHub Repository"
      ],
      "metadata": {
        "id": "MuRSxHwc9a30"
      },
      "id": "MuRSxHwc9a30"
    },
    {
      "cell_type": "code",
      "source": [
        "token = userdata.get('GITHUB')\n",
        "repo_url = f\"https://{token}@github.com/RicoStaedeli/NLP2025_CQG.git\"\n",
        "\n",
        "!git clone {repo_url}"
      ],
      "metadata": {
        "id": "kwEeN_fL9eGd"
      },
      "id": "kwEeN_fL9eGd",
      "execution_count": null,
      "outputs": []
    },
    {
      "metadata": {
        "id": "15adc07b4a1514ff"
      },
      "cell_type": "markdown",
      "source": [
        "### Static Variables"
      ],
      "id": "15adc07b4a1514ff"
    },
    {
      "metadata": {
        "id": "4be951b9ad578b87"
      },
      "cell_type": "code",
      "outputs": [],
      "execution_count": null,
      "source": [
        "################################################################################\n",
        "#######################   STATIC VARIABLES      ################################\n",
        "################################################################################\n",
        "\n",
        "api_key = userdata.get('OPENAI_API_KEY')\n",
        "PUSH_TO_GITHUB = False\n",
        "\n",
        "################################################################################\n",
        "#######################   PATH VARIABLES        ################################\n",
        "################################################################################\n",
        "input_file = \"/content/NLP2025_CQG/Data/Processed/CQ FULL Dataset.json\"\n",
        "output_file = \"/content/NLP2025_CQG/Data/Processed/CQ DPO Dataset.json\""
      ],
      "id": "4be951b9ad578b87"
    },
    {
      "metadata": {
        "id": "819fa6818d9c13a3"
      },
      "cell_type": "markdown",
      "source": [
        "Load full dataset and use only question marked as critical"
      ],
      "id": "819fa6818d9c13a3"
    },
    {
      "metadata": {
        "id": "b327f30726883e78"
      },
      "cell_type": "code",
      "outputs": [],
      "execution_count": null,
      "source": [
        "with open(input_file, 'r') as file:\n",
        "    data = json.load(file)\n",
        "\n",
        "df = pd.DataFrame(data)\n",
        "\n",
        "critical_true = df[df['is_Critical'] == True]\n",
        "critical_true.head()"
      ],
      "id": "b327f30726883e78"
    },
    {
      "metadata": {
        "id": "3264dbaea19c4bb2"
      },
      "cell_type": "markdown",
      "source": [
        "## Evaluation\n",
        "This is a copy of the evaluation pipeline used in Notebook [3_Evaluation](3_Evaluation.ipynb). To score the generated question from gpt-3.5-turbo."
      ],
      "id": "3264dbaea19c4bb2"
    },
    {
      "metadata": {
        "id": "7c962206f3cc06dd"
      },
      "cell_type": "markdown",
      "source": [
        "### Cause to Effect"
      ],
      "id": "7c962206f3cc06dd"
    },
    {
      "metadata": {
        "id": "fbb5fe531244f502"
      },
      "cell_type": "code",
      "outputs": [],
      "execution_count": null,
      "source": [
        "def get_causal_verbs_from_framenet():\n",
        "    causal_frame_names = [\n",
        "        \"Causation\", \"Cause_change\", \"Cause_change_of_position_on_a_scale\",\n",
        "        \"Cause_motion\", \"Cause_to_amalgamate\", \"Cause_to_start\", \"Cause_to_make_progress\",\n",
        "        \"Causation_scenario\", \"Cause_to_end\", \"Cause_to_resume\",\n",
        "        \"Cause_to_continue\", \"Cause_change_of_consistency\", \"Cause_expansion\", \"Cause_impact\"\n",
        "    ]\n",
        "\n",
        "    causal_verbs = set()\n",
        "    for frame_name in causal_frame_names:\n",
        "        try:\n",
        "            frame = fn.frame_by_name(frame_name)\n",
        "            for lu in frame.lexUnit.values():\n",
        "                if '.v' in lu['name']:  # Only verbs\n",
        "                    causal_verbs.add(lu['name'].split('.')[0])\n",
        "        except Exception as e:\n",
        "            print(f\"Error loading frame '{frame_name}': {e}\")\n",
        "\n",
        "    return causal_verbs\n",
        "\n",
        "\n",
        "causal_meta_terms = {\"generalisation\", \"implies\", \"entail\", \"necessitate\", \"follow from\", \"inference\"}\n",
        "alternative_factor_terms = {\"factor\", \"interfere\", \"influence\", \"affect\", \"contribute\", \"complicate\"}\n",
        "\n",
        "\n",
        "def detect_cause_to_effect(sentence):\n",
        "    doc = nlp(sentence)\n",
        "    explanations = []\n",
        "    score = 0\n",
        "\n",
        "    causal_verbs = get_causal_verbs_from_framenet()\n",
        "\n",
        "    has_condition = any(tok.dep_ == \"mark\" and tok.text.lower() in {\"if\", \"when\"} for tok in doc)\n",
        "    if has_condition:\n",
        "        explanations.append(\"✓ Conditional clause detected (e.g., 'if', 'when')\")\n",
        "        score += 3\n",
        "\n",
        "    has_advcl = any(tok.dep_ == \"advcl\" for tok in doc)\n",
        "    if has_advcl:\n",
        "        explanations.append(\"✓ Adverbial clause (likely effect clause) detected\")\n",
        "        score += 2\n",
        "\n",
        "    has_causal_verb_structure = False\n",
        "    for tok in doc:\n",
        "        if tok.lemma_ in causal_verbs and tok.pos_ == \"VERB\":\n",
        "            subj = any(child.dep_ == \"nsubj\" for child in tok.children)\n",
        "            obj = any(child.dep_ == \"dobj\" for child in tok.children)\n",
        "            prep = any(child.dep_ == \"prep\" for child in tok.children)\n",
        "            if subj or obj or prep:\n",
        "                has_causal_verb_structure = True\n",
        "                explanations.append(\n",
        "                    f\"✓ Verb '{tok.lemma_}' is listed in FrameNet under causal frames with subject/object/prep\"\n",
        "                )\n",
        "                score += 3\n",
        "                if subj: score += 0.5\n",
        "                if obj: score += 0.5\n",
        "                if prep: score += 0.5\n",
        "                break\n",
        "\n",
        "    if any(tok.lemma_ in causal_meta_terms for tok in doc):\n",
        "        explanations.append(\"✓ Causal generalisation or implication term detected (e.g., 'implies', 'generalisation')\")\n",
        "        score += 1\n",
        "\n",
        "    if any(tok.lemma_ in alternative_factor_terms for tok in doc):\n",
        "        explanations.append(\"✓ Terms indicating alternative causes or interfering factors detected\")\n",
        "        score += 1\n",
        "\n",
        "    is_causal = has_condition and has_advcl or has_causal_verb_structure\n",
        "    if not is_causal:\n",
        "        causal_phrases = [\"result in\", \"lead to\", \"may cause\", \"because of\", \"due to\", \"given rise to\",\n",
        "                          \"resulting from\", \"stemming from\", \"driven by\", \"caused by\", \"attributed to\", \"stems from\",\n",
        "                          \"reason\", \"result of\", \"consequence of\", \"owning to\", \"thus\", \"so\", \"therefore\",\n",
        "                          \"hence\"  \"thereby\"]\n",
        "        if any(phrase in sentence.lower() for phrase in causal_phrases):\n",
        "            explanations.append(\"✓ Phrase pattern matches known cause-to-effect trigger\")\n",
        "            score += 2\n",
        "\n",
        "    score = min(score, 10)\n",
        "    label = \"Strong CauseToEffect\" if score >= 7 else \"Weak/Partial CauseToEffect\" if score >= 4 else \"Not CauseToEffect\"\n",
        "    return label, score, explanations"
      ],
      "id": "fbb5fe531244f502"
    },
    {
      "metadata": {
        "id": "51278f4c8033e85b"
      },
      "cell_type": "markdown",
      "source": [
        "### Expert Opinion"
      ],
      "id": "51278f4c8033e85b"
    },
    {
      "metadata": {
        "id": "260d3468cb0d3340"
      },
      "cell_type": "code",
      "outputs": [],
      "execution_count": null,
      "source": [
        "def get_lexical_units_from_frames(frames):\n",
        "    terms = set()\n",
        "    for frame_name in frames:\n",
        "        try:\n",
        "            frame = fn.frame_by_name(frame_name)\n",
        "            for lu in frame.lexUnit.values():\n",
        "                if '.v' in lu['name']:\n",
        "                    terms.add(lu['name'].split('.')[0])\n",
        "        except Exception as e:\n",
        "            print(f\"Warning: Could not load frame '{frame_name}': {e}\")\n",
        "    return terms\n",
        "\n",
        "\n",
        "expert_frames = [\n",
        "    \"Expertise\", \"Judgment_communication\", \"Opinion\",\n",
        "    \"Authority\", \"Statement\", \"Certainty\"\n",
        "]\n",
        "quote_frames = [\"Statement\", \"Judgment_communication\"]\n",
        "clarity_frames = [\"Reasoning\"]\n",
        "evidence_frames = [\"Evidence\", \"Certainty\", \"Causation\"]\n",
        "\n",
        "expert_verbs = get_lexical_units_from_frames(expert_frames)\n",
        "quote_verbs = get_lexical_units_from_frames(quote_frames)\n",
        "clarity_terms = get_lexical_units_from_frames(clarity_frames)\n",
        "evidence_terms = get_lexical_units_from_frames(evidence_frames)\n",
        "\n",
        "\n",
        "def detect_expert_opinion(question):\n",
        "    doc = nlp(question)\n",
        "    score = 0\n",
        "    explanations = []\n",
        "\n",
        "    expert_titles = {\"expert\", \"researcher\", \"scientist\", \"doctor\", \"analyst\", \"professor\", \"Dr.\"}\n",
        "\n",
        "    implicit_expert_terms = {\"study\", \"research\", \"evidence\", \"report\", \"findings\", \"scientific\", \"government\",\n",
        "                             \"official\", \"paper\", \"survey\", \"data\"}\n",
        "    comparison_cues = {\"consistent\", \"align\", \"similar\", \"agree\", \"disagree\", \"corroborate\", \"conflict\"}\n",
        "    technical_request_verbs = {\"define\", \"explain\", \"describe\", \"elaborate\", \"clarify\"}\n",
        "    assertion_verbs = {\"assert\", \"affirm\", \"pronounce\", \"declare\", \"maintain\", \"claim\", \"state\"}\n",
        "    reference_terms = {\"quote\", \"reference\", \"cite\", \"check\", \"verify\", \"source\"}\n",
        "    domain_terms = {\"science\", \"scientific\", \"domain\", \"field\", \"discipline\", \"area\", \"sector\"}\n",
        "\n",
        "    for ent in doc.ents:\n",
        "        if ent.label_ in {\"PERSON\", \"ORG\"}:\n",
        "            if any(title in ent.text.lower() for title in expert_titles):\n",
        "                explanations.append(f\"✓ Expert entity detected: '{ent.text}'\")\n",
        "                score += 3\n",
        "                break\n",
        "\n",
        "    if any(tok.lemma_ in expert_verbs for tok in doc if tok.pos_ == \"VERB\"):\n",
        "        explanations.append(\"✓ Detected expert-related verb from FrameNet\")\n",
        "        score += 2\n",
        "\n",
        "    if any(tok.lemma_ in quote_verbs for tok in doc):\n",
        "        explanations.append(\"✓ Quotation or claim verb found\")\n",
        "        score += 1\n",
        "\n",
        "    if any(tok.lemma_ in clarity_terms for tok in doc):\n",
        "        explanations.append(\"✓ Clarity/definition markers found\")\n",
        "        score += 1\n",
        "\n",
        "    if any(tok.lemma_ in evidence_terms for tok in doc):\n",
        "        explanations.append(\"✓ Evidence or support-related terms found\")\n",
        "        score += 2\n",
        "\n",
        "    if any(tok.lemma_.lower() in implicit_expert_terms for tok in doc):\n",
        "        explanations.append(\"✓ Implicit expert-related term detected (e.g., 'study', 'government')\")\n",
        "        score += 2\n",
        "\n",
        "    if any(tok.lemma_.lower() in comparison_cues for tok in doc):\n",
        "        explanations.append(\"✓ Cross-study comparison term detected (e.g., 'consistent', 'similar')\")\n",
        "        score += 0.5\n",
        "\n",
        "    if any(tok.lemma_.lower() in technical_request_verbs for tok in doc):\n",
        "        explanations.append(\"✓ Technical explanation request detected (e.g., 'define', 'explain')\")\n",
        "        score += 1\n",
        "\n",
        "    if any(tok.dep_ == \"attr\" and tok.lemma_ == \"expert\" for tok in doc):\n",
        "        explanations.append(\"✓ Predicate nominative indicating expertise detected (e.g., 'X is an expert')\")\n",
        "        score += 2\n",
        "\n",
        "    if any(tok.lemma_.lower() in assertion_verbs for tok in doc):\n",
        "        explanations.append(\"✓ Assertion or claim verb detected (e.g., 'assert', 'affirm')\")\n",
        "        score += 1\n",
        "\n",
        "    if any(tok.lemma_.lower() in reference_terms for tok in doc):\n",
        "        explanations.append(\"✓ Source/reference validation term detected (e.g., 'quote', 'reference')\")\n",
        "        score += 1\n",
        "\n",
        "    if any(tok.lemma_.lower() in domain_terms for tok in doc):\n",
        "        explanations.append(\"✓ Domain relevance indicator detected (e.g., 'science', 'domainD')\")\n",
        "        score += 1\n",
        "\n",
        "    label = \"Strong Expert Opinion\" if score >= 7 else \"Weak/Partial Expert Opinion\" if score >= 4 else \"Not Expert Opinion\"\n",
        "    return label, score, explanations"
      ],
      "id": "260d3468cb0d3340"
    },
    {
      "metadata": {
        "id": "611a786f30b80e76"
      },
      "cell_type": "markdown",
      "source": [
        "### Analogy"
      ],
      "id": "611a786f30b80e76"
    },
    {
      "metadata": {
        "id": "2b2d2f5715b06859"
      },
      "cell_type": "code",
      "outputs": [],
      "execution_count": null,
      "source": [
        "analogy_synsets = [wn.synset('similar.a.01'), wn.synset('analogy.n.01'), wn.synset('compare.v.01')]\n",
        "\n",
        "comparison_frames = [\"Similarity\"]\n",
        "contrast_frames = [\"Categorization\"]\n",
        "evidence_frames = [\"Evidence\", \"Judgment_communication\"]\n",
        "\n",
        "comparison_verbs = get_lexical_units_from_frames(comparison_frames)\n",
        "contrast_verbs = get_lexical_units_from_frames(contrast_frames)\n",
        "evidence_verbs = get_lexical_units_from_frames(evidence_frames)\n",
        "\n",
        "\n",
        "def is_semantically_analogical(token):\n",
        "    token_synsets = wn.synsets(token.lemma_)\n",
        "    for s in token_synsets:\n",
        "        for analogy_syn in analogy_synsets:\n",
        "            if s.path_similarity(analogy_syn) and s.path_similarity(analogy_syn) > 0.3:\n",
        "                return True\n",
        "    return False\n",
        "\n",
        "\n",
        "analogy_context_cues = {\"respect\", \"in which\", \"such that\", \"with regard to\", \"in terms of\"}\n",
        "\n",
        "analogy_force_cues = {\"undermine\", \"weaken\", \"strengthen\", \"force of similarity\", \"degree of analogy\"}\n",
        "\n",
        "analogy_nouns = {\"analogy\", \"comparison\", \"parallel\", \"similarity\", \"analogue\"}\n",
        "\n",
        "\n",
        "def detect_analogy_question(question):\n",
        "    doc = nlp(question)\n",
        "    score = 0\n",
        "    explanations = []\n",
        "    noun_chunks = list(doc.noun_chunks)\n",
        "\n",
        "    if any(tok.lemma_ in comparison_verbs for tok in doc if tok.pos_ == \"VERB\"):\n",
        "        explanations.append(\"✓ Comparison verb detected from FrameNet\")\n",
        "        score += 2.5\n",
        "\n",
        "    entity_tokens = [tok for tok in doc if tok.pos_ in {\"PROPN\", \"NOUN\"}]\n",
        "    if len(set(tok.lemma_ for tok in entity_tokens)) >= 2:\n",
        "        explanations.append(\"✓ Contains at least two distinct concepts/entities\")\n",
        "        score += 1\n",
        "\n",
        "    if any(tok.lemma_ in contrast_verbs for tok in doc if tok.pos_ == \"VERB\"):\n",
        "        explanations.append(\"✓ Contrast or difference verb detected from FrameNet\")\n",
        "        score += 1\n",
        "\n",
        "    if any(tok.lemma_ in evidence_verbs for tok in doc if tok.pos_ == \"VERB\"):\n",
        "        explanations.append(\"✓ Evidence or justification verb found\")\n",
        "        score += 1\n",
        "\n",
        "    if any(tok.tag_ == \"MD\" for tok in doc):\n",
        "        score += 0.5\n",
        "\n",
        "    if len(noun_chunks) >= 2 and any(tok.lemma_ in {\"similar\", \"like\", \"as\"} for tok in doc):\n",
        "        explanations.append(\"✓ Two concepts compared with similarity cue (e.g., 'similar', 'like')\")\n",
        "        score += 3\n",
        "\n",
        "    if any(tok.text.lower() == \"if\" for tok in doc):\n",
        "        explanations.append(\"✓ Conditional structure suggesting hypothetical reasoning\")\n",
        "        score += 1\n",
        "\n",
        "    if any(is_semantically_analogical(tok) for tok in doc if tok.pos_ in {\"ADJ\", \"NOUN\", \"VERB\"}):\n",
        "        explanations.append(\"✓ Semantic similarity to analogy-related terms detected via WordNet\")\n",
        "        score += 2\n",
        "\n",
        "    if any(tok.dep_ in {\"prep\", \"relcl\"} and tok.lemma_ in {\"compare\", \"similar\"} for tok in doc):\n",
        "        explanations.append(\"✓ Syntactic cue of analogy (e.g., 'compared with', 'similar to')\")\n",
        "        score += 1\n",
        "\n",
        "    if any(phrase in question.lower() for phrase in analogy_context_cues):\n",
        "        explanations.append(\"✓ Contextual analogy marker detected (e.g., 'in which', 'such that')\")\n",
        "        score += 0.5\n",
        "\n",
        "    if any(tok.lemma_ in analogy_force_cues for tok in doc):\n",
        "        explanations.append(\"✓ Analogy evaluation term detected (e.g., 'undermine', 'strengthen')\")\n",
        "        score += 0.5\n",
        "\n",
        "    if any(tok.lemma_ in analogy_nouns for tok in doc if tok.pos_ == \"NOUN\"):\n",
        "        explanations.append(\"✓ Explicit analogy noun detected (e.g., 'analogy', 'comparison')\")\n",
        "        score += 2\n",
        "\n",
        "    if any(tok.dep_ == \"neg\" for tok in doc):\n",
        "        if any(tok.lemma_ in {\"similar\", \"compare\", \"alike\", \"match\"} for tok in doc):\n",
        "            explanations.append(\"✓ Negated comparison detected (suggesting analogy breakdown)\")\n",
        "            score += 1\n",
        "\n",
        "    score = min(score, 10)\n",
        "    label = \"Strong Analogy Question\" if score >= 7 else \"Weak/Partial Analogy Question\" if score >= 4 else \"Not Analogy Question\"\n",
        "    return label, score, explanations"
      ],
      "id": "2b2d2f5715b06859"
    },
    {
      "metadata": {
        "id": "310a639c4188c93b"
      },
      "cell_type": "markdown",
      "source": [
        "### Fear"
      ],
      "id": "310a639c4188c93b"
    },
    {
      "metadata": {
        "id": "20c226f30a96e860"
      },
      "cell_type": "code",
      "outputs": [],
      "execution_count": null,
      "source": [
        "def is_fear_related(token):\n",
        "    syns = wn.synsets(token.lemma_)\n",
        "    for s in syns:\n",
        "        if any(s.path_similarity(wn.synset('danger.n.01')) or s.path_similarity(wn.synset('problem.n.01')) or\n",
        "               s.path_similarity(wn.synset('fear.n.01')) or s.path_similarity(wn.synset('harm.n.01')) or\n",
        "               s.path_similarity(wn.synset('threat.n.01')) for s in syns):\n",
        "            return True\n",
        "    return False\n",
        "\n",
        "\n",
        "# ---- FrameNet Utility ----\n",
        "def get_lexical_units_from_frames(frames):\n",
        "    terms = set()\n",
        "    for frame_name in frames:\n",
        "        try:\n",
        "            frame = fn.frame_by_name(frame_name)\n",
        "            for lu in frame.lexUnit.values():\n",
        "                if '.v' in lu['name']:\n",
        "                    terms.add(lu['name'].split('.')[0])\n",
        "        except:\n",
        "            continue\n",
        "    return terms\n",
        "\n",
        "\n",
        "# ---- Relevant Lexical Resources ----\n",
        "causal_frames = [\"Causation\", \"Cause_to_start\", \"Preventing\", \"Risk\", \"Threaten\", \"Danger\"]\n",
        "causal_verbs = get_lexical_units_from_frames(causal_frames)\n",
        "\n",
        "fear_keywords = {\"danger\", \"threat\", \"risky\", \"harm\", \"catastrophe\", \"crisis\", \"ruin\", \"fear\", \"worse\", \"bad\", \"fatal\",\n",
        "                 \"negative\", \"die\", \"death\"}\n",
        "preventive_keywords = {\"prevent\", \"avoid\", \"stop\", \"ban\", \"rescue\", \"save\", \"protect\"}\n",
        "\n",
        "urgency_keywords = {\"immediately\", \"soon\", \"before it's too late\", \"critical\", \"urgent\", \"suddenly\", \"unexpectedly\"}\n",
        "\n",
        "possibility_terms = {\"possible\", \"possibility\", \"likely\", \"likelihood\", \"chance\", \"probability\", \"conceivable\",\n",
        "                     \"potential\", \"can\", \"could\", \"might\", \"may\", \"able\"}\n",
        "\n",
        "\n",
        "def detect_fear_appeal_question(question):\n",
        "    doc = nlp(question)\n",
        "    score = 0\n",
        "    explanations = []\n",
        "\n",
        "    if any(tok.lemma_.lower() in fear_keywords for tok in doc):\n",
        "        explanations.append(\"✓ Fear-related keyword detected (e.g., 'threat', 'danger')\")\n",
        "        score += 3\n",
        "\n",
        "    if any(tok.lemma_.lower() in preventive_keywords for tok in doc):\n",
        "        explanations.append(\"✓ Preventive action verb detected (e.g., 'prevent', 'stop')\")\n",
        "        score += 2\n",
        "\n",
        "    if any(tok.lemma_ in causal_verbs for tok in doc if tok.pos_ == \"VERB\"):\n",
        "        explanations.append(\"✓ Causal/preventive verb from FrameNet detected\")\n",
        "        score += 2\n",
        "\n",
        "    if any(tok.text.lower() in {\"if\", \"unless\"} for tok in doc):\n",
        "        explanations.append(\"✓ Conditional clause found (e.g., 'if', 'unless')\")\n",
        "        score += 1\n",
        "\n",
        "    if any(is_fear_related(tok) for tok in doc if tok.pos_ in {\"NOUN\", \"VERB\", \"ADJ\"}):\n",
        "        explanations.append(\"✓ Semantic fear-related concept detected via WordNet\")\n",
        "        score += 2\n",
        "\n",
        "    if any(phrase in question.lower() for phrase in urgency_keywords):\n",
        "        explanations.append(\"✓ Urgency marker detected (e.g., 'immediately', 'before it's too late')\")\n",
        "        score += 1\n",
        "\n",
        "    if any(tok.lemma_ in possibility_terms for tok in doc):\n",
        "        explanations.append(\"✓ Possibility-related term detected (e.g., 'possible', 'feasible', 'chance')\")\n",
        "        score += 1\n",
        "\n",
        "    score = min(score, 10)\n",
        "    label = \"Strong Fear Appeal\" if score >= 7 else \"Weak/Partial Fear Appeal\" if score >= 4 else \"Not Fear Appeal\"\n",
        "    return label, score, explanations"
      ],
      "id": "20c226f30a96e860"
    },
    {
      "metadata": {
        "id": "b97ff65f17c22761"
      },
      "cell_type": "markdown",
      "source": [
        "## Augmentation"
      ],
      "id": "b97ff65f17c22761"
    },
    {
      "metadata": {
        "id": "8817b62f875bc86c"
      },
      "cell_type": "code",
      "outputs": [],
      "execution_count": null,
      "source": [
        "client = OpenAI(api_key=api_key)\n",
        "\n",
        "schemas_template = {\n",
        "    \"CauseToEffect\": \"\"\"'Cause to Effect' with the examples:\n",
        "    How strong is the generalisation that if <eventA> then <eventB>?\n",
        "    Are there other factors in this particular case that could have interfered with the event of ‘<eventB>’?\"\"\",\n",
        "\n",
        "    \"ExpertOpinion\": \"\"\"'Expert Opinion' with the examples:\n",
        "    Is <expertE> a genuine expert in <domainD>?\n",
        "    Is <eventA> consistent with what other experts in <domainD> say?\"\"\",\n",
        "\n",
        "    \"Analogy\": \"\"\"'Analogy' with the examples:\n",
        "    Are <C1> and <C2> similar in the respect cited?\n",
        "    Is <eventA> true in <C1>?\"\"\",\n",
        "\n",
        "    \"FearAppeal\": \"\"\"'Fear Appeal' with the examples:\n",
        "    Is <eventB> bad? Why and to whom is it bad?\n",
        "    Is <eventA> a way to prevent <eventB>?\"\"\"\n",
        "}"
      ],
      "id": "8817b62f875bc86c"
    },
    {
      "metadata": {
        "id": "f58fbd825d159da9"
      },
      "cell_type": "code",
      "outputs": [],
      "execution_count": null,
      "source": [
        "def generate_question(context, schema_description):\n",
        "    prompt = (f\"Generate one critical question addressing the provided context. \"\n",
        "              f\"Ensure it matches the schema: {schema_description}\\n\\n\"\n",
        "              f\"Context: {context}\\n\\n\"\n",
        "              f\"Question:\")\n",
        "\n",
        "    try:\n",
        "        response = client.chat.completions.create(\n",
        "            model=\"gpt-3.5-turbo\",\n",
        "            messages=[{\"role\": \"user\", \"content\": prompt}],\n",
        "            temperature=0.7,\n",
        "            max_tokens=60,\n",
        "        )\n",
        "        question = response.choices[0].message.content.strip()\n",
        "        return question\n",
        "    except Exception as e:\n",
        "        print(f\"Error generating question: {e}\")\n",
        "        return None"
      ],
      "id": "f58fbd825d159da9"
    },
    {
      "metadata": {
        "id": "e0448c46eb9c17fe"
      },
      "cell_type": "markdown",
      "source": [
        "### Generate bad questions\n",
        "We generate questions an evaluate them. They have to score below 7 to be accepted as a rejected question."
      ],
      "id": "e0448c46eb9c17fe"
    },
    {
      "metadata": {
        "id": "995975ce21011348"
      },
      "cell_type": "code",
      "outputs": [],
      "execution_count": null,
      "source": [
        "# Preparing the final dataset\n",
        "final_data = []\n",
        "i = 0\n",
        "for idx, row in critical_true.iterrows():\n",
        "    chosen_question = row['question']  # Save the old question\n",
        "    schema_options = [schema for schema in ['CauseToEffect', 'ExpertOpinion', 'Analogy', 'FearAppeal']\n",
        "                      if row.get(schema, 0) >= 7]\n",
        "\n",
        "    for chosen_schema in schema_options:\n",
        "        schema_description = schemas_template[chosen_schema]\n",
        "        score_chosen = row[chosen_schema]\n",
        "        attempts = 0\n",
        "        score = 0\n",
        "        rejected_question = None\n",
        "\n",
        "        # Attempt to generate a better question\n",
        "        while attempts < 3:\n",
        "            attempts += 1\n",
        "            generated_question = generate_question(row['context'], schema_description)\n",
        "\n",
        "            if generated_question is None:\n",
        "                continue\n",
        "\n",
        "            # Evaluate generated question\n",
        "            if chosen_schema == \"CauseToEffect\":\n",
        "                label, score, explanation = detect_cause_to_effect(generated_question)\n",
        "            elif chosen_schema == \"ExpertOpinion\":\n",
        "                label, score, explanation = detect_expert_opinion(generated_question)\n",
        "            elif chosen_schema == \"Analogy\":\n",
        "                label, score, explanation = detect_analogy_question(generated_question)\n",
        "            elif chosen_schema == \"FearAppeal\":\n",
        "                label, score, explanation = detect_fear_appeal_question(generated_question)\n",
        "            else:\n",
        "                score = 0\n",
        "\n",
        "            print(\n",
        "                f\"ID: {i}: Attempt {attempts}, Score: {score}, Schema: {chosen_schema} Generated question:\\n{generated_question}\")\n",
        "\n",
        "            # If the question is not good enough, reject it\n",
        "            if score < 7:\n",
        "                rejected_question = generated_question\n",
        "                break\n",
        "\n",
        "        final_data.append({\n",
        "            \"id\": i,\n",
        "            \"prompt\": [{\"role\": \"user\",\n",
        "                        \"content\": f\"Generate one critical question addressing the provided context. Ensure it matches the schema: {chosen_schema}\\n\\nContext: {row['context']}\"}],\n",
        "            \"chosen\": [{\"role\": \"assistant\", \"content\": chosen_question}],\n",
        "            \"rejected\": [{\"role\": \"assistant\", \"content\": rejected_question if rejected_question else \"Failed\"}],\n",
        "            \"score_chosen\": score_chosen,\n",
        "            \"score_rejected\": score,\n",
        "            \"schema\": chosen_schema,\n",
        "            \"context\": row['context']\n",
        "        })\n",
        "\n",
        "        time.sleep(0.1)\n",
        "        i += 1\n",
        "\n",
        "# Convert final data into DataFrame and save it\n",
        "final_df = pd.DataFrame(final_data)\n",
        "import json\n",
        "\n",
        "with open(output_file, 'w') as f:\n",
        "    json.dump(final_data, f, indent=4)\n",
        "\n",
        "print(f\"Dataset successfully created and saved to {output_file}.\")"
      ],
      "id": "995975ce21011348"
    },
    {
      "metadata": {
        "id": "4369963af66cce02"
      },
      "cell_type": "code",
      "outputs": [],
      "execution_count": null,
      "source": [
        "dataset = load_dataset('json', data_files=output_file)\n",
        "print(dataset)"
      ],
      "id": "4369963af66cce02"
    },
    {
      "metadata": {
        "id": "8102754636e76a3"
      },
      "cell_type": "markdown",
      "source": [
        "Delete all entries where gpt-3.5-turbo generated no valid question."
      ],
      "id": "8102754636e76a3"
    },
    {
      "metadata": {
        "id": "25e0703896876793"
      },
      "cell_type": "code",
      "outputs": [],
      "execution_count": null,
      "source": [
        "# Load the JSON data\n",
        "with open(output_file, 'r') as f:\n",
        "    data = json.load(f)\n",
        "\n",
        "# Filter out entries where any item in 'rejected' has content \"Failed\"\n",
        "filtered_data = []\n",
        "for item in data:\n",
        "    if not any(entry.get('content') == 'Failed' for entry in item.get('rejected', [])):\n",
        "        filtered_data.append(item)\n",
        "\n",
        "# Save the cleaned data to a new file\n",
        "with open(output_file, 'w') as f:\n",
        "    json.dump(filtered_data, f, indent=2)\n",
        "\n",
        "print(f\"Removed {len(data) - len(filtered_data)} entries with 'Failed' in rejected content.\")"
      ],
      "id": "25e0703896876793"
    },
    {
      "metadata": {
        "id": "dd13d42cd28597a9"
      },
      "cell_type": "markdown",
      "source": [
        "Analyse generated preference dataset"
      ],
      "id": "dd13d42cd28597a9"
    },
    {
      "metadata": {
        "id": "fdb35f6cc25be5d9"
      },
      "cell_type": "code",
      "outputs": [],
      "execution_count": null,
      "source": [
        "dataset = load_dataset('json', data_files=output_file)\n",
        "print(dataset)"
      ],
      "id": "fdb35f6cc25be5d9"
    },
    {
      "metadata": {
        "id": "79cc9c74f96b6f64"
      },
      "cell_type": "code",
      "outputs": [],
      "execution_count": null,
      "source": [
        "print(dataset['train'][0])"
      ],
      "id": "79cc9c74f96b6f64"
    },
    {
      "metadata": {
        "id": "124d80baf5b9d852"
      },
      "cell_type": "code",
      "outputs": [],
      "execution_count": null,
      "source": [
        "data = dataset['train']\n",
        "\n",
        "# Count occurrences of each schema\n",
        "schema_counts = Counter(data['schema'])\n",
        "print(schema_counts)\n",
        "# Convert to a format Plotly understands\n",
        "schema_freq = {\n",
        "    'Schema': list(schema_counts.keys()),\n",
        "    'Count': list(schema_counts.values())\n",
        "}\n",
        "\n",
        "# Create a bar chart\n",
        "fig = px.bar(schema_freq, x='Schema', y='Count', title='Schema Frequency in DPO Dataset')\n",
        "fig.show()"
      ],
      "id": "124d80baf5b9d852"
    },
    {
      "cell_type": "markdown",
      "source": [
        "## Push to GitHub"
      ],
      "metadata": {
        "id": "njjT53G_9sQp"
      },
      "id": "njjT53G_9sQp"
    },
    {
      "cell_type": "code",
      "source": [
        "if PUSH_TO_GITHUB:\n",
        "  os.chdir(\"NLP2025_CQG\")\n",
        "  !ls\n",
        "  !git config --global user.name \"Rico Städeli\"\n",
        "  !git config --global user.email \"rico@yabriga.ch \"\n",
        "\n",
        "  commit_message = f\"DPO Dataset Generation\"\n",
        "  !git add .\n",
        "  !git commit -m \"{commit_message}\"\n",
        "  !git push"
      ],
      "metadata": {
        "id": "s__ysq2M9v_u"
      },
      "id": "s__ysq2M9v_u",
      "execution_count": null,
      "outputs": []
    }
  ],
  "metadata": {
    "colab": {
      "provenance": [],
      "include_colab_link": true
    },
    "language_info": {
      "name": "python"
    },
    "kernelspec": {
      "name": "python3",
      "display_name": "Python 3"
    }
  },
  "nbformat": 4,
  "nbformat_minor": 5
}