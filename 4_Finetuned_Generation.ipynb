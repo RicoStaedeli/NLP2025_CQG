{
  "cells": [
    {
      "cell_type": "markdown",
      "metadata": {
        "id": "view-in-github",
        "colab_type": "text"
      },
      "source": [
        "<a href=\"https://colab.research.google.com/github/RicoStaedeli/NLP2025_CQG/blob/main/4_Finetuned_Generation.ipynb\" target=\"_parent\"><img src=\"https://colab.research.google.com/assets/colab-badge.svg\" alt=\"Open In Colab\"/></a>"
      ]
    },
    {
      "metadata": {
        "id": "d44ba819438d4c7f"
      },
      "cell_type": "markdown",
      "source": [
        "# Finetuned Predictions\n",
        "In this file we generate the finetuned predictions"
      ],
      "id": "d44ba819438d4c7f"
    },
    {
      "cell_type": "markdown",
      "source": [
        "## Setup"
      ],
      "metadata": {
        "id": "6yd9jnEIPiXa"
      },
      "id": "6yd9jnEIPiXa"
    },
    {
      "cell_type": "code",
      "source": [
        "!pip install -U transformers\n",
        "!pip install accelerate bitsandbytes"
      ],
      "metadata": {
        "id": "HbEouL7eL0AB"
      },
      "id": "HbEouL7eL0AB",
      "execution_count": null,
      "outputs": []
    },
    {
      "metadata": {
        "ExecuteTime": {
          "end_time": "2025-04-28T13:09:03.252191Z",
          "start_time": "2025-04-28T13:09:02.197619Z"
        },
        "id": "56e5bbe87af65278"
      },
      "cell_type": "code",
      "source": [
        "import torch\n",
        "from google.colab import userdata\n",
        "import logging\n",
        "import transformers\n",
        "import os\n",
        "import gc\n",
        "from transformers import AutoModelForCausalLM, AutoTokenizer\n",
        "from bitsandbytes import nn as bnb_nn\n",
        "from tqdm.auto import tqdm\n",
        "import pandas as pd\n",
        "import json\n",
        "from collections import defaultdict\n",
        "os.environ[\"PYTORCH_CUDA_ALLOC_CONF\"] = \"expandable_segments:True\""
      ],
      "id": "56e5bbe87af65278",
      "outputs": [],
      "execution_count": null
    },
    {
      "cell_type": "code",
      "source": [
        "token = userdata.get('GITHUB')\n",
        "repo_url = f\"https://{token}@github.com/RicoStaedeli/NLP2025_CQG.git\"\n",
        "\n",
        "!git clone {repo_url}"
      ],
      "metadata": {
        "id": "7tOU4FCdPmop"
      },
      "id": "7tOU4FCdPmop",
      "execution_count": null,
      "outputs": []
    },
    {
      "cell_type": "code",
      "source": [
        "os.chdir(\"NLP2025_CQG\")\n",
        "!ls"
      ],
      "metadata": {
        "id": "9jACHoyYTqGU"
      },
      "id": "9jACHoyYTqGU",
      "execution_count": null,
      "outputs": []
    },
    {
      "metadata": {
        "ExecuteTime": {
          "end_time": "2025-04-28T13:09:03.322602Z",
          "start_time": "2025-04-28T13:09:03.308445Z"
        },
        "id": "c97a513058176f9f"
      },
      "cell_type": "code",
      "source": [
        "################################################################################\n",
        "#######################   PATH VARIABLES        ################################\n",
        "################################################################################\n",
        "\n",
        "model_name= \"Meta-Llama-3.1-1B-Instruct_SFT_2\"\n",
        "model_id= f\"ricostaedeli/{model_name}\"\n",
        "\n",
        "test_dataset_path = f\"Data/Processed/test.csv\"\n",
        "\n",
        "results_path = os.path.join(os.getcwd(), f\"Evaluation/Results/results_{model_name}.json\")\n",
        "\n",
        "log_base_path = f\"Logs/\"\n",
        "os.makedirs(log_base_path, exist_ok=True)\n",
        "\n",
        "log_path = log_base_path + \"4_cqs_generation_SFT_2.log\"\n",
        "\n",
        "\n",
        "################################################################################\n",
        "#######################   STATIC VARIABLES      ################################\n",
        "################################################################################\n"
      ],
      "id": "c97a513058176f9f",
      "outputs": [],
      "execution_count": null
    },
    {
      "cell_type": "code",
      "source": [
        "# Setup logger manually\n",
        "logger = logging.getLogger(__name__)\n",
        "logger.setLevel(logging.INFO)\n",
        "\n",
        "# Create file handler (only if not already added)\n",
        "if not logger.handlers:\n",
        "    fh = logging.FileHandler(log_path)\n",
        "    fh.setLevel(logging.INFO)\n",
        "    formatter = logging.Formatter('%(asctime)s - %(levelname)s - %(message)s')\n",
        "    fh.setFormatter(formatter)\n",
        "    logger.addHandler(fh)\n",
        "\n",
        "# Detect device\n",
        "device = torch.device(\n",
        "    \"mps\" if torch.backends.mps.is_available()\n",
        "    else \"cuda\" if torch.cuda.is_available()\n",
        "    else \"cpu\"\n",
        ")\n",
        "\n",
        "# Log the device info\n",
        "logger.info(\"--------  Start with Baseline Generation  -------------\")\n",
        "logger.info(f'Device selected: {device}')\n",
        "logger.info(f'Results Path: {results_path}')\n",
        "logger.info(f'Log Path: {log_path}')\n",
        "logger.info(\"--------------------------------------------------------\")"
      ],
      "metadata": {
        "id": "zbgFJsxgKi40"
      },
      "id": "zbgFJsxgKi40",
      "execution_count": null,
      "outputs": []
    },
    {
      "cell_type": "markdown",
      "source": [
        "## Generate Answers"
      ],
      "metadata": {
        "id": "z-iPCguiZEoP"
      },
      "id": "z-iPCguiZEoP"
    },
    {
      "cell_type": "code",
      "source": [
        "tokenizer = AutoTokenizer.from_pretrained(model_id)\n",
        "\n",
        "model = AutoModelForCausalLM.from_pretrained(\n",
        "    model_id,\n",
        "    torch_dtype=torch.float16,\n",
        "    device_map=\"cuda\",\n",
        "    quantization_config={\n",
        "        \"load_in_4bit\": True,\n",
        "        \"bnb_4bit_compute_dtype\": torch.float16,\n",
        "    },\n",
        "    low_cpu_mem_usage=True,\n",
        ")\n",
        "\n",
        "def generate_response(prompt_texts, max_new_tokens=64):\n",
        "    inputs = tokenizer(prompt_texts, return_tensors=\"pt\", padding=True, truncation=True).to(\"cuda\")\n",
        "\n",
        "    outputs = model.generate(\n",
        "        **inputs,\n",
        "        max_new_tokens=max_new_tokens,\n",
        "        do_sample=True,\n",
        "        temperature=0.7,\n",
        "        top_p=0.9,\n",
        "        eos_token_id=tokenizer.eos_token_id,\n",
        "    )\n",
        "\n",
        "    decoded = tokenizer.batch_decode(outputs, skip_special_tokens=True)\n",
        "\n",
        "    responses = []\n",
        "    for full_output in decoded:\n",
        "        # Extract text after ### Response:\n",
        "        if \"### Response:\" in full_output:\n",
        "            response = full_output.split(\"### Response:\")[-1].strip()\n",
        "        else:\n",
        "            response = full_output.strip()\n",
        "\n",
        "        # Remove leading 'assistant\\n\\n' if present\n",
        "        if response.lower().startswith(\"assistant\"):\n",
        "            response = response[len(\"assistant\"):].lstrip(\"\\n \").strip()\n",
        "\n",
        "        responses.append(response)\n",
        "    return responses"
      ],
      "metadata": {
        "id": "kZMTizDtafpX"
      },
      "id": "kZMTizDtafpX",
      "execution_count": null,
      "outputs": []
    },
    {
      "cell_type": "code",
      "source": [
        "# del model\n",
        "# gc.collect()\n",
        "# torch.cuda.empty_cache()"
      ],
      "metadata": {
        "id": "lbw5xP-5tF-k"
      },
      "id": "lbw5xP-5tF-k",
      "execution_count": null,
      "outputs": []
    },
    {
      "cell_type": "code",
      "source": [
        "schemas = {\n",
        "\"CauseToEffect\": \"\"\"'Cause to Effect' with the examples:\n",
        "How strong is the generalisation that if <eventA> then <eventB>?\n",
        "Are there other factors in this particular case that could have interfered with the event of‘<eventB>’?\"\"\",\n",
        "\n",
        "\"ExpertOpinion\": \"\"\"'Expert Opinion' with the examples:\n",
        "Is <expertE> a genuine expert in <domainD>?\n",
        "Is <eventA> consistent with what other experts in <domainD> say? \"\"\",\n",
        "\n",
        "\"Analogy\": \"\"\"'Analogy' with the examples:\n",
        "Are <C1> and <C2> similar in the respect cited?\n",
        "Is <eventA> true in <C1>?\"\"\",\n",
        "\n",
        "\"FearAppeal\": \"\"\"'Fear Appeal' with the examples:\n",
        "Is <eventB> bad? Why and to whom is it bad?\n",
        "Is <eventA> away to prevent <eventB>?\"\"\"\n",
        "}"
      ],
      "metadata": {
        "id": "NI_HFhcuToNe"
      },
      "id": "NI_HFhcuToNe",
      "execution_count": null,
      "outputs": []
    },
    {
      "cell_type": "code",
      "source": [
        "results = {}\n",
        "chunk_size = 20\n",
        "\n",
        "for chunk in pd.read_csv(test_dataset_path, chunksize=chunk_size):\n",
        "    contexts = chunk['input'].tolist()\n",
        "    ids = chunk['id'].tolist()\n",
        "    prompts = []\n",
        "    input_ids = []\n",
        "    schema_ids = []\n",
        "\n",
        "\n",
        "    for idx, input_text in enumerate(contexts):\n",
        "        input_id = ids[idx]\n",
        "        for schema_name, schema_template in schemas.items():\n",
        "            messages = [\n",
        "                {\"role\": \"system\", \"content\": \"You are a system designed to generate critical questions for a given argumentative context. You write clear and human understandable one sentence questions.\"},\n",
        "                {\"role\": \"user\", \"content\": f\"\"\"Below is an instruction that describes a task, paired with an input that provides further context.\n",
        "\n",
        "### Instruction:\n",
        "Write a question that fits one of the given question schema types. If you are not able to create a useful and understandable question out of the given context please indicate with None.\n",
        "\n",
        "### Question Schema Types::\n",
        "{schema_template}\n",
        "\n",
        "Your answer is just the question without anything else.\n",
        "\n",
        "This is the given context to relate the question to:\n",
        "\n",
        "### Context:\n",
        "{input_text}\n",
        "\n",
        "### Response:\n",
        "\n",
        "\"\"\"}\n",
        "            ]\n",
        "            prompt_text = tokenizer.apply_chat_template(messages, tokenize=False, add_generation_prompt=True)\n",
        "            prompts.append(prompt_text)\n",
        "            input_ids.append(input_id)\n",
        "            schema_ids.append(schema_name)\n",
        "\n",
        "    batch_size = 64\n",
        "    num_batches = (len(prompts) + batch_size - 1) // batch_size\n",
        "\n",
        "    with tqdm(total=num_batches, desc=\"Generating Critical Questions\", leave=True) as pbar:\n",
        "        for batch_start in range(0, len(prompts), batch_size):\n",
        "            batch_prompts = prompts[batch_start:batch_start+batch_size]\n",
        "            batch_outputs = generate_response(batch_prompts, max_new_tokens=256)\n",
        "\n",
        "            for curr_id, schema_name, output in zip(\n",
        "                input_ids[batch_start:batch_start + batch_size],\n",
        "                schema_ids[batch_start:batch_start + batch_size],\n",
        "                batch_outputs\n",
        "                ):\n",
        "                if curr_id not in results:\n",
        "                    results[curr_id] = {\n",
        "                        \"input\": chunk.loc[chunk['id'] == curr_id, 'input'].values[0],\n",
        "                        \"cqs\": []\n",
        "                    }\n",
        "                results[curr_id]['cqs'].append({\n",
        "                    \"schema\": schema_name,\n",
        "                    \"cq\": output\n",
        "                    })\n",
        "\n",
        "            torch.cuda.empty_cache()\n",
        "            gc.collect()\n",
        "            pbar.update(1)\n",
        "\n",
        "with open(results_path, 'w', encoding='utf-8') as f:\n",
        "    json.dump(results, f, ensure_ascii=False, indent=2)\n",
        "\n",
        "print(f\"Results saved to {results_path}\")\n"
      ],
      "metadata": {
        "id": "EsKpCsliagRc"
      },
      "id": "EsKpCsliagRc",
      "execution_count": null,
      "outputs": []
    },
    {
      "cell_type": "markdown",
      "source": [
        "## Commit & Push"
      ],
      "metadata": {
        "id": "Pqf89mWeUFAl"
      },
      "id": "Pqf89mWeUFAl"
    },
    {
      "cell_type": "code",
      "source": [
        "!git config --global user.name \"Showcas\"\n",
        "!git config --global user.email \"cedric.bohni@gmx.de\"\n",
        "\n",
        "\n",
        "commit_message = f\"Finetuned generation\"\n",
        "!git add .\n",
        "!git commit -m \"{commit_message}\"\n",
        "!git push"
      ],
      "metadata": {
        "id": "yDYJfL1_UEg-"
      },
      "id": "yDYJfL1_UEg-",
      "execution_count": null,
      "outputs": []
    }
  ],
  "metadata": {
    "colab": {
      "provenance": [],
      "machine_shape": "hm",
      "gpuType": "A100",
      "name": "2_baseline_cqs_generation_schema.ipynb",
      "include_colab_link": true
    },
    "language_info": {
      "name": "python"
    },
    "kernelspec": {
      "name": "python3",
      "display_name": "Python 3"
    },
    "accelerator": "GPU"
  },
  "nbformat": 4,
  "nbformat_minor": 5
}